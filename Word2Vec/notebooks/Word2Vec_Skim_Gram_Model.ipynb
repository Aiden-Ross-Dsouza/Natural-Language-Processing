{
  "cells": [
    {
      "cell_type": "markdown",
      "metadata": {
        "id": "view-in-github",
        "colab_type": "text"
      },
      "source": [
        "<a href=\"https://colab.research.google.com/github/Aiden-Ross-Dsouza/Natural-Language-Processing/blob/main/Word2Vec/notebooks/Word2Vec_Skim_Gram_Model.ipynb\" target=\"_parent\"><img src=\"https://colab.research.google.com/assets/colab-badge.svg\" alt=\"Open In Colab\"/></a>"
      ]
    },
    {
      "cell_type": "markdown",
      "source": [
        "# Import Libraries"
      ],
      "metadata": {
        "id": "MQsRZrTLz99-"
      }
    },
    {
      "cell_type": "code",
      "execution_count": 1,
      "metadata": {
        "id": "0nN-aSctF95h"
      },
      "outputs": [],
      "source": [
        "import numpy as np\n",
        "import torch\n",
        "import torchvision\n",
        "import matplotlib.pyplot as plt\n",
        "from sklearn.decomposition import PCA\n",
        "import plotly.express as px"
      ]
    },
    {
      "cell_type": "markdown",
      "source": [
        "# Prepare Corpus"
      ],
      "metadata": {
        "id": "Q6ayVcW862h7"
      }
    },
    {
      "cell_type": "code",
      "execution_count": 2,
      "metadata": {
        "colab": {
          "base_uri": "https://localhost:8080/"
        },
        "id": "LMDfvtM03GyU",
        "outputId": "a7db250e-06d4-4a98-bdc5-af23d2e0b648"
      },
      "outputs": [
        {
          "output_type": "stream",
          "name": "stdout",
          "text": [
            "['Cell phones have gone from a sought-after luxury to a daily necessity', ' While these devices provide convenient access to the outside world they can be problematic for educators', ' High school teachers can tell children in their classes to put their phones away but should professors have the same control over adult men and women The key is to create cell phone usage policies that limit distractions without hindering student rights', ' The primary argument supporting cell phone control in the classroom is the fact that phones can be distracting', ' Not only do cell phones distract instructors but they may also distract students trying to pay attention to the lecture', ' This is the same effect as a moviegoer looking at his phone in a theater', ' Even if the phone makes no noise the light from the screen is enough to catch someones attention', ' Arguments against cell phone control typically focus on safety concerns', ' Should a crisis occur in the classroom students should have their phones on hand to make a call', ' If a student has a child he or she may need a phone in case of a medical emergency', ' If the student is on call for work he or she will need access to a phone', ' The list of exceptionworthy scenarios is endless', ' The best solution is to create cell phone usage rules that allow devices to be accessible without disturbing other students educational opportunities', ' Students should be permitted to keep their phones in their bags pockets or other belongings as long as the phones are on silent in class', ' Vibrate settings may be permitted if the instructor does not believe it will distract him or her since the noise of the vibration may not be noticeable in a large classroom', ' If a student needs to answer the phone during an emergency he or she can step out of the classroom to do so', ' This setup would give the students and the instructor peace of mind', ' Cell phone restrictions in classrooms should also include specific disciplinary actions for breaking the rules', ' If a student is caught using the phone in class he or she should be excused for the rest of the day', ' Professors should refrain from physically taking possession of a students phone because of liability conflicts', ' If the phone is damaged while in the professors possession the school or the instructor could be held responsible for the repairs', ' It is safer to ask the student to leave the classroom than it is to take the phone away completely', ' Each school professor and student body is different', ' Colleges must adapt their rules and discipline efforts to reflect the current needs of their students', ' Eliminating cell phones in college classrooms is an overstretch but there are ways to balance students rights and instructors rights', ' With the right amount of control and flexibility colleges can create a pleasant learning environment with maximum safety and minimal interruptions', '']\n"
          ]
        }
      ],
      "source": [
        "corpus = \"Cell phones have gone from a sought-after luxury to a daily necessity. While these devices provide convenient access to the outside world, they can be problematic for educators. High school teachers can tell children in their classes to put their phones away, but should professors have the same control over adult men and women? The key is to create cell phone usage policies that limit distractions without hindering student rights. The primary argument supporting cell phone control in the classroom is the fact that phones can be distracting. Not only do cell phones distract instructors, but they may also distract students trying to pay attention to the lecture. This is the same effect as a moviegoer looking at his phone in a theater. Even if the phone makes no noise, the light from the screen is enough to catch someone's attention. Arguments against cell phone control typically focus on safety concerns. Should a crisis occur in the classroom, students should have their phones on hand to make a call. If a student has a child, he or she may need a phone in case of a medical emergency. If the student is on call for work, he or she will need access to a phone. The list of exceptionworthy scenarios is endless. The best solution is to create cell phone usage rules that allow devices to be accessible without disturbing other students' educational opportunities. Students should be permitted to keep their phones in their bags, pockets, or other belongings as long as the phones are on silent in class. Vibrate settings may be permitted if the instructor does not believe it will distract him or her, since the noise of the vibration may not be noticeable in a large classroom. If a student needs to answer the phone during an emergency, he or she can step out of the classroom to do so. This setup would give the students and the instructor peace of mind. Cell phone restrictions in classrooms should also include specific disciplinary actions for breaking the rules. If a student is caught using the phone in class, he or she should be excused for the rest of the day. Professors should refrain from physically taking possession of a student's phone because of liability conflicts. If the phone is damaged while in the professor's possession, the school or the instructor could be held responsible for the repairs. It is safer to ask the student to leave the classroom than it is to take the phone away completely. Each school, professor and student body is different. Colleges must adapt their rules and discipline efforts to reflect the current needs of their students. Eliminating cell phones in college classrooms is an overstretch, but there are ways to balance students' rights and instructors' rights. With the right amount of control and flexibility, colleges can create a pleasant learning environment with maximum safety and minimal interruptions.\"\n",
        "corpus = corpus.replace(',','')\n",
        "corpus = corpus.replace('\\'','')\n",
        "corpus = corpus.replace('?','')\n",
        "corpus = corpus.split('.')\n",
        "print(corpus)"
      ]
    },
    {
      "cell_type": "code",
      "execution_count": 3,
      "metadata": {
        "colab": {
          "base_uri": "https://localhost:8080/"
        },
        "id": "5EQXnQAn3f8R",
        "outputId": "d050edb4-5b4d-4b00-9089-0adb37bfed8e"
      },
      "outputs": [
        {
          "output_type": "stream",
          "name": "stdout",
          "text": [
            "[['Cell', 'phones', 'have', 'gone', 'from', 'a', 'sought-after', 'luxury', 'to', 'a', 'daily', 'necessity'], ['While', 'these', 'devices', 'provide', 'convenient', 'access', 'to', 'the', 'outside', 'world', 'they', 'can', 'be', 'problematic', 'for', 'educators'], ['High', 'school', 'teachers', 'can', 'tell', 'children', 'in', 'their', 'classes', 'to', 'put', 'their', 'phones', 'away', 'but', 'should', 'professors', 'have', 'the', 'same', 'control', 'over', 'adult', 'men', 'and', 'women', 'The', 'key', 'is', 'to', 'create', 'cell', 'phone', 'usage', 'policies', 'that', 'limit', 'distractions', 'without', 'hindering', 'student', 'rights'], ['The', 'primary', 'argument', 'supporting', 'cell', 'phone', 'control', 'in', 'the', 'classroom', 'is', 'the', 'fact', 'that', 'phones', 'can', 'be', 'distracting'], ['Not', 'only', 'do', 'cell', 'phones', 'distract', 'instructors', 'but', 'they', 'may', 'also', 'distract', 'students', 'trying', 'to', 'pay', 'attention', 'to', 'the', 'lecture'], ['This', 'is', 'the', 'same', 'effect', 'as', 'a', 'moviegoer', 'looking', 'at', 'his', 'phone', 'in', 'a', 'theater'], ['Even', 'if', 'the', 'phone', 'makes', 'no', 'noise', 'the', 'light', 'from', 'the', 'screen', 'is', 'enough', 'to', 'catch', 'someones', 'attention'], ['Arguments', 'against', 'cell', 'phone', 'control', 'typically', 'focus', 'on', 'safety', 'concerns'], ['Should', 'a', 'crisis', 'occur', 'in', 'the', 'classroom', 'students', 'should', 'have', 'their', 'phones', 'on', 'hand', 'to', 'make', 'a', 'call'], ['If', 'a', 'student', 'has', 'a', 'child', 'he', 'or', 'she', 'may', 'need', 'a', 'phone', 'in', 'case', 'of', 'a', 'medical', 'emergency'], ['If', 'the', 'student', 'is', 'on', 'call', 'for', 'work', 'he', 'or', 'she', 'will', 'need', 'access', 'to', 'a', 'phone'], ['The', 'list', 'of', 'exceptionworthy', 'scenarios', 'is', 'endless'], ['The', 'best', 'solution', 'is', 'to', 'create', 'cell', 'phone', 'usage', 'rules', 'that', 'allow', 'devices', 'to', 'be', 'accessible', 'without', 'disturbing', 'other', 'students', 'educational', 'opportunities'], ['Students', 'should', 'be', 'permitted', 'to', 'keep', 'their', 'phones', 'in', 'their', 'bags', 'pockets', 'or', 'other', 'belongings', 'as', 'long', 'as', 'the', 'phones', 'are', 'on', 'silent', 'in', 'class'], ['Vibrate', 'settings', 'may', 'be', 'permitted', 'if', 'the', 'instructor', 'does', 'not', 'believe', 'it', 'will', 'distract', 'him', 'or', 'her', 'since', 'the', 'noise', 'of', 'the', 'vibration', 'may', 'not', 'be', 'noticeable', 'in', 'a', 'large', 'classroom'], ['If', 'a', 'student', 'needs', 'to', 'answer', 'the', 'phone', 'during', 'an', 'emergency', 'he', 'or', 'she', 'can', 'step', 'out', 'of', 'the', 'classroom', 'to', 'do', 'so'], ['This', 'setup', 'would', 'give', 'the', 'students', 'and', 'the', 'instructor', 'peace', 'of', 'mind'], ['Cell', 'phone', 'restrictions', 'in', 'classrooms', 'should', 'also', 'include', 'specific', 'disciplinary', 'actions', 'for', 'breaking', 'the', 'rules'], ['If', 'a', 'student', 'is', 'caught', 'using', 'the', 'phone', 'in', 'class', 'he', 'or', 'she', 'should', 'be', 'excused', 'for', 'the', 'rest', 'of', 'the', 'day'], ['Professors', 'should', 'refrain', 'from', 'physically', 'taking', 'possession', 'of', 'a', 'students', 'phone', 'because', 'of', 'liability', 'conflicts'], ['If', 'the', 'phone', 'is', 'damaged', 'while', 'in', 'the', 'professors', 'possession', 'the', 'school', 'or', 'the', 'instructor', 'could', 'be', 'held', 'responsible', 'for', 'the', 'repairs'], ['It', 'is', 'safer', 'to', 'ask', 'the', 'student', 'to', 'leave', 'the', 'classroom', 'than', 'it', 'is', 'to', 'take', 'the', 'phone', 'away', 'completely'], ['Each', 'school', 'professor', 'and', 'student', 'body', 'is', 'different'], ['Colleges', 'must', 'adapt', 'their', 'rules', 'and', 'discipline', 'efforts', 'to', 'reflect', 'the', 'current', 'needs', 'of', 'their', 'students'], ['Eliminating', 'cell', 'phones', 'in', 'college', 'classrooms', 'is', 'an', 'overstretch', 'but', 'there', 'are', 'ways', 'to', 'balance', 'students', 'rights', 'and', 'instructors', 'rights'], ['With', 'the', 'right', 'amount', 'of', 'control', 'and', 'flexibility', 'colleges', 'can', 'create', 'a', 'pleasant', 'learning', 'environment', 'with', 'maximum', 'safety', 'and', 'minimal', 'interruptions'], []]\n"
          ]
        }
      ],
      "source": [
        "def tokenize_corpus(corpus):\n",
        "    tokens = [x.split() for x in corpus]\n",
        "    return tokens\n",
        "\n",
        "tokenized_corpus = tokenize_corpus(corpus)\n",
        "print(tokenized_corpus)"
      ]
    },
    {
      "cell_type": "markdown",
      "source": [
        "# Build Vocabulary"
      ],
      "metadata": {
        "id": "lyf3fy656-RH"
      }
    },
    {
      "cell_type": "code",
      "execution_count": 4,
      "metadata": {
        "colab": {
          "base_uri": "https://localhost:8080/"
        },
        "id": "cWfIiq8O4DFo",
        "outputId": "6c7063a2-b877-4cd4-fc31-2823df9687ea"
      },
      "outputs": [
        {
          "output_type": "stream",
          "name": "stdout",
          "text": [
            "{'Cell': 0, 'phones': 1, 'have': 2, 'gone': 3, 'from': 4, 'a': 5, 'sought-after': 6, 'luxury': 7, 'to': 8, 'daily': 9, 'necessity': 10, 'While': 11, 'these': 12, 'devices': 13, 'provide': 14, 'convenient': 15, 'access': 16, 'the': 17, 'outside': 18, 'world': 19, 'they': 20, 'can': 21, 'be': 22, 'problematic': 23, 'for': 24, 'educators': 25, 'High': 26, 'school': 27, 'teachers': 28, 'tell': 29, 'children': 30, 'in': 31, 'their': 32, 'classes': 33, 'put': 34, 'away': 35, 'but': 36, 'should': 37, 'professors': 38, 'same': 39, 'control': 40, 'over': 41, 'adult': 42, 'men': 43, 'and': 44, 'women': 45, 'The': 46, 'key': 47, 'is': 48, 'create': 49, 'cell': 50, 'phone': 51, 'usage': 52, 'policies': 53, 'that': 54, 'limit': 55, 'distractions': 56, 'without': 57, 'hindering': 58, 'student': 59, 'rights': 60, 'primary': 61, 'argument': 62, 'supporting': 63, 'classroom': 64, 'fact': 65, 'distracting': 66, 'Not': 67, 'only': 68, 'do': 69, 'distract': 70, 'instructors': 71, 'may': 72, 'also': 73, 'students': 74, 'trying': 75, 'pay': 76, 'attention': 77, 'lecture': 78, 'This': 79, 'effect': 80, 'as': 81, 'moviegoer': 82, 'looking': 83, 'at': 84, 'his': 85, 'theater': 86, 'Even': 87, 'if': 88, 'makes': 89, 'no': 90, 'noise': 91, 'light': 92, 'screen': 93, 'enough': 94, 'catch': 95, 'someones': 96, 'Arguments': 97, 'against': 98, 'typically': 99, 'focus': 100, 'on': 101, 'safety': 102, 'concerns': 103, 'Should': 104, 'crisis': 105, 'occur': 106, 'hand': 107, 'make': 108, 'call': 109, 'If': 110, 'has': 111, 'child': 112, 'he': 113, 'or': 114, 'she': 115, 'need': 116, 'case': 117, 'of': 118, 'medical': 119, 'emergency': 120, 'work': 121, 'will': 122, 'list': 123, 'exceptionworthy': 124, 'scenarios': 125, 'endless': 126, 'best': 127, 'solution': 128, 'rules': 129, 'allow': 130, 'accessible': 131, 'disturbing': 132, 'other': 133, 'educational': 134, 'opportunities': 135, 'Students': 136, 'permitted': 137, 'keep': 138, 'bags': 139, 'pockets': 140, 'belongings': 141, 'long': 142, 'are': 143, 'silent': 144, 'class': 145, 'Vibrate': 146, 'settings': 147, 'instructor': 148, 'does': 149, 'not': 150, 'believe': 151, 'it': 152, 'him': 153, 'her': 154, 'since': 155, 'vibration': 156, 'noticeable': 157, 'large': 158, 'needs': 159, 'answer': 160, 'during': 161, 'an': 162, 'step': 163, 'out': 164, 'so': 165, 'setup': 166, 'would': 167, 'give': 168, 'peace': 169, 'mind': 170, 'restrictions': 171, 'classrooms': 172, 'include': 173, 'specific': 174, 'disciplinary': 175, 'actions': 176, 'breaking': 177, 'caught': 178, 'using': 179, 'excused': 180, 'rest': 181, 'day': 182, 'Professors': 183, 'refrain': 184, 'physically': 185, 'taking': 186, 'possession': 187, 'because': 188, 'liability': 189, 'conflicts': 190, 'damaged': 191, 'while': 192, 'could': 193, 'held': 194, 'responsible': 195, 'repairs': 196, 'It': 197, 'safer': 198, 'ask': 199, 'leave': 200, 'than': 201, 'take': 202, 'completely': 203, 'Each': 204, 'professor': 205, 'body': 206, 'different': 207, 'Colleges': 208, 'must': 209, 'adapt': 210, 'discipline': 211, 'efforts': 212, 'reflect': 213, 'current': 214, 'Eliminating': 215, 'college': 216, 'overstretch': 217, 'there': 218, 'ways': 219, 'balance': 220, 'With': 221, 'right': 222, 'amount': 223, 'flexibility': 224, 'colleges': 225, 'pleasant': 226, 'learning': 227, 'environment': 228, 'with': 229, 'maximum': 230, 'minimal': 231, 'interruptions': 232}\n",
            "{0: 'Cell', 1: 'phones', 2: 'have', 3: 'gone', 4: 'from', 5: 'a', 6: 'sought-after', 7: 'luxury', 8: 'to', 9: 'daily', 10: 'necessity', 11: 'While', 12: 'these', 13: 'devices', 14: 'provide', 15: 'convenient', 16: 'access', 17: 'the', 18: 'outside', 19: 'world', 20: 'they', 21: 'can', 22: 'be', 23: 'problematic', 24: 'for', 25: 'educators', 26: 'High', 27: 'school', 28: 'teachers', 29: 'tell', 30: 'children', 31: 'in', 32: 'their', 33: 'classes', 34: 'put', 35: 'away', 36: 'but', 37: 'should', 38: 'professors', 39: 'same', 40: 'control', 41: 'over', 42: 'adult', 43: 'men', 44: 'and', 45: 'women', 46: 'The', 47: 'key', 48: 'is', 49: 'create', 50: 'cell', 51: 'phone', 52: 'usage', 53: 'policies', 54: 'that', 55: 'limit', 56: 'distractions', 57: 'without', 58: 'hindering', 59: 'student', 60: 'rights', 61: 'primary', 62: 'argument', 63: 'supporting', 64: 'classroom', 65: 'fact', 66: 'distracting', 67: 'Not', 68: 'only', 69: 'do', 70: 'distract', 71: 'instructors', 72: 'may', 73: 'also', 74: 'students', 75: 'trying', 76: 'pay', 77: 'attention', 78: 'lecture', 79: 'This', 80: 'effect', 81: 'as', 82: 'moviegoer', 83: 'looking', 84: 'at', 85: 'his', 86: 'theater', 87: 'Even', 88: 'if', 89: 'makes', 90: 'no', 91: 'noise', 92: 'light', 93: 'screen', 94: 'enough', 95: 'catch', 96: 'someones', 97: 'Arguments', 98: 'against', 99: 'typically', 100: 'focus', 101: 'on', 102: 'safety', 103: 'concerns', 104: 'Should', 105: 'crisis', 106: 'occur', 107: 'hand', 108: 'make', 109: 'call', 110: 'If', 111: 'has', 112: 'child', 113: 'he', 114: 'or', 115: 'she', 116: 'need', 117: 'case', 118: 'of', 119: 'medical', 120: 'emergency', 121: 'work', 122: 'will', 123: 'list', 124: 'exceptionworthy', 125: 'scenarios', 126: 'endless', 127: 'best', 128: 'solution', 129: 'rules', 130: 'allow', 131: 'accessible', 132: 'disturbing', 133: 'other', 134: 'educational', 135: 'opportunities', 136: 'Students', 137: 'permitted', 138: 'keep', 139: 'bags', 140: 'pockets', 141: 'belongings', 142: 'long', 143: 'are', 144: 'silent', 145: 'class', 146: 'Vibrate', 147: 'settings', 148: 'instructor', 149: 'does', 150: 'not', 151: 'believe', 152: 'it', 153: 'him', 154: 'her', 155: 'since', 156: 'vibration', 157: 'noticeable', 158: 'large', 159: 'needs', 160: 'answer', 161: 'during', 162: 'an', 163: 'step', 164: 'out', 165: 'so', 166: 'setup', 167: 'would', 168: 'give', 169: 'peace', 170: 'mind', 171: 'restrictions', 172: 'classrooms', 173: 'include', 174: 'specific', 175: 'disciplinary', 176: 'actions', 177: 'breaking', 178: 'caught', 179: 'using', 180: 'excused', 181: 'rest', 182: 'day', 183: 'Professors', 184: 'refrain', 185: 'physically', 186: 'taking', 187: 'possession', 188: 'because', 189: 'liability', 190: 'conflicts', 191: 'damaged', 192: 'while', 193: 'could', 194: 'held', 195: 'responsible', 196: 'repairs', 197: 'It', 198: 'safer', 199: 'ask', 200: 'leave', 201: 'than', 202: 'take', 203: 'completely', 204: 'Each', 205: 'professor', 206: 'body', 207: 'different', 208: 'Colleges', 209: 'must', 210: 'adapt', 211: 'discipline', 212: 'efforts', 213: 'reflect', 214: 'current', 215: 'Eliminating', 216: 'college', 217: 'overstretch', 218: 'there', 219: 'ways', 220: 'balance', 221: 'With', 222: 'right', 223: 'amount', 224: 'flexibility', 225: 'colleges', 226: 'pleasant', 227: 'learning', 228: 'environment', 229: 'with', 230: 'maximum', 231: 'minimal', 232: 'interruptions'}\n",
            "233\n"
          ]
        }
      ],
      "source": [
        "vocabulary = []\n",
        "for sentence in tokenized_corpus:\n",
        "    for token in sentence:\n",
        "        if token not in vocabulary:\n",
        "            vocabulary.append(token)\n",
        "\n",
        "word2idx = {w: idx for (idx, w) in enumerate(vocabulary)}\n",
        "idx2word = {idx: w for (idx, w) in enumerate(vocabulary)}\n",
        "\n",
        "vocabulary_size = len(vocabulary)\n",
        "\n",
        "print(word2idx)\n",
        "print(idx2word)\n",
        "print(vocabulary_size)"
      ]
    },
    {
      "cell_type": "markdown",
      "source": [
        "# Skip Gram Model"
      ],
      "metadata": {
        "id": "dErx5Min7ST3"
      }
    },
    {
      "cell_type": "code",
      "execution_count": 5,
      "metadata": {
        "colab": {
          "base_uri": "https://localhost:8080/"
        },
        "id": "_z98huds4XP_",
        "outputId": "77f7cbc3-e1cd-4e6d-ea7f-2739b1f5901c"
      },
      "outputs": [
        {
          "output_type": "stream",
          "name": "stdout",
          "text": [
            "[[  0   1]\n",
            " [  0   2]\n",
            " [  0   3]\n",
            " ...\n",
            " [232 102]\n",
            " [232  44]\n",
            " [232 231]]\n"
          ]
        }
      ],
      "source": [
        "window_size = 5\n",
        "idx_pairs = []\n",
        "\n",
        "for sentence in tokenized_corpus:\n",
        "    indices = [word2idx[word] for word in sentence]\n",
        "    for center_word_pos in range(len(indices)):\n",
        "        for w in range(-window_size, window_size + 1):\n",
        "            context_word_pos = center_word_pos + w\n",
        "            if context_word_pos < 0 or context_word_pos >= len(indices) or center_word_pos == context_word_pos:\n",
        "                continue\n",
        "            context_word_idx = indices[context_word_pos]\n",
        "            idx_pairs.append((indices[center_word_pos], context_word_idx))\n",
        "\n",
        "idx_pairs = np.array(idx_pairs)\n",
        "print(idx_pairs)"
      ]
    },
    {
      "cell_type": "code",
      "execution_count": 6,
      "metadata": {
        "colab": {
          "base_uri": "https://localhost:8080/"
        },
        "id": "aHyE0RmR6JUK",
        "outputId": "16f66f94-1fe3-4ea8-f85e-e56b4b528c09"
      },
      "outputs": [
        {
          "output_type": "execute_result",
          "data": {
            "text/plain": [
              "tensor([0., 1., 0., 0., 0., 0., 0., 0., 0., 0., 0., 0., 0., 0., 0., 0., 0., 0.,\n",
              "        0., 0., 0., 0., 0., 0., 0., 0., 0., 0., 0., 0., 0., 0., 0., 0., 0., 0.,\n",
              "        0., 0., 0., 0., 0., 0., 0., 0., 0., 0., 0., 0., 0., 0., 0., 0., 0., 0.,\n",
              "        0., 0., 0., 0., 0., 0., 0., 0., 0., 0., 0., 0., 0., 0., 0., 0., 0., 0.,\n",
              "        0., 0., 0., 0., 0., 0., 0., 0., 0., 0., 0., 0., 0., 0., 0., 0., 0., 0.,\n",
              "        0., 0., 0., 0., 0., 0., 0., 0., 0., 0., 0., 0., 0., 0., 0., 0., 0., 0.,\n",
              "        0., 0., 0., 0., 0., 0., 0., 0., 0., 0., 0., 0., 0., 0., 0., 0., 0., 0.,\n",
              "        0., 0., 0., 0., 0., 0., 0., 0., 0., 0., 0., 0., 0., 0., 0., 0., 0., 0.,\n",
              "        0., 0., 0., 0., 0., 0., 0., 0., 0., 0., 0., 0., 0., 0., 0., 0., 0., 0.,\n",
              "        0., 0., 0., 0., 0., 0., 0., 0., 0., 0., 0., 0., 0., 0., 0., 0., 0., 0.,\n",
              "        0., 0., 0., 0., 0., 0., 0., 0., 0., 0., 0., 0., 0., 0., 0., 0., 0., 0.,\n",
              "        0., 0., 0., 0., 0., 0., 0., 0., 0., 0., 0., 0., 0., 0., 0., 0., 0., 0.,\n",
              "        0., 0., 0., 0., 0., 0., 0., 0., 0., 0., 0., 0., 0., 0., 0., 0., 0.])"
            ]
          },
          "metadata": {},
          "execution_count": 6
        }
      ],
      "source": [
        "def get_input_layer(word_idx):\n",
        "    x = torch.zeros(vocabulary_size).float()\n",
        "    x[word_idx] = 1.0\n",
        "    return x\n",
        "get_input_layer(1)"
      ]
    },
    {
      "cell_type": "markdown",
      "source": [
        "# Hyperparameters"
      ],
      "metadata": {
        "id": "_mHPDkb2j9a6"
      }
    },
    {
      "cell_type": "code",
      "source": [
        "embedding_dims = 10\n",
        "W1 = torch.tensor(torch.randn(embedding_dims, vocabulary_size).float(), requires_grad=True) #Size = [embedding_dims, vocabulary_size]\n",
        "W2 = torch.tensor(torch.randn(vocabulary_size, embedding_dims).float(), requires_grad=True) #Size = [vocabulary_size, embedding_dims]\n",
        "num_epochs = 1000\n",
        "learning_rate = 0.001\n",
        "\n",
        "no_epochs = []\n",
        "loss_plot = []"
      ],
      "metadata": {
        "id": "aQmnWt_BkJkc",
        "colab": {
          "base_uri": "https://localhost:8080/"
        },
        "outputId": "a44ced45-0af0-46da-8059-ac342b8e376a"
      },
      "execution_count": 7,
      "outputs": [
        {
          "output_type": "stream",
          "name": "stderr",
          "text": [
            "<ipython-input-7-419a27758e19>:2: UserWarning: To copy construct from a tensor, it is recommended to use sourceTensor.clone().detach() or sourceTensor.clone().detach().requires_grad_(True), rather than torch.tensor(sourceTensor).\n",
            "  W1 = torch.tensor(torch.randn(embedding_dims, vocabulary_size).float(), requires_grad=True) #Size = [embedding_dims, vocabulary_size]\n",
            "<ipython-input-7-419a27758e19>:3: UserWarning: To copy construct from a tensor, it is recommended to use sourceTensor.clone().detach() or sourceTensor.clone().detach().requires_grad_(True), rather than torch.tensor(sourceTensor).\n",
            "  W2 = torch.tensor(torch.randn(vocabulary_size, embedding_dims).float(), requires_grad=True) #Size = [vocabulary_size, embedding_dims]\n"
          ]
        }
      ]
    },
    {
      "cell_type": "markdown",
      "source": [
        "# Train"
      ],
      "metadata": {
        "id": "nK6Q5f0AkE2a"
      }
    },
    {
      "cell_type": "code",
      "source": [
        "for epo in range(num_epochs):\n",
        "    loss_val = 0\n",
        "    for data, target in idx_pairs:\n",
        "        x = torch.tensor(get_input_layer(data)).float() #Size = vocabulary_size\n",
        "        y_true = torch.tensor(torch.from_numpy(np.array([target])).long()) #Size = 1\n",
        "\n",
        "        z1 = torch.matmul(W1, x) #Size = embedding_dims\n",
        "        z2 = torch.matmul(W2, z1) #Size = vocabulary_size\n",
        "\n",
        "        log_softmax = torch.nn.functional.log_softmax(z2, dim=0) #Size = vocabulary_size\n",
        "        loss = torch.nn.functional.nll_loss(log_softmax.view(1,-1), y_true)\n",
        "        loss_val += loss.item() #loss_val is a scalar\n",
        "        loss.backward()\n",
        "        W1.data -= learning_rate * W1.grad.data #Size = [embedding_dims, vocabulary_size]\n",
        "        W2.data -= learning_rate * W2.grad.data #Size = [vocabulary_size, embedding_dims]\n",
        "        W1.grad.data.zero_()\n",
        "        W2.grad.data.zero_()\n",
        "    if (epo+1) % 50 == 0:\n",
        "        print(f'Loss at epo {epo+1}: {loss_val/len(idx_pairs)}')\n",
        "        no_epochs.append(epo)\n",
        "        loss_plot.append(loss_val/len(idx_pairs))"
      ],
      "metadata": {
        "id": "pAtl8ELdkVTF",
        "colab": {
          "base_uri": "https://localhost:8080/"
        },
        "outputId": "6d526124-7012-4a10-dcbe-d6ae94d6fc3a"
      },
      "execution_count": 8,
      "outputs": [
        {
          "output_type": "stream",
          "name": "stderr",
          "text": [
            "<ipython-input-8-3619119c92e1>:4: UserWarning: To copy construct from a tensor, it is recommended to use sourceTensor.clone().detach() or sourceTensor.clone().detach().requires_grad_(True), rather than torch.tensor(sourceTensor).\n",
            "  x = torch.tensor(get_input_layer(data)).float() #Size = vocabulary_size\n",
            "<ipython-input-8-3619119c92e1>:5: UserWarning: To copy construct from a tensor, it is recommended to use sourceTensor.clone().detach() or sourceTensor.clone().detach().requires_grad_(True), rather than torch.tensor(sourceTensor).\n",
            "  y_true = torch.tensor(torch.from_numpy(np.array([target])).long()) #Size = 1\n"
          ]
        },
        {
          "output_type": "stream",
          "name": "stdout",
          "text": [
            "Loss at epo 50: 5.7174518419604\n",
            "Loss at epo 100: 5.058118085012647\n",
            "Loss at epo 150: 4.745034588396256\n",
            "Loss at epo 200: 4.542356612837961\n",
            "Loss at epo 250: 4.385289305301723\n",
            "Loss at epo 300: 4.253879407356525\n",
            "Loss at epo 350: 4.142973915784817\n",
            "Loss at epo 400: 4.05006721052043\n",
            "Loss at epo 450: 3.9727422255453804\n",
            "Loss at epo 500: 3.9085896501840627\n",
            "Loss at epo 550: 3.85546876798416\n",
            "Loss at epo 600: 3.8114346489677287\n",
            "Loss at epo 650: 3.774654372498907\n",
            "Loss at epo 700: 3.7435433159320812\n",
            "Loss at epo 750: 3.716868259460468\n",
            "Loss at epo 800: 3.6937253716690788\n",
            "Loss at epo 850: 3.6734524219494147\n",
            "Loss at epo 900: 3.6555538554496954\n",
            "Loss at epo 950: 3.639634113799175\n",
            "Loss at epo 1000: 3.6253814947722582\n"
          ]
        }
      ]
    },
    {
      "cell_type": "code",
      "execution_count": 9,
      "metadata": {
        "colab": {
          "base_uri": "https://localhost:8080/",
          "height": 466
        },
        "id": "ljgexxnNGhyU",
        "outputId": "2457b94c-c86c-4791-c299-1aa0dbd17100"
      },
      "outputs": [
        {
          "output_type": "execute_result",
          "data": {
            "text/plain": [
              "Text(0, 0.5, 'loss')"
            ]
          },
          "metadata": {},
          "execution_count": 9
        },
        {
          "output_type": "display_data",
          "data": {
            "text/plain": [
              "<Figure size 640x480 with 1 Axes>"
            ],
            "image/png": "[encoded data removed]"
          },
          "metadata": {}
        }
      ],
      "source": [
        "plt.plot(no_epochs, loss_plot)\n",
        "plt.xlabel('no of epochs')\n",
        "plt.ylabel('loss')"
      ]
    },
    {
      "cell_type": "markdown",
      "source": [
        "# PCA plot of 4 random words from the corpus"
      ],
      "metadata": {
        "id": "JQgjEUBUkcFy"
      }
    },
    {
      "cell_type": "code",
      "execution_count": 10,
      "metadata": {
        "colab": {
          "base_uri": "https://localhost:8080/"
        },
        "id": "5y9HTB52vkpe",
        "outputId": "eea718a1-0d12-4d0b-adc7-d88d1c08f3dd"
      },
      "outputs": [
        {
          "output_type": "execute_result",
          "data": {
            "text/plain": [
              "array([[-0.73717684, -1.3337811 ,  1.8421909 ],\n",
              "       [-0.6104261 ,  2.3817992 ,  0.15029307],\n",
              "       [-2.258447  , -1.4110056 , -1.3704572 ],\n",
              "       [ 3.5840755 , -0.76471037, -0.45806494],\n",
              "       [ 0.02197393,  1.1276983 , -0.1639615 ]], dtype=float32)"
            ]
          },
          "metadata": {},
          "execution_count": 10
        }
      ],
      "source": [
        "plot_words = [\"phones\", \"school\", \"students\", \"safety\", \"rules\"]\n",
        "\n",
        "word_matrix = np.array([W2[word2idx[word]].detach().numpy() for word in plot_words])\n",
        "# The word vector retrieved from a Word2Vec model using the code model.wv[word] does not refer to one-hot vectors. Instead, it refers to dense, distributed word embeddings that capture the semantic meaning of words based on the context in which they appear in a large corpus of text. In contrast, word embeddings produced by Word2Vec models are dense vectors of real numbers with a fixed dimensionality, typically ranging from 50 to 300 dimensions. These word vectors are learned through unsupervised training on a large corpus of text and capture the semantic relationships between words based on the context in which they co-occur. Each dimension of the word vector represents a different aspect of the word's meaning, and similar words have similar vector representations in the embedding space.\n",
        "num_components = 3\n",
        "pca = PCA(n_components=num_components)\n",
        "pca_result = pca.fit_transform(word_matrix)\n",
        "pca_result"
      ]
    },
    {
      "cell_type": "code",
      "execution_count": 11,
      "metadata": {
        "colab": {
          "base_uri": "https://localhost:8080/",
          "height": 542
        },
        "id": "sqWMoTL84Ss8",
        "outputId": "9de01960-e924-4cd4-c7c2-a7279ce0c08b"
      },
      "outputs": [
        {
          "output_type": "display_data",
          "data": {
            "text/html": [
              "<html>\n",
              "<head><meta charset=\"utf-8\" /></head>\n",
              "<body>\n",
              "    <div>            <script src=\"https://cdnjs.cloudflare.com/ajax/libs/mathjax/2.7.5/MathJax.js?config=TeX-AMS-MML_SVG\"></script><script type=\"text/javascript\">if (window.MathJax && window.MathJax.Hub && window.MathJax.Hub.Config) {window.MathJax.Hub.Config({SVG: {font: \"STIX-Web\"}});}</script>                <script type=\"text/javascript\">window.PlotlyConfig = {MathJaxConfig: 'local'};</script>\n",
              "        <script charset=\"utf-8\" src=\"https://cdn.plot.ly/plotly-2.24.1.min.js\"></script>                <div id=\"01690b2d-59ce-44e4-8aad-5c4f0836c7ba\" class=\"plotly-graph-div\" style=\"height:525px; width:100%;\"></div>            <script type=\"text/javascript\">                                    window.PLOTLYENV=window.PLOTLYENV || {};                                    if (document.getElementById(\"01690b2d-59ce-44e4-8aad-5c4f0836c7ba\")) {                    Plotly.newPlot(                        \"01690b2d-59ce-44e4-8aad-5c4f0836c7ba\",                        [{\"hovertemplate\":\"x=%{x}\\u003cbr\\u003ey=%{y}\\u003cbr\\u003ez=%{z}\\u003cbr\\u003eword=%{text}\\u003cextra\\u003e\\u003c\\u002fextra\\u003e\",\"legendgroup\":\"\",\"marker\":{\"color\":\"#636efa\",\"symbol\":\"circle\",\"size\":8},\"mode\":\"markers+text\",\"name\":\"\",\"scene\":\"scene\",\"showlegend\":false,\"text\":[\"phones\",\"school\",\"students\",\"safety\",\"rules\"],\"x\":[-0.7371768355369568,-0.610426127910614,-2.2584469318389893,3.584075450897217,0.021973934024572372],\"y\":[-1.333781123161316,2.3817992210388184,-1.4110056161880493,-0.7647103667259216,1.127698302268982],\"z\":[1.8421908617019653,0.15029306709766388,-1.3704571723937988,-0.4580649435520172,-0.1639614999294281],\"type\":\"scatter3d\"}],                        {\"template\":{\"data\":{\"histogram2dcontour\":[{\"type\":\"histogram2dcontour\",\"colorbar\":{\"outlinewidth\":0,\"ticks\":\"\"},\"colorscale\":[[0.0,\"#0d0887\"],[0.1111111111111111,\"#46039f\"],[0.2222222222222222,\"#7201a8\"],[0.3333333333333333,\"#9c179e\"],[0.4444444444444444,\"#bd3786\"],[0.5555555555555556,\"#d8576b\"],[0.6666666666666666,\"#ed7953\"],[0.7777777777777778,\"#fb9f3a\"],[0.8888888888888888,\"#fdca26\"],[1.0,\"#f0f921\"]]}],\"choropleth\":[{\"type\":\"choropleth\",\"colorbar\":{\"outlinewidth\":0,\"ticks\":\"\"}}],\"histogram2d\":[{\"type\":\"histogram2d\",\"colorbar\":{\"outlinewidth\":0,\"ticks\":\"\"},\"colorscale\":[[0.0,\"#0d0887\"],[0.1111111111111111,\"#46039f\"],[0.2222222222222222,\"#7201a8\"],[0.3333333333333333,\"#9c179e\"],[0.4444444444444444,\"#bd3786\"],[0.5555555555555556,\"#d8576b\"],[0.6666666666666666,\"#ed7953\"],[0.7777777777777778,\"#fb9f3a\"],[0.8888888888888888,\"#fdca26\"],[1.0,\"#f0f921\"]]}],\"heatmap\":[{\"type\":\"heatmap\",\"colorbar\":{\"outlinewidth\":0,\"ticks\":\"\"},\"colorscale\":[[0.0,\"#0d0887\"],[0.1111111111111111,\"#46039f\"],[0.2222222222222222,\"#7201a8\"],[0.3333333333333333,\"#9c179e\"],[0.4444444444444444,\"#bd3786\"],[0.5555555555555556,\"#d8576b\"],[0.6666666666666666,\"#ed7953\"],[0.7777777777777778,\"#fb9f3a\"],[0.8888888888888888,\"#fdca26\"],[1.0,\"#f0f921\"]]}],\"heatmapgl\":[{\"type\":\"heatmapgl\",\"colorbar\":{\"outlinewidth\":0,\"ticks\":\"\"},\"colorscale\":[[0.0,\"#0d0887\"],[0.1111111111111111,\"#46039f\"],[0.2222222222222222,\"#7201a8\"],[0.3333333333333333,\"#9c179e\"],[0.4444444444444444,\"#bd3786\"],[0.5555555555555556,\"#d8576b\"],[0.6666666666666666,\"#ed7953\"],[0.7777777777777778,\"#fb9f3a\"],[0.8888888888888888,\"#fdca26\"],[1.0,\"#f0f921\"]]}],\"contourcarpet\":[{\"type\":\"contourcarpet\",\"colorbar\":{\"outlinewidth\":0,\"ticks\":\"\"}}],\"contour\":[{\"type\":\"contour\",\"colorbar\":{\"outlinewidth\":0,\"ticks\":\"\"},\"colorscale\":[[0.0,\"#0d0887\"],[0.1111111111111111,\"#46039f\"],[0.2222222222222222,\"#7201a8\"],[0.3333333333333333,\"#9c179e\"],[0.4444444444444444,\"#bd3786\"],[0.5555555555555556,\"#d8576b\"],[0.6666666666666666,\"#ed7953\"],[0.7777777777777778,\"#fb9f3a\"],[0.8888888888888888,\"#fdca26\"],[1.0,\"#f0f921\"]]}],\"surface\":[{\"type\":\"surface\",\"colorbar\":{\"outlinewidth\":0,\"ticks\":\"\"},\"colorscale\":[[0.0,\"#0d0887\"],[0.1111111111111111,\"#46039f\"],[0.2222222222222222,\"#7201a8\"],[0.3333333333333333,\"#9c179e\"],[0.4444444444444444,\"#bd3786\"],[0.5555555555555556,\"#d8576b\"],[0.6666666666666666,\"#ed7953\"],[0.7777777777777778,\"#fb9f3a\"],[0.8888888888888888,\"#fdca26\"],[1.0,\"#f0f921\"]]}],\"mesh3d\":[{\"type\":\"mesh3d\",\"colorbar\":{\"outlinewidth\":0,\"ticks\":\"\"}}],\"scatter\":[{\"fillpattern\":{\"fillmode\":\"overlay\",\"size\":10,\"solidity\":0.2},\"type\":\"scatter\"}],\"parcoords\":[{\"type\":\"parcoords\",\"line\":{\"colorbar\":{\"outlinewidth\":0,\"ticks\":\"\"}}}],\"scatterpolargl\":[{\"type\":\"scatterpolargl\",\"marker\":{\"colorbar\":{\"outlinewidth\":0,\"ticks\":\"\"}}}],\"bar\":[{\"error_x\":{\"color\":\"#2a3f5f\"},\"error_y\":{\"color\":\"#2a3f5f\"},\"marker\":{\"line\":{\"color\":\"#E5ECF6\",\"width\":0.5},\"pattern\":{\"fillmode\":\"overlay\",\"size\":10,\"solidity\":0.2}},\"type\":\"bar\"}],\"scattergeo\":[{\"type\":\"scattergeo\",\"marker\":{\"colorbar\":{\"outlinewidth\":0,\"ticks\":\"\"}}}],\"scatterpolar\":[{\"type\":\"scatterpolar\",\"marker\":{\"colorbar\":{\"outlinewidth\":0,\"ticks\":\"\"}}}],\"histogram\":[{\"marker\":{\"pattern\":{\"fillmode\":\"overlay\",\"size\":10,\"solidity\":0.2}},\"type\":\"histogram\"}],\"scattergl\":[{\"type\":\"scattergl\",\"marker\":{\"colorbar\":{\"outlinewidth\":0,\"ticks\":\"\"}}}],\"scatter3d\":[{\"type\":\"scatter3d\",\"line\":{\"colorbar\":{\"outlinewidth\":0,\"ticks\":\"\"}},\"marker\":{\"colorbar\":{\"outlinewidth\":0,\"ticks\":\"\"}}}],\"scattermapbox\":[{\"type\":\"scattermapbox\",\"marker\":{\"colorbar\":{\"outlinewidth\":0,\"ticks\":\"\"}}}],\"scatterternary\":[{\"type\":\"scatterternary\",\"marker\":{\"colorbar\":{\"outlinewidth\":0,\"ticks\":\"\"}}}],\"scattercarpet\":[{\"type\":\"scattercarpet\",\"marker\":{\"colorbar\":{\"outlinewidth\":0,\"ticks\":\"\"}}}],\"carpet\":[{\"aaxis\":{\"endlinecolor\":\"#2a3f5f\",\"gridcolor\":\"white\",\"linecolor\":\"white\",\"minorgridcolor\":\"white\",\"startlinecolor\":\"#2a3f5f\"},\"baxis\":{\"endlinecolor\":\"#2a3f5f\",\"gridcolor\":\"white\",\"linecolor\":\"white\",\"minorgridcolor\":\"white\",\"startlinecolor\":\"#2a3f5f\"},\"type\":\"carpet\"}],\"table\":[{\"cells\":{\"fill\":{\"color\":\"#EBF0F8\"},\"line\":{\"color\":\"white\"}},\"header\":{\"fill\":{\"color\":\"#C8D4E3\"},\"line\":{\"color\":\"white\"}},\"type\":\"table\"}],\"barpolar\":[{\"marker\":{\"line\":{\"color\":\"#E5ECF6\",\"width\":0.5},\"pattern\":{\"fillmode\":\"overlay\",\"size\":10,\"solidity\":0.2}},\"type\":\"barpolar\"}],\"pie\":[{\"automargin\":true,\"type\":\"pie\"}]},\"layout\":{\"autotypenumbers\":\"strict\",\"colorway\":[\"#636efa\",\"#EF553B\",\"#00cc96\",\"#ab63fa\",\"#FFA15A\",\"#19d3f3\",\"#FF6692\",\"#B6E880\",\"#FF97FF\",\"#FECB52\"],\"font\":{\"color\":\"#2a3f5f\"},\"hovermode\":\"closest\",\"hoverlabel\":{\"align\":\"left\"},\"paper_bgcolor\":\"white\",\"plot_bgcolor\":\"#E5ECF6\",\"polar\":{\"bgcolor\":\"#E5ECF6\",\"angularaxis\":{\"gridcolor\":\"white\",\"linecolor\":\"white\",\"ticks\":\"\"},\"radialaxis\":{\"gridcolor\":\"white\",\"linecolor\":\"white\",\"ticks\":\"\"}},\"ternary\":{\"bgcolor\":\"#E5ECF6\",\"aaxis\":{\"gridcolor\":\"white\",\"linecolor\":\"white\",\"ticks\":\"\"},\"baxis\":{\"gridcolor\":\"white\",\"linecolor\":\"white\",\"ticks\":\"\"},\"caxis\":{\"gridcolor\":\"white\",\"linecolor\":\"white\",\"ticks\":\"\"}},\"coloraxis\":{\"colorbar\":{\"outlinewidth\":0,\"ticks\":\"\"}},\"colorscale\":{\"sequential\":[[0.0,\"#0d0887\"],[0.1111111111111111,\"#46039f\"],[0.2222222222222222,\"#7201a8\"],[0.3333333333333333,\"#9c179e\"],[0.4444444444444444,\"#bd3786\"],[0.5555555555555556,\"#d8576b\"],[0.6666666666666666,\"#ed7953\"],[0.7777777777777778,\"#fb9f3a\"],[0.8888888888888888,\"#fdca26\"],[1.0,\"#f0f921\"]],\"sequentialminus\":[[0.0,\"#0d0887\"],[0.1111111111111111,\"#46039f\"],[0.2222222222222222,\"#7201a8\"],[0.3333333333333333,\"#9c179e\"],[0.4444444444444444,\"#bd3786\"],[0.5555555555555556,\"#d8576b\"],[0.6666666666666666,\"#ed7953\"],[0.7777777777777778,\"#fb9f3a\"],[0.8888888888888888,\"#fdca26\"],[1.0,\"#f0f921\"]],\"diverging\":[[0,\"#8e0152\"],[0.1,\"#c51b7d\"],[0.2,\"#de77ae\"],[0.3,\"#f1b6da\"],[0.4,\"#fde0ef\"],[0.5,\"#f7f7f7\"],[0.6,\"#e6f5d0\"],[0.7,\"#b8e186\"],[0.8,\"#7fbc41\"],[0.9,\"#4d9221\"],[1,\"#276419\"]]},\"xaxis\":{\"gridcolor\":\"white\",\"linecolor\":\"white\",\"ticks\":\"\",\"title\":{\"standoff\":15},\"zerolinecolor\":\"white\",\"automargin\":true,\"zerolinewidth\":2},\"yaxis\":{\"gridcolor\":\"white\",\"linecolor\":\"white\",\"ticks\":\"\",\"title\":{\"standoff\":15},\"zerolinecolor\":\"white\",\"automargin\":true,\"zerolinewidth\":2},\"scene\":{\"xaxis\":{\"backgroundcolor\":\"#E5ECF6\",\"gridcolor\":\"white\",\"linecolor\":\"white\",\"showbackground\":true,\"ticks\":\"\",\"zerolinecolor\":\"white\",\"gridwidth\":2},\"yaxis\":{\"backgroundcolor\":\"#E5ECF6\",\"gridcolor\":\"white\",\"linecolor\":\"white\",\"showbackground\":true,\"ticks\":\"\",\"zerolinecolor\":\"white\",\"gridwidth\":2},\"zaxis\":{\"backgroundcolor\":\"#E5ECF6\",\"gridcolor\":\"white\",\"linecolor\":\"white\",\"showbackground\":true,\"ticks\":\"\",\"zerolinecolor\":\"white\",\"gridwidth\":2}},\"shapedefaults\":{\"line\":{\"color\":\"#2a3f5f\"}},\"annotationdefaults\":{\"arrowcolor\":\"#2a3f5f\",\"arrowhead\":0,\"arrowwidth\":1},\"geo\":{\"bgcolor\":\"white\",\"landcolor\":\"#E5ECF6\",\"subunitcolor\":\"white\",\"showland\":true,\"showlakes\":true,\"lakecolor\":\"white\"},\"title\":{\"x\":0.05},\"mapbox\":{\"style\":\"light\"}}},\"scene\":{\"domain\":{\"x\":[0.0,1.0],\"y\":[0.0,1.0]},\"xaxis\":{\"title\":{\"text\":\"x\"}},\"yaxis\":{\"title\":{\"text\":\"y\"}},\"zaxis\":{\"title\":{\"text\":\"z\"}}},\"legend\":{\"tracegroupgap\":0},\"margin\":{\"t\":60}},                        {\"responsive\": true}                    ).then(function(){\n",
              "                            \n",
              "var gd = document.getElementById('01690b2d-59ce-44e4-8aad-5c4f0836c7ba');\n",
              "var x = new MutationObserver(function (mutations, observer) {{\n",
              "        var display = window.getComputedStyle(gd).display;\n",
              "        if (!display || display === 'none') {{\n",
              "            console.log([gd, 'removed!']);\n",
              "            Plotly.purge(gd);\n",
              "            observer.disconnect();\n",
              "        }}\n",
              "}});\n",
              "\n",
              "// Listen for the removal of the full notebook cells\n",
              "var notebookContainer = gd.closest('#notebook-container');\n",
              "if (notebookContainer) {{\n",
              "    x.observe(notebookContainer, {childList: true});\n",
              "}}\n",
              "\n",
              "// Listen for the clearing of the current output cell\n",
              "var outputEl = gd.closest('.output');\n",
              "if (outputEl) {{\n",
              "    x.observe(outputEl, {childList: true});\n",
              "}}\n",
              "\n",
              "                        })                };                            </script>        </div>\n",
              "</body>\n",
              "</html>"
            ]
          },
          "metadata": {}
        }
      ],
      "source": [
        "data = {\n",
        "    'x': pca_result[:, 0],\n",
        "    'y': pca_result[:, 1],\n",
        "    'z': pca_result[:, 2],\n",
        "    'word': plot_words\n",
        "}\n",
        "\n",
        "fig = px.scatter_3d(data, x='x', y='y', z='z', text='word')\n",
        "\n",
        "fig.update_traces(marker=dict(size=8))\n",
        "\n",
        "fig.show()"
      ]
    },
    {
      "cell_type": "markdown",
      "source": [
        "# PCA plot of words similar to phone in the corpus"
      ],
      "metadata": {
        "id": "m61pKT_Bk1X2"
      }
    },
    {
      "cell_type": "code",
      "execution_count": 14,
      "metadata": {
        "colab": {
          "base_uri": "https://localhost:8080/",
          "height": 559
        },
        "id": "VR5753vr5I2v",
        "outputId": "4f08728b-1377-4766-c5f1-9effeeb6bcd5"
      },
      "outputs": [
        {
          "output_type": "stream",
          "name": "stdout",
          "text": [
            "['phone', 'a', 'cell', 'classroom']\n"
          ]
        },
        {
          "output_type": "display_data",
          "data": {
            "text/html": [
              "<html>\n",
              "<head><meta charset=\"utf-8\" /></head>\n",
              "<body>\n",
              "    <div>            <script src=\"https://cdnjs.cloudflare.com/ajax/libs/mathjax/2.7.5/MathJax.js?config=TeX-AMS-MML_SVG\"></script><script type=\"text/javascript\">if (window.MathJax && window.MathJax.Hub && window.MathJax.Hub.Config) {window.MathJax.Hub.Config({SVG: {font: \"STIX-Web\"}});}</script>                <script type=\"text/javascript\">window.PlotlyConfig = {MathJaxConfig: 'local'};</script>\n",
              "        <script charset=\"utf-8\" src=\"https://cdn.plot.ly/plotly-2.24.1.min.js\"></script>                <div id=\"d11c5ff2-cbf8-4f5d-8805-f2309fb4aec0\" class=\"plotly-graph-div\" style=\"height:525px; width:100%;\"></div>            <script type=\"text/javascript\">                                    window.PLOTLYENV=window.PLOTLYENV || {};                                    if (document.getElementById(\"d11c5ff2-cbf8-4f5d-8805-f2309fb4aec0\")) {                    Plotly.newPlot(                        \"d11c5ff2-cbf8-4f5d-8805-f2309fb4aec0\",                        [{\"hovertemplate\":\"x=%{x}\\u003cbr\\u003ey=%{y}\\u003cbr\\u003ez=%{z}\\u003cbr\\u003eword=%{text}\\u003cextra\\u003e\\u003c\\u002fextra\\u003e\",\"legendgroup\":\"\",\"marker\":{\"color\":\"#636efa\",\"symbol\":\"circle\",\"size\":8},\"mode\":\"markers+text\",\"name\":\"\",\"scene\":\"scene\",\"showlegend\":false,\"text\":[\"phone\",\"a\",\"cell\",\"classroom\"],\"x\":[-0.34094589948654175,-1.7997530698776245,1.978078842163086,0.16261990368366241],\"y\":[1.6513439416885376,-0.3265160322189331,0.10510484129190445,-1.4299324750900269],\"z\":[0.6265570521354675,-0.7953788638114929,-0.6859517693519592,0.8547734022140503],\"type\":\"scatter3d\"}],                        {\"template\":{\"data\":{\"histogram2dcontour\":[{\"type\":\"histogram2dcontour\",\"colorbar\":{\"outlinewidth\":0,\"ticks\":\"\"},\"colorscale\":[[0.0,\"#0d0887\"],[0.1111111111111111,\"#46039f\"],[0.2222222222222222,\"#7201a8\"],[0.3333333333333333,\"#9c179e\"],[0.4444444444444444,\"#bd3786\"],[0.5555555555555556,\"#d8576b\"],[0.6666666666666666,\"#ed7953\"],[0.7777777777777778,\"#fb9f3a\"],[0.8888888888888888,\"#fdca26\"],[1.0,\"#f0f921\"]]}],\"choropleth\":[{\"type\":\"choropleth\",\"colorbar\":{\"outlinewidth\":0,\"ticks\":\"\"}}],\"histogram2d\":[{\"type\":\"histogram2d\",\"colorbar\":{\"outlinewidth\":0,\"ticks\":\"\"},\"colorscale\":[[0.0,\"#0d0887\"],[0.1111111111111111,\"#46039f\"],[0.2222222222222222,\"#7201a8\"],[0.3333333333333333,\"#9c179e\"],[0.4444444444444444,\"#bd3786\"],[0.5555555555555556,\"#d8576b\"],[0.6666666666666666,\"#ed7953\"],[0.7777777777777778,\"#fb9f3a\"],[0.8888888888888888,\"#fdca26\"],[1.0,\"#f0f921\"]]}],\"heatmap\":[{\"type\":\"heatmap\",\"colorbar\":{\"outlinewidth\":0,\"ticks\":\"\"},\"colorscale\":[[0.0,\"#0d0887\"],[0.1111111111111111,\"#46039f\"],[0.2222222222222222,\"#7201a8\"],[0.3333333333333333,\"#9c179e\"],[0.4444444444444444,\"#bd3786\"],[0.5555555555555556,\"#d8576b\"],[0.6666666666666666,\"#ed7953\"],[0.7777777777777778,\"#fb9f3a\"],[0.8888888888888888,\"#fdca26\"],[1.0,\"#f0f921\"]]}],\"heatmapgl\":[{\"type\":\"heatmapgl\",\"colorbar\":{\"outlinewidth\":0,\"ticks\":\"\"},\"colorscale\":[[0.0,\"#0d0887\"],[0.1111111111111111,\"#46039f\"],[0.2222222222222222,\"#7201a8\"],[0.3333333333333333,\"#9c179e\"],[0.4444444444444444,\"#bd3786\"],[0.5555555555555556,\"#d8576b\"],[0.6666666666666666,\"#ed7953\"],[0.7777777777777778,\"#fb9f3a\"],[0.8888888888888888,\"#fdca26\"],[1.0,\"#f0f921\"]]}],\"contourcarpet\":[{\"type\":\"contourcarpet\",\"colorbar\":{\"outlinewidth\":0,\"ticks\":\"\"}}],\"contour\":[{\"type\":\"contour\",\"colorbar\":{\"outlinewidth\":0,\"ticks\":\"\"},\"colorscale\":[[0.0,\"#0d0887\"],[0.1111111111111111,\"#46039f\"],[0.2222222222222222,\"#7201a8\"],[0.3333333333333333,\"#9c179e\"],[0.4444444444444444,\"#bd3786\"],[0.5555555555555556,\"#d8576b\"],[0.6666666666666666,\"#ed7953\"],[0.7777777777777778,\"#fb9f3a\"],[0.8888888888888888,\"#fdca26\"],[1.0,\"#f0f921\"]]}],\"surface\":[{\"type\":\"surface\",\"colorbar\":{\"outlinewidth\":0,\"ticks\":\"\"},\"colorscale\":[[0.0,\"#0d0887\"],[0.1111111111111111,\"#46039f\"],[0.2222222222222222,\"#7201a8\"],[0.3333333333333333,\"#9c179e\"],[0.4444444444444444,\"#bd3786\"],[0.5555555555555556,\"#d8576b\"],[0.6666666666666666,\"#ed7953\"],[0.7777777777777778,\"#fb9f3a\"],[0.8888888888888888,\"#fdca26\"],[1.0,\"#f0f921\"]]}],\"mesh3d\":[{\"type\":\"mesh3d\",\"colorbar\":{\"outlinewidth\":0,\"ticks\":\"\"}}],\"scatter\":[{\"fillpattern\":{\"fillmode\":\"overlay\",\"size\":10,\"solidity\":0.2},\"type\":\"scatter\"}],\"parcoords\":[{\"type\":\"parcoords\",\"line\":{\"colorbar\":{\"outlinewidth\":0,\"ticks\":\"\"}}}],\"scatterpolargl\":[{\"type\":\"scatterpolargl\",\"marker\":{\"colorbar\":{\"outlinewidth\":0,\"ticks\":\"\"}}}],\"bar\":[{\"error_x\":{\"color\":\"#2a3f5f\"},\"error_y\":{\"color\":\"#2a3f5f\"},\"marker\":{\"line\":{\"color\":\"#E5ECF6\",\"width\":0.5},\"pattern\":{\"fillmode\":\"overlay\",\"size\":10,\"solidity\":0.2}},\"type\":\"bar\"}],\"scattergeo\":[{\"type\":\"scattergeo\",\"marker\":{\"colorbar\":{\"outlinewidth\":0,\"ticks\":\"\"}}}],\"scatterpolar\":[{\"type\":\"scatterpolar\",\"marker\":{\"colorbar\":{\"outlinewidth\":0,\"ticks\":\"\"}}}],\"histogram\":[{\"marker\":{\"pattern\":{\"fillmode\":\"overlay\",\"size\":10,\"solidity\":0.2}},\"type\":\"histogram\"}],\"scattergl\":[{\"type\":\"scattergl\",\"marker\":{\"colorbar\":{\"outlinewidth\":0,\"ticks\":\"\"}}}],\"scatter3d\":[{\"type\":\"scatter3d\",\"line\":{\"colorbar\":{\"outlinewidth\":0,\"ticks\":\"\"}},\"marker\":{\"colorbar\":{\"outlinewidth\":0,\"ticks\":\"\"}}}],\"scattermapbox\":[{\"type\":\"scattermapbox\",\"marker\":{\"colorbar\":{\"outlinewidth\":0,\"ticks\":\"\"}}}],\"scatterternary\":[{\"type\":\"scatterternary\",\"marker\":{\"colorbar\":{\"outlinewidth\":0,\"ticks\":\"\"}}}],\"scattercarpet\":[{\"type\":\"scattercarpet\",\"marker\":{\"colorbar\":{\"outlinewidth\":0,\"ticks\":\"\"}}}],\"carpet\":[{\"aaxis\":{\"endlinecolor\":\"#2a3f5f\",\"gridcolor\":\"white\",\"linecolor\":\"white\",\"minorgridcolor\":\"white\",\"startlinecolor\":\"#2a3f5f\"},\"baxis\":{\"endlinecolor\":\"#2a3f5f\",\"gridcolor\":\"white\",\"linecolor\":\"white\",\"minorgridcolor\":\"white\",\"startlinecolor\":\"#2a3f5f\"},\"type\":\"carpet\"}],\"table\":[{\"cells\":{\"fill\":{\"color\":\"#EBF0F8\"},\"line\":{\"color\":\"white\"}},\"header\":{\"fill\":{\"color\":\"#C8D4E3\"},\"line\":{\"color\":\"white\"}},\"type\":\"table\"}],\"barpolar\":[{\"marker\":{\"line\":{\"color\":\"#E5ECF6\",\"width\":0.5},\"pattern\":{\"fillmode\":\"overlay\",\"size\":10,\"solidity\":0.2}},\"type\":\"barpolar\"}],\"pie\":[{\"automargin\":true,\"type\":\"pie\"}]},\"layout\":{\"autotypenumbers\":\"strict\",\"colorway\":[\"#636efa\",\"#EF553B\",\"#00cc96\",\"#ab63fa\",\"#FFA15A\",\"#19d3f3\",\"#FF6692\",\"#B6E880\",\"#FF97FF\",\"#FECB52\"],\"font\":{\"color\":\"#2a3f5f\"},\"hovermode\":\"closest\",\"hoverlabel\":{\"align\":\"left\"},\"paper_bgcolor\":\"white\",\"plot_bgcolor\":\"#E5ECF6\",\"polar\":{\"bgcolor\":\"#E5ECF6\",\"angularaxis\":{\"gridcolor\":\"white\",\"linecolor\":\"white\",\"ticks\":\"\"},\"radialaxis\":{\"gridcolor\":\"white\",\"linecolor\":\"white\",\"ticks\":\"\"}},\"ternary\":{\"bgcolor\":\"#E5ECF6\",\"aaxis\":{\"gridcolor\":\"white\",\"linecolor\":\"white\",\"ticks\":\"\"},\"baxis\":{\"gridcolor\":\"white\",\"linecolor\":\"white\",\"ticks\":\"\"},\"caxis\":{\"gridcolor\":\"white\",\"linecolor\":\"white\",\"ticks\":\"\"}},\"coloraxis\":{\"colorbar\":{\"outlinewidth\":0,\"ticks\":\"\"}},\"colorscale\":{\"sequential\":[[0.0,\"#0d0887\"],[0.1111111111111111,\"#46039f\"],[0.2222222222222222,\"#7201a8\"],[0.3333333333333333,\"#9c179e\"],[0.4444444444444444,\"#bd3786\"],[0.5555555555555556,\"#d8576b\"],[0.6666666666666666,\"#ed7953\"],[0.7777777777777778,\"#fb9f3a\"],[0.8888888888888888,\"#fdca26\"],[1.0,\"#f0f921\"]],\"sequentialminus\":[[0.0,\"#0d0887\"],[0.1111111111111111,\"#46039f\"],[0.2222222222222222,\"#7201a8\"],[0.3333333333333333,\"#9c179e\"],[0.4444444444444444,\"#bd3786\"],[0.5555555555555556,\"#d8576b\"],[0.6666666666666666,\"#ed7953\"],[0.7777777777777778,\"#fb9f3a\"],[0.8888888888888888,\"#fdca26\"],[1.0,\"#f0f921\"]],\"diverging\":[[0,\"#8e0152\"],[0.1,\"#c51b7d\"],[0.2,\"#de77ae\"],[0.3,\"#f1b6da\"],[0.4,\"#fde0ef\"],[0.5,\"#f7f7f7\"],[0.6,\"#e6f5d0\"],[0.7,\"#b8e186\"],[0.8,\"#7fbc41\"],[0.9,\"#4d9221\"],[1,\"#276419\"]]},\"xaxis\":{\"gridcolor\":\"white\",\"linecolor\":\"white\",\"ticks\":\"\",\"title\":{\"standoff\":15},\"zerolinecolor\":\"white\",\"automargin\":true,\"zerolinewidth\":2},\"yaxis\":{\"gridcolor\":\"white\",\"linecolor\":\"white\",\"ticks\":\"\",\"title\":{\"standoff\":15},\"zerolinecolor\":\"white\",\"automargin\":true,\"zerolinewidth\":2},\"scene\":{\"xaxis\":{\"backgroundcolor\":\"#E5ECF6\",\"gridcolor\":\"white\",\"linecolor\":\"white\",\"showbackground\":true,\"ticks\":\"\",\"zerolinecolor\":\"white\",\"gridwidth\":2},\"yaxis\":{\"backgroundcolor\":\"#E5ECF6\",\"gridcolor\":\"white\",\"linecolor\":\"white\",\"showbackground\":true,\"ticks\":\"\",\"zerolinecolor\":\"white\",\"gridwidth\":2},\"zaxis\":{\"backgroundcolor\":\"#E5ECF6\",\"gridcolor\":\"white\",\"linecolor\":\"white\",\"showbackground\":true,\"ticks\":\"\",\"zerolinecolor\":\"white\",\"gridwidth\":2}},\"shapedefaults\":{\"line\":{\"color\":\"#2a3f5f\"}},\"annotationdefaults\":{\"arrowcolor\":\"#2a3f5f\",\"arrowhead\":0,\"arrowwidth\":1},\"geo\":{\"bgcolor\":\"white\",\"landcolor\":\"#E5ECF6\",\"subunitcolor\":\"white\",\"showland\":true,\"showlakes\":true,\"lakecolor\":\"white\"},\"title\":{\"x\":0.05},\"mapbox\":{\"style\":\"light\"}}},\"scene\":{\"domain\":{\"x\":[0.0,1.0],\"y\":[0.0,1.0]},\"xaxis\":{\"title\":{\"text\":\"x\"}},\"yaxis\":{\"title\":{\"text\":\"y\"}},\"zaxis\":{\"title\":{\"text\":\"z\"}}},\"legend\":{\"tracegroupgap\":0},\"margin\":{\"t\":60}},                        {\"responsive\": true}                    ).then(function(){\n",
              "                            \n",
              "var gd = document.getElementById('d11c5ff2-cbf8-4f5d-8805-f2309fb4aec0');\n",
              "var x = new MutationObserver(function (mutations, observer) {{\n",
              "        var display = window.getComputedStyle(gd).display;\n",
              "        if (!display || display === 'none') {{\n",
              "            console.log([gd, 'removed!']);\n",
              "            Plotly.purge(gd);\n",
              "            observer.disconnect();\n",
              "        }}\n",
              "}});\n",
              "\n",
              "// Listen for the removal of the full notebook cells\n",
              "var notebookContainer = gd.closest('#notebook-container');\n",
              "if (notebookContainer) {{\n",
              "    x.observe(notebookContainer, {childList: true});\n",
              "}}\n",
              "\n",
              "// Listen for the clearing of the current output cell\n",
              "var outputEl = gd.closest('.output');\n",
              "if (outputEl) {{\n",
              "    x.observe(outputEl, {childList: true});\n",
              "}}\n",
              "\n",
              "                        })                };                            </script>        </div>\n",
              "</body>\n",
              "</html>"
            ]
          },
          "metadata": {}
        }
      ],
      "source": [
        "def cosine_similarity(v1, v2):\n",
        "    dot_product = np.dot(v1, v2)\n",
        "    norm_v1 = np.linalg.norm(v1)\n",
        "    norm_v2 = np.linalg.norm(v2)\n",
        "    return dot_product / (norm_v1 * norm_v2)\n",
        "\n",
        "target = \"phone\"\n",
        "word_vector_target = W2[word2idx[target]].detach().numpy()\n",
        "similar_words = [target]\n",
        "for i in range(vocabulary_size):\n",
        "    if idx2word[i] == target:\n",
        "        continue\n",
        "    else:\n",
        "        word_vector_current = W2[i].detach().numpy()\n",
        "        similarity = cosine_similarity(word_vector_current, word_vector_target)\n",
        "        #print(idx2word[i] + \":\", similarity)\n",
        "        if similarity> 0.7:\n",
        "          similar_words.append(idx2word[i])\n",
        "\n",
        "print(similar_words)\n",
        "word_matrix2 = np.array([W2[word2idx[word]].detach().numpy() for word in similar_words])\n",
        "num_components = 3  # Number of principal components to keep\n",
        "pca = PCA(n_components=num_components)\n",
        "pca_result = pca.fit_transform(word_matrix2)\n",
        "\n",
        "data = {\n",
        "    'x': pca_result[:, 0],\n",
        "    'y': pca_result[:, 1],\n",
        "    'z': pca_result[:, 2],\n",
        "    'word': similar_words\n",
        "}\n",
        "\n",
        "fig = px.scatter_3d(data, x='x', y='y', z='z', text='word')\n",
        "\n",
        "fig.update_traces(marker=dict(size=8))\n",
        "\n",
        "fig.show()"
      ]
    },
    {
      "cell_type": "markdown",
      "source": [
        "# PCA plot of corpus"
      ],
      "metadata": {
        "id": "RISRF18KlSnh"
      }
    },
    {
      "cell_type": "code",
      "execution_count": 15,
      "metadata": {
        "colab": {
          "base_uri": "https://localhost:8080/",
          "height": 542
        },
        "id": "4-DbAuGdAUUy",
        "outputId": "2c87771a-f0fe-43e2-a560-6b3462d2dc4d"
      },
      "outputs": [
        {
          "output_type": "display_data",
          "data": {
            "text/html": [
              "<html>\n",
              "<head><meta charset=\"utf-8\" /></head>\n",
              "<body>\n",
              "    <div>            <script src=\"https://cdnjs.cloudflare.com/ajax/libs/mathjax/2.7.5/MathJax.js?config=TeX-AMS-MML_SVG\"></script><script type=\"text/javascript\">if (window.MathJax && window.MathJax.Hub && window.MathJax.Hub.Config) {window.MathJax.Hub.Config({SVG: {font: \"STIX-Web\"}});}</script>                <script type=\"text/javascript\">window.PlotlyConfig = {MathJaxConfig: 'local'};</script>\n",
              "        <script charset=\"utf-8\" src=\"https://cdn.plot.ly/plotly-2.24.1.min.js\"></script>                <div id=\"d24412e8-4d8a-4a4a-a8b3-19a8f74e15f1\" class=\"plotly-graph-div\" style=\"height:525px; width:100%;\"></div>            <script type=\"text/javascript\">                                    window.PLOTLYENV=window.PLOTLYENV || {};                                    if (document.getElementById(\"d24412e8-4d8a-4a4a-a8b3-19a8f74e15f1\")) {                    Plotly.newPlot(                        \"d24412e8-4d8a-4a4a-a8b3-19a8f74e15f1\",                        [{\"hovertemplate\":\"x=%{x}\\u003cbr\\u003ey=%{y}\\u003cbr\\u003ez=%{z}\\u003cbr\\u003eword=%{text}\\u003cextra\\u003e\\u003c\\u002fextra\\u003e\",\"legendgroup\":\"\",\"marker\":{\"color\":\"#636efa\",\"symbol\":\"circle\",\"size\":8},\"mode\":\"markers+text\",\"name\":\"\",\"scene\":\"scene\",\"showlegend\":false,\"text\":[\"Cell\",\"phones\",\"have\",\"gone\",\"from\",\"a\",\"sought-after\",\"luxury\",\"to\",\"daily\",\"necessity\",\"While\",\"these\",\"devices\",\"provide\",\"convenient\",\"access\",\"the\",\"outside\",\"world\",\"they\",\"can\",\"be\",\"problematic\",\"for\",\"educators\",\"High\",\"school\",\"teachers\",\"tell\",\"children\",\"in\",\"their\",\"classes\",\"put\",\"away\",\"but\",\"should\",\"professors\",\"same\",\"control\",\"over\",\"adult\",\"men\",\"and\",\"women\",\"The\",\"key\",\"is\",\"create\",\"cell\",\"phone\",\"usage\",\"policies\",\"that\",\"limit\",\"distractions\",\"without\",\"hindering\",\"student\",\"rights\",\"primary\",\"argument\",\"supporting\",\"classroom\",\"fact\",\"distracting\",\"Not\",\"only\",\"do\",\"distract\",\"instructors\",\"may\",\"also\",\"students\",\"trying\",\"pay\",\"attention\",\"lecture\",\"This\",\"effect\",\"as\",\"moviegoer\",\"looking\",\"at\",\"his\",\"theater\",\"Even\",\"if\",\"makes\",\"no\",\"noise\",\"light\",\"screen\",\"enough\",\"catch\",\"someones\",\"Arguments\",\"against\",\"typically\",\"focus\",\"on\",\"safety\",\"concerns\",\"Should\",\"crisis\",\"occur\",\"hand\",\"make\",\"call\",\"If\",\"has\",\"child\",\"he\",\"or\",\"she\",\"need\",\"case\",\"of\",\"medical\",\"emergency\",\"work\",\"will\",\"list\",\"exceptionworthy\",\"scenarios\",\"endless\",\"best\",\"solution\",\"rules\",\"allow\",\"accessible\",\"disturbing\",\"other\",\"educational\",\"opportunities\",\"Students\",\"permitted\",\"keep\",\"bags\",\"pockets\",\"belongings\",\"long\",\"are\",\"silent\",\"class\",\"Vibrate\",\"settings\",\"instructor\",\"does\",\"not\",\"believe\",\"it\",\"him\",\"her\",\"since\",\"vibration\",\"noticeable\",\"large\",\"needs\",\"answer\",\"during\",\"an\",\"step\",\"out\",\"so\",\"setup\",\"would\",\"give\",\"peace\",\"mind\",\"restrictions\",\"classrooms\",\"include\",\"specific\",\"disciplinary\",\"actions\",\"breaking\",\"caught\",\"using\",\"excused\",\"rest\",\"day\",\"Professors\",\"refrain\",\"physically\",\"taking\",\"possession\",\"because\",\"liability\",\"conflicts\",\"damaged\",\"while\",\"could\",\"held\",\"responsible\",\"repairs\",\"It\",\"safer\",\"ask\",\"leave\",\"than\",\"take\",\"completely\",\"Each\",\"professor\",\"body\",\"different\",\"Colleges\",\"must\",\"adapt\",\"discipline\",\"efforts\",\"reflect\",\"current\",\"Eliminating\",\"college\",\"overstretch\",\"there\",\"ways\",\"balance\",\"With\",\"right\",\"amount\",\"flexibility\",\"colleges\",\"pleasant\",\"learning\",\"environment\",\"with\",\"maximum\",\"minimal\",\"interruptions\"],\"x\":[1.03654944896698,1.3854789733886719,1.6514216661453247,-0.20622383058071136,2.244386672973633,3.2736310958862305,-0.028846420347690582,-0.11284833401441574,2.2412307262420654,-0.6564226746559143,-1.0166691541671753,-2.2452685832977295,-1.8658535480499268,-2.1736574172973633,-2.1420693397521973,-2.2125606536865234,-0.7711410522460938,3.4872303009033203,-1.4835294485092163,-1.198560118675232,-0.7117694020271301,0.547329843044281,1.49586021900177,-1.5706664323806763,1.2860441207885742,-0.8939964175224304,-1.3223350048065186,0.32363954186439514,-1.6268136501312256,-1.1986750364303589,-1.8587548732757568,3.057435989379883,0.3989778459072113,-1.4050496816635132,-0.9654285907745361,-0.05823223292827606,1.3129042387008667,2.7440404891967773,1.6416503190994263,0.5369016528129578,1.7657873630523682,0.3190435767173767,0.002241716254502535,0.13615785539150238,1.6699203252792358,-0.5778928995132446,0.27009832859039307,-0.7030981183052063,2.3837666511535645,-0.25868290662765503,0.7265529632568359,2.2471976280212402,-1.504746437072754,-2.1312954425811768,-0.6258069276809692,-2.7597427368164062,-2.3123481273651123,-2.432569742202759,-3.174537181854248,0.7518541812896729,-0.9795393347740173,-0.4504806101322174,-0.25200319290161133,-0.19980861246585846,1.7833819389343262,-1.0100531578063965,-0.9002624154090881,-0.8508968353271484,-1.2318503856658936,-0.07005173712968826,0.9189058542251587,-0.4337596595287323,2.3906261920928955,1.3826931715011597,2.050837755203247,0.17735172808170319,-0.5781428813934326,-0.280695378780365,-1.0155600309371948,-0.1160736158490181,-0.19532179832458496,0.8423564434051514,0.479748010635376,0.28955623507499695,0.18373753130435944,0.06904815882444382,0.6890840530395508,-0.5139800906181335,1.5574754476547241,0.8749598264694214,0.35212522745132446,1.4564727544784546,0.0050008646212518215,0.27807801961898804,-0.0624825656414032,-0.8010327219963074,-0.808347225189209,-0.9301389455795288,-0.8908887505531311,-0.9338075518608093,-1.0893412828445435,0.26197633147239685,-1.149431824684143,-0.934378981590271,0.22951044142246246,0.31296029686927795,0.9372068643569946,-0.3947877287864685,-0.5273990035057068,-0.4541182219982147,0.7532823085784912,-0.04701779782772064,0.3876159191131592,1.1273887157440186,2.2016496658325195,1.0605368614196777,0.8553211688995361,1.1590262651443481,3.250474691390991,0.8413697481155396,1.4522171020507812,-0.05158386752009392,1.5965852737426758,0.6140065789222717,0.6497043967247009,0.060501668602228165,0.9068544507026672,-1.8645285367965698,-1.0561357736587524,-0.3227461874485016,-1.671913743019104,-2.5468673706054688,-1.7724183797836304,-1.4413838386535645,-2.024280309677124,-2.2552847862243652,-0.3436773717403412,1.1533688306808472,-0.30889102816581726,-1.2055085897445679,-1.1950907707214355,-0.7389216423034668,-0.8174803853034973,0.06718312948942184,-0.2116243988275528,0.4938797056674957,0.27879416942596436,0.34385570883750916,1.4964935779571533,0.18275843560695648,1.6194984912872314,0.5287984609603882,1.1157892942428589,1.0538233518600464,0.9567703604698181,0.8388863205909729,1.4671990871429443,1.6503409147262573,0.9816165566444397,0.1778445839881897,-0.3563866913318634,0.5487038493156433,1.0350422859191895,0.08486156165599823,0.30764007568359375,0.13719381392002106,-0.6138340830802917,-0.4582909047603607,-0.8690541982650757,0.633643388748169,0.36337026953697205,0.978489339351654,1.217482089996338,0.9446439146995544,0.7570438385009766,0.7621684670448303,0.7124823927879333,0.28124284744262695,-0.9163357615470886,-0.8890947699546814,0.501528799533844,0.40794312953948975,0.46413320302963257,0.7658403515815735,1.3049604892730713,1.5955712795257568,1.5231540203094482,2.2326605319976807,1.0695396661758423,0.2692251205444336,0.7720769047737122,0.510358989238739,0.6195653080940247,0.22123757004737854,-0.1158730760216713,-0.14837366342544556,-0.7104299068450928,-1.6272674798965454,-1.1623181104660034,-0.9633008241653442,-1.0402675867080688,-0.26623424887657166,-0.4154970049858093,-0.15016238391399384,-1.5093364715576172,-0.3840944766998291,-0.6244389414787292,-1.409242868423462,-1.448800802230835,-1.3247146606445312,-1.3425745964050293,-0.9949228763580322,-0.9521030187606812,-0.40380483865737915,-0.5435791611671448,-1.0783195495605469,0.03436856344342232,-0.2630411684513092,0.23605430126190186,-0.4306492209434509,-0.9391346573829651,0.6135722994804382,0.08174221217632294,0.807303249835968,0.49049973487854004,-0.025887567549943924,-0.3939530551433563,-0.6598928570747375,-0.551167368888855,-0.8030633926391602,-0.42130792140960693,-0.7799397110939026,-0.9464429020881653],\"y\":[1.194284439086914,0.15080083906650543,0.8031560778617859,1.23455011844635,0.6771457195281982,1.3889623880386353,1.0566519498825073,1.225992202758789,-0.03287214785814285,1.2738317251205444,1.5827571153640747,-1.3004803657531738,-1.306688666343689,-1.0169272422790527,-1.247785210609436,-1.693159580230713,-1.4225043058395386,-0.6309844851493835,-2.5414161682128906,-1.9025170803070068,-2.1770644187927246,-0.0478038527071476,-1.506964921951294,-1.6685692071914673,-1.6603857278823853,-1.804736614227295,-0.33547720313072205,-1.1174756288528442,-1.1461174488067627,-1.0969675779342651,-0.7287272810935974,-0.017190583050251007,-0.8902963399887085,-1.0260343551635742,-0.6390597224235535,-0.7045861482620239,0.24799636006355286,-0.6172237396240234,-0.30434107780456543,0.7477972507476807,2.1315722465515137,1.3098498582839966,1.422839879989624,1.6189475059509277,0.7975999116897583,1.9360474348068237,2.8196351528167725,1.9271326065063477,1.0379903316497803,1.675868034362793,1.4182087182998657,1.420331358909607,0.7668818831443787,1.1737862825393677,0.4858386218547821,0.6322863101959229,0.6889987587928772,-0.7911936640739441,0.34687504172325134,0.5718591809272766,1.0498316287994385,1.8763943910598755,1.6250030994415283,1.7874351739883423,-0.20848867297172546,-0.041472263634204865,-0.5165438055992126,-0.09664621949195862,-0.3118617832660675,-0.3449048697948456,-2.020214557647705,-0.16814851760864258,-0.2913552522659302,-0.5673316717147827,-0.41227465867996216,-1.023612141609192,-0.9712668061256409,-0.6421094536781311,0.08678846806287766,-1.5769126415252686,0.4355464577674866,-0.9782195091247559,0.41739514470100403,0.6070987582206726,1.0705207586288452,0.8076209425926208,1.4119099378585815,-0.16173546016216278,-1.8141319751739502,-0.7432590126991272,-1.1238030195236206,-1.548351526260376,0.13599011301994324,-0.03322569653391838,0.2844344675540924,0.6132985949516296,0.20269957184791565,1.4622458219528198,1.521087408065796,2.249786853790283,2.212354898452759,1.238133430480957,2.1093287467956543,1.795303225517273,-0.3503367304801941,-0.8173151016235352,-0.6075678467750549,0.6033574342727661,0.5272678136825562,-0.19056417047977448,0.8487375974655151,0.7099530696868896,0.8286969661712646,-0.7999199628829956,-1.5446873903274536,-0.7603048086166382,-0.33087438344955444,0.9126513004302979,0.3597628176212311,0.5380207896232605,0.8093385100364685,-0.04007357731461525,-1.6532561779022217,1.1466740369796753,1.9530013799667358,0.9489798545837402,1.1670219898223877,2.056995153427124,2.247426986694336,-0.06356483697891235,-0.5324400067329407,-1.3990836143493652,-1.4900754690170288,-2.18925404548645,-1.1615701913833618,-1.2668349742889404,-0.9427468180656433,-1.5994778871536255,-1.3107292652130127,-1.5718607902526855,-1.1884218454360962,-1.334668755531311,-0.9508405923843384,0.33714574575424194,-0.3580147624015808,-0.430868923664093,-0.8544936776161194,-0.8925185799598694,-1.9901214838027954,-1.834270715713501,-1.3911798000335693,-1.9397481679916382,-1.647915005683899,-1.4264285564422607,-1.2698897123336792,-1.4018255472183228,-1.0598224401474,-0.309309184551239,-0.48702743649482727,0.2529910206794739,-0.1279318630695343,0.21033866703510284,1.072816014289856,-0.3981338441371918,-0.20195215940475464,-0.6331830024719238,-0.030830221250653267,-1.1626760959625244,-1.885893702507019,-1.2176222801208496,-0.4699570834636688,0.5011860728263855,1.0432995557785034,-0.4867415130138397,-0.9455709457397461,-0.3790263533592224,-0.6244714856147766,-0.6104016900062561,-0.115120068192482,0.570257842540741,-0.9657723903656006,-2.2742221355438232,-0.8398057222366333,-0.040708281099796295,-0.12804000079631805,0.006498095579445362,0.004116903990507126,0.15418174862861633,0.17926490306854248,0.8515193462371826,0.5190225839614868,-0.6781776547431946,-0.1399197280406952,-1.9984086751937866,-1.931376338005066,-1.5243655443191528,-1.4683839082717896,0.5570799708366394,0.6447850465774536,0.6197699904441833,-0.45124852657318115,-0.20767493546009064,-0.364252507686615,0.19757969677448273,0.332255482673645,0.544715166091919,0.6056368947029114,0.5739585161209106,-0.446242094039917,-0.3112706243991852,-0.11049700528383255,-0.5109668970108032,-0.5277423858642578,-0.21946951746940613,-0.9756624698638916,1.232987403869629,1.4634363651275635,1.5521548986434937,1.0503504276275635,0.7506516575813293,0.6362497210502625,0.7368060350418091,1.046309471130371,1.227077841758728,1.5126298666000366,1.4352655410766602,2.145421028137207,1.9531152248382568,2.212355852127075,2.2875092029571533,2.1766915321350098,2.2347075939178467,1.9083324670791626],\"z\":[-0.5709598064422607,1.8114104270935059,0.9305407404899597,-0.9035405516624451,-1.1033555269241333,1.5832812786102295,-0.38885360956192017,-0.28715234994888306,3.458982229232788,-1.264485478401184,-0.37810590863227844,-0.5401219725608826,0.16728198528289795,1.161557912826538,0.4280521869659424,0.5971857309341431,1.7194405794143677,3.2881951332092285,0.2036486566066742,0.6500367522239685,1.1241436004638672,2.938339948654175,2.573719024658203,0.9106658101081848,1.6050951480865479,-0.7816320657730103,0.7328699231147766,1.9979630708694458,0.39581382274627686,0.6977609395980835,1.3986852169036865,1.4980822801589966,2.69762921333313,0.3426121175289154,0.23064278066158295,1.129280924797058,0.9378373622894287,0.6479119658470154,0.729296088218689,0.7187280654907227,1.0205655097961426,0.770594596862793,0.2829540967941284,0.5175413489341736,3.14552903175354,0.7218539714813232,0.13715435564517975,0.4696941077709198,2.5096688270568848,1.9444220066070557,1.1126863956451416,0.6066569685935974,1.4178662300109863,0.5304967164993286,2.165205717086792,0.7560701370239258,0.19635193049907684,0.3659820854663849,0.4673992395401001,2.111241340637207,0.5188812017440796,-1.4967477321624756,-1.046820044517517,-0.5477175116539001,1.68290376663208,1.0996134281158447,0.6660667657852173,-0.7179393768310547,-0.569736659526825,-0.3104579448699951,-0.6012095212936401,0.9217713475227356,0.5979135632514954,0.2685994803905487,1.4797871112823486,0.06096024438738823,0.30303826928138733,-0.7207124829292297,0.01110428012907505,-0.6175692677497864,-0.8910108208656311,-0.9709025621414185,-1.4209620952606201,-2.0157928466796875,-1.8028972148895264,-1.7872560024261475,-2.2040889263153076,-1.4019774198532104,-1.9674875736236572,-2.2371511459350586,-2.5457212924957275,-1.1502344608306885,-1.7849167585372925,-1.446439504623413,-1.1606628894805908,-1.0772300958633423,-0.8412331342697144,-1.3124946355819702,-0.36830103397369385,-0.4944480061531067,-0.8430985808372498,0.49877312779426575,0.7751972675323486,-1.0984951257705688,-0.9156363010406494,-1.9628112316131592,-0.9012826085090637,-0.4839757978916168,-0.5073045492172241,-0.29320308566093445,-0.6706444621086121,-1.2989449501037598,-0.5595085620880127,-0.38867276906967163,0.8493850231170654,-0.158352792263031,-1.1578679084777832,-1.156598448753357,1.7422529458999634,-2.18668532371521,-0.5970836281776428,-0.5629231929779053,-0.33078667521476746,-0.8947697281837463,-1.2517343759536743,-1.0531235933303833,-1.8444397449493408,-0.1493116021156311,-0.018403775990009308,3.066779136657715,0.9067003726959229,0.7053021788597107,0.19190481305122375,-0.060627467930316925,-0.8860862255096436,-0.35164618492126465,0.6672223210334778,0.47290897369384766,0.37174397706985474,0.3125360310077667,0.0920792818069458,-0.47020453214645386,-1.0196033716201782,0.2352335900068283,-1.7045300006866455,-1.6712722778320312,-0.6940782070159912,-0.7194337248802185,0.31623727083206177,-0.8204426765441895,-0.9781121611595154,-1.443060278892517,0.3017699420452118,-1.8012131452560425,-0.9041801691055298,-1.8023183345794678,-1.0804927349090576,-0.5360922813415527,-0.0706060528755188,0.8469599485397339,0.016137469559907913,0.2269737273454666,0.550064742565155,0.17997898161411285,0.04229282587766647,0.03176284208893776,-0.1336047202348709,-0.17883209884166718,-0.40616655349731445,-0.41103246808052063,0.17052516341209412,-0.5573087930679321,-0.010129000060260296,-0.5588009357452393,-0.47088176012039185,0.1100916787981987,-0.021984728053212166,0.19855941832065582,-1.5838561058044434,-1.2775037288665771,-0.03499101102352142,-0.6606484651565552,-0.6505928635597229,-2.0000171661376953,-2.073357582092285,-1.67399263381958,-1.7028707265853882,-0.26553377509117126,-1.2675930261611938,-0.1904987096786499,-1.056126594543457,-0.6388727426528931,0.05779852718114853,-0.2814416289329529,0.2667582929134369,0.4950995445251465,0.13935506343841553,0.29671579599380493,0.08315134793519974,0.07725373655557632,-0.20844766497612,-0.037773992866277695,-0.5142226815223694,0.08037757873535156,1.5258021354675293,1.219421625137329,1.0060831308364868,1.255491852760315,0.5875290632247925,1.1730384826660156,0.9942194819450378,0.8048205971717834,1.3536659479141235,0.9506027102470398,0.9589883685112,0.05025491118431091,-0.10605048388242722,-0.8061863780021667,-0.5341157913208008,0.388208270072937,0.20403456687927246,-0.7759215831756592,0.451769083738327,0.06487085670232773,0.5179733037948608,1.324843168258667,0.8252822756767273,0.9913622736930847,0.7496010661125183,0.3461388647556305,0.0773845985531807,-0.39944303035736084,0.15224401652812958],\"type\":\"scatter3d\"}],                        {\"template\":{\"data\":{\"histogram2dcontour\":[{\"type\":\"histogram2dcontour\",\"colorbar\":{\"outlinewidth\":0,\"ticks\":\"\"},\"colorscale\":[[0.0,\"#0d0887\"],[0.1111111111111111,\"#46039f\"],[0.2222222222222222,\"#7201a8\"],[0.3333333333333333,\"#9c179e\"],[0.4444444444444444,\"#bd3786\"],[0.5555555555555556,\"#d8576b\"],[0.6666666666666666,\"#ed7953\"],[0.7777777777777778,\"#fb9f3a\"],[0.8888888888888888,\"#fdca26\"],[1.0,\"#f0f921\"]]}],\"choropleth\":[{\"type\":\"choropleth\",\"colorbar\":{\"outlinewidth\":0,\"ticks\":\"\"}}],\"histogram2d\":[{\"type\":\"histogram2d\",\"colorbar\":{\"outlinewidth\":0,\"ticks\":\"\"},\"colorscale\":[[0.0,\"#0d0887\"],[0.1111111111111111,\"#46039f\"],[0.2222222222222222,\"#7201a8\"],[0.3333333333333333,\"#9c179e\"],[0.4444444444444444,\"#bd3786\"],[0.5555555555555556,\"#d8576b\"],[0.6666666666666666,\"#ed7953\"],[0.7777777777777778,\"#fb9f3a\"],[0.8888888888888888,\"#fdca26\"],[1.0,\"#f0f921\"]]}],\"heatmap\":[{\"type\":\"heatmap\",\"colorbar\":{\"outlinewidth\":0,\"ticks\":\"\"},\"colorscale\":[[0.0,\"#0d0887\"],[0.1111111111111111,\"#46039f\"],[0.2222222222222222,\"#7201a8\"],[0.3333333333333333,\"#9c179e\"],[0.4444444444444444,\"#bd3786\"],[0.5555555555555556,\"#d8576b\"],[0.6666666666666666,\"#ed7953\"],[0.7777777777777778,\"#fb9f3a\"],[0.8888888888888888,\"#fdca26\"],[1.0,\"#f0f921\"]]}],\"heatmapgl\":[{\"type\":\"heatmapgl\",\"colorbar\":{\"outlinewidth\":0,\"ticks\":\"\"},\"colorscale\":[[0.0,\"#0d0887\"],[0.1111111111111111,\"#46039f\"],[0.2222222222222222,\"#7201a8\"],[0.3333333333333333,\"#9c179e\"],[0.4444444444444444,\"#bd3786\"],[0.5555555555555556,\"#d8576b\"],[0.6666666666666666,\"#ed7953\"],[0.7777777777777778,\"#fb9f3a\"],[0.8888888888888888,\"#fdca26\"],[1.0,\"#f0f921\"]]}],\"contourcarpet\":[{\"type\":\"contourcarpet\",\"colorbar\":{\"outlinewidth\":0,\"ticks\":\"\"}}],\"contour\":[{\"type\":\"contour\",\"colorbar\":{\"outlinewidth\":0,\"ticks\":\"\"},\"colorscale\":[[0.0,\"#0d0887\"],[0.1111111111111111,\"#46039f\"],[0.2222222222222222,\"#7201a8\"],[0.3333333333333333,\"#9c179e\"],[0.4444444444444444,\"#bd3786\"],[0.5555555555555556,\"#d8576b\"],[0.6666666666666666,\"#ed7953\"],[0.7777777777777778,\"#fb9f3a\"],[0.8888888888888888,\"#fdca26\"],[1.0,\"#f0f921\"]]}],\"surface\":[{\"type\":\"surface\",\"colorbar\":{\"outlinewidth\":0,\"ticks\":\"\"},\"colorscale\":[[0.0,\"#0d0887\"],[0.1111111111111111,\"#46039f\"],[0.2222222222222222,\"#7201a8\"],[0.3333333333333333,\"#9c179e\"],[0.4444444444444444,\"#bd3786\"],[0.5555555555555556,\"#d8576b\"],[0.6666666666666666,\"#ed7953\"],[0.7777777777777778,\"#fb9f3a\"],[0.8888888888888888,\"#fdca26\"],[1.0,\"#f0f921\"]]}],\"mesh3d\":[{\"type\":\"mesh3d\",\"colorbar\":{\"outlinewidth\":0,\"ticks\":\"\"}}],\"scatter\":[{\"fillpattern\":{\"fillmode\":\"overlay\",\"size\":10,\"solidity\":0.2},\"type\":\"scatter\"}],\"parcoords\":[{\"type\":\"parcoords\",\"line\":{\"colorbar\":{\"outlinewidth\":0,\"ticks\":\"\"}}}],\"scatterpolargl\":[{\"type\":\"scatterpolargl\",\"marker\":{\"colorbar\":{\"outlinewidth\":0,\"ticks\":\"\"}}}],\"bar\":[{\"error_x\":{\"color\":\"#2a3f5f\"},\"error_y\":{\"color\":\"#2a3f5f\"},\"marker\":{\"line\":{\"color\":\"#E5ECF6\",\"width\":0.5},\"pattern\":{\"fillmode\":\"overlay\",\"size\":10,\"solidity\":0.2}},\"type\":\"bar\"}],\"scattergeo\":[{\"type\":\"scattergeo\",\"marker\":{\"colorbar\":{\"outlinewidth\":0,\"ticks\":\"\"}}}],\"scatterpolar\":[{\"type\":\"scatterpolar\",\"marker\":{\"colorbar\":{\"outlinewidth\":0,\"ticks\":\"\"}}}],\"histogram\":[{\"marker\":{\"pattern\":{\"fillmode\":\"overlay\",\"size\":10,\"solidity\":0.2}},\"type\":\"histogram\"}],\"scattergl\":[{\"type\":\"scattergl\",\"marker\":{\"colorbar\":{\"outlinewidth\":0,\"ticks\":\"\"}}}],\"scatter3d\":[{\"type\":\"scatter3d\",\"line\":{\"colorbar\":{\"outlinewidth\":0,\"ticks\":\"\"}},\"marker\":{\"colorbar\":{\"outlinewidth\":0,\"ticks\":\"\"}}}],\"scattermapbox\":[{\"type\":\"scattermapbox\",\"marker\":{\"colorbar\":{\"outlinewidth\":0,\"ticks\":\"\"}}}],\"scatterternary\":[{\"type\":\"scatterternary\",\"marker\":{\"colorbar\":{\"outlinewidth\":0,\"ticks\":\"\"}}}],\"scattercarpet\":[{\"type\":\"scattercarpet\",\"marker\":{\"colorbar\":{\"outlinewidth\":0,\"ticks\":\"\"}}}],\"carpet\":[{\"aaxis\":{\"endlinecolor\":\"#2a3f5f\",\"gridcolor\":\"white\",\"linecolor\":\"white\",\"minorgridcolor\":\"white\",\"startlinecolor\":\"#2a3f5f\"},\"baxis\":{\"endlinecolor\":\"#2a3f5f\",\"gridcolor\":\"white\",\"linecolor\":\"white\",\"minorgridcolor\":\"white\",\"startlinecolor\":\"#2a3f5f\"},\"type\":\"carpet\"}],\"table\":[{\"cells\":{\"fill\":{\"color\":\"#EBF0F8\"},\"line\":{\"color\":\"white\"}},\"header\":{\"fill\":{\"color\":\"#C8D4E3\"},\"line\":{\"color\":\"white\"}},\"type\":\"table\"}],\"barpolar\":[{\"marker\":{\"line\":{\"color\":\"#E5ECF6\",\"width\":0.5},\"pattern\":{\"fillmode\":\"overlay\",\"size\":10,\"solidity\":0.2}},\"type\":\"barpolar\"}],\"pie\":[{\"automargin\":true,\"type\":\"pie\"}]},\"layout\":{\"autotypenumbers\":\"strict\",\"colorway\":[\"#636efa\",\"#EF553B\",\"#00cc96\",\"#ab63fa\",\"#FFA15A\",\"#19d3f3\",\"#FF6692\",\"#B6E880\",\"#FF97FF\",\"#FECB52\"],\"font\":{\"color\":\"#2a3f5f\"},\"hovermode\":\"closest\",\"hoverlabel\":{\"align\":\"left\"},\"paper_bgcolor\":\"white\",\"plot_bgcolor\":\"#E5ECF6\",\"polar\":{\"bgcolor\":\"#E5ECF6\",\"angularaxis\":{\"gridcolor\":\"white\",\"linecolor\":\"white\",\"ticks\":\"\"},\"radialaxis\":{\"gridcolor\":\"white\",\"linecolor\":\"white\",\"ticks\":\"\"}},\"ternary\":{\"bgcolor\":\"#E5ECF6\",\"aaxis\":{\"gridcolor\":\"white\",\"linecolor\":\"white\",\"ticks\":\"\"},\"baxis\":{\"gridcolor\":\"white\",\"linecolor\":\"white\",\"ticks\":\"\"},\"caxis\":{\"gridcolor\":\"white\",\"linecolor\":\"white\",\"ticks\":\"\"}},\"coloraxis\":{\"colorbar\":{\"outlinewidth\":0,\"ticks\":\"\"}},\"colorscale\":{\"sequential\":[[0.0,\"#0d0887\"],[0.1111111111111111,\"#46039f\"],[0.2222222222222222,\"#7201a8\"],[0.3333333333333333,\"#9c179e\"],[0.4444444444444444,\"#bd3786\"],[0.5555555555555556,\"#d8576b\"],[0.6666666666666666,\"#ed7953\"],[0.7777777777777778,\"#fb9f3a\"],[0.8888888888888888,\"#fdca26\"],[1.0,\"#f0f921\"]],\"sequentialminus\":[[0.0,\"#0d0887\"],[0.1111111111111111,\"#46039f\"],[0.2222222222222222,\"#7201a8\"],[0.3333333333333333,\"#9c179e\"],[0.4444444444444444,\"#bd3786\"],[0.5555555555555556,\"#d8576b\"],[0.6666666666666666,\"#ed7953\"],[0.7777777777777778,\"#fb9f3a\"],[0.8888888888888888,\"#fdca26\"],[1.0,\"#f0f921\"]],\"diverging\":[[0,\"#8e0152\"],[0.1,\"#c51b7d\"],[0.2,\"#de77ae\"],[0.3,\"#f1b6da\"],[0.4,\"#fde0ef\"],[0.5,\"#f7f7f7\"],[0.6,\"#e6f5d0\"],[0.7,\"#b8e186\"],[0.8,\"#7fbc41\"],[0.9,\"#4d9221\"],[1,\"#276419\"]]},\"xaxis\":{\"gridcolor\":\"white\",\"linecolor\":\"white\",\"ticks\":\"\",\"title\":{\"standoff\":15},\"zerolinecolor\":\"white\",\"automargin\":true,\"zerolinewidth\":2},\"yaxis\":{\"gridcolor\":\"white\",\"linecolor\":\"white\",\"ticks\":\"\",\"title\":{\"standoff\":15},\"zerolinecolor\":\"white\",\"automargin\":true,\"zerolinewidth\":2},\"scene\":{\"xaxis\":{\"backgroundcolor\":\"#E5ECF6\",\"gridcolor\":\"white\",\"linecolor\":\"white\",\"showbackground\":true,\"ticks\":\"\",\"zerolinecolor\":\"white\",\"gridwidth\":2},\"yaxis\":{\"backgroundcolor\":\"#E5ECF6\",\"gridcolor\":\"white\",\"linecolor\":\"white\",\"showbackground\":true,\"ticks\":\"\",\"zerolinecolor\":\"white\",\"gridwidth\":2},\"zaxis\":{\"backgroundcolor\":\"#E5ECF6\",\"gridcolor\":\"white\",\"linecolor\":\"white\",\"showbackground\":true,\"ticks\":\"\",\"zerolinecolor\":\"white\",\"gridwidth\":2}},\"shapedefaults\":{\"line\":{\"color\":\"#2a3f5f\"}},\"annotationdefaults\":{\"arrowcolor\":\"#2a3f5f\",\"arrowhead\":0,\"arrowwidth\":1},\"geo\":{\"bgcolor\":\"white\",\"landcolor\":\"#E5ECF6\",\"subunitcolor\":\"white\",\"showland\":true,\"showlakes\":true,\"lakecolor\":\"white\"},\"title\":{\"x\":0.05},\"mapbox\":{\"style\":\"light\"}}},\"scene\":{\"domain\":{\"x\":[0.0,1.0],\"y\":[0.0,1.0]},\"xaxis\":{\"title\":{\"text\":\"x\"}},\"yaxis\":{\"title\":{\"text\":\"y\"}},\"zaxis\":{\"title\":{\"text\":\"z\"}}},\"legend\":{\"tracegroupgap\":0},\"margin\":{\"t\":60}},                        {\"responsive\": true}                    ).then(function(){\n",
              "                            \n",
              "var gd = document.getElementById('d24412e8-4d8a-4a4a-a8b3-19a8f74e15f1');\n",
              "var x = new MutationObserver(function (mutations, observer) {{\n",
              "        var display = window.getComputedStyle(gd).display;\n",
              "        if (!display || display === 'none') {{\n",
              "            console.log([gd, 'removed!']);\n",
              "            Plotly.purge(gd);\n",
              "            observer.disconnect();\n",
              "        }}\n",
              "}});\n",
              "\n",
              "// Listen for the removal of the full notebook cells\n",
              "var notebookContainer = gd.closest('#notebook-container');\n",
              "if (notebookContainer) {{\n",
              "    x.observe(notebookContainer, {childList: true});\n",
              "}}\n",
              "\n",
              "// Listen for the clearing of the current output cell\n",
              "var outputEl = gd.closest('.output');\n",
              "if (outputEl) {{\n",
              "    x.observe(outputEl, {childList: true});\n",
              "}}\n",
              "\n",
              "                        })                };                            </script>        </div>\n",
              "</body>\n",
              "</html>"
            ]
          },
          "metadata": {}
        }
      ],
      "source": [
        "word_matrix2 = np.array([W2[word2idx[word]].detach().numpy() for word in vocabulary])\n",
        "num_components = 3\n",
        "pca = PCA(n_components=num_components)\n",
        "pca_result = pca.fit_transform(word_matrix2)\n",
        "\n",
        "data = {\n",
        "    'x': pca_result[:, 0],\n",
        "    'y': pca_result[:, 1],\n",
        "    'z': pca_result[:, 2],\n",
        "    'word': vocabulary\n",
        "}\n",
        "\n",
        "fig = px.scatter_3d(data, x='x', y='y', z='z', text='word')\n",
        "\n",
        "fig.update_traces(marker=dict(size=8))\n",
        "\n",
        "fig.show()"
      ]
    },
    {
      "cell_type": "markdown",
      "source": [
        "# Evaluating Word Embeddings with Analogies"
      ],
      "metadata": {
        "id": "eR0R02fKmWt8"
      }
    },
    {
      "cell_type": "code",
      "execution_count": 22,
      "metadata": {
        "colab": {
          "base_uri": "https://localhost:8080/",
          "height": 668
        },
        "id": "KHZPJCu4oJ3f",
        "outputId": "cddd4367-8da1-4bf6-d734-62fd68bd757e"
      },
      "outputs": [
        {
          "output_type": "stream",
          "name": "stdout",
          "text": [
            "['men', 'women', 'phone', 'cell']\n",
            "PCA Vectors: \n",
            "[[-2.125269   -0.3881171 ]\n",
            " [-2.5132918   0.07537173]\n",
            " [ 2.7831354  -1.3104275 ]\n",
            " [ 1.8554251   1.6231729 ]]\n"
          ]
        },
        {
          "output_type": "display_data",
          "data": {
            "text/plain": [
              "<Figure size 800x600 with 1 Axes>"
            ],
            "image/png": "[encoded data removed]"
          },
          "metadata": {}
        }
      ],
      "source": [
        "words = [\"men\", \"women\", \"phone\"]\n",
        "\n",
        "target_vector = W2[word2idx[words[1]]].detach().numpy() - W2[word2idx[words[0]]].detach().numpy() + W2[word2idx[words[2]]].detach().numpy()\n",
        "highest_similarity = -1\n",
        "\n",
        "for i in range(vocabulary_size):\n",
        "      word_vector_current = W2[i].detach().numpy()\n",
        "      if np.array_equal(word_vector_current, W2[word2idx[words[2]]].detach().numpy()):\n",
        "        continue\n",
        "      similarity = cosine_similarity(word_vector_current, target_vector)\n",
        "      if similarity> highest_similarity:\n",
        "        highest_similarity = similarity\n",
        "        predicted = idx2word[i]\n",
        "\n",
        "words.append(predicted)\n",
        "print(words)\n",
        "\n",
        "word_matrix = np.array([W2[word2idx[word]].detach().numpy() for word in words])\n",
        "num_components = 2\n",
        "pca = PCA(n_components=num_components)\n",
        "pca_result = pca.fit_transform(word_matrix)\n",
        "print(\"PCA Vectors: \\n\" + str(pca_result))\n",
        "plt.figure(figsize=(8, 6))\n",
        "plt.scatter(pca_result[:, 0], pca_result[:, 1], marker='o')\n",
        "\n",
        "for i, word in enumerate(words):\n",
        "    plt.annotate(word, (pca_result[i, 0], pca_result[i, 1]))\n",
        "\n",
        "plt.xlabel(\"Principal Component 1\")\n",
        "plt.ylabel(\"Principal Component 2\")\n",
        "plt.title(\"PCA Scatter Plot of Word Vectors\")\n",
        "\n",
        "plt.show()"
      ]
    }
  ],
  "metadata": {
    "colab": {
      "provenance": [],
      "gpuType": "T4",
      "authorship_tag": "ABX9TyPBKzvDPgT73rokC8dYNGXB",
      "include_colab_link": true
    },
    "kernelspec": {
      "display_name": "Python 3",
      "name": "python3"
    },
    "language_info": {
      "name": "python"
    },
    "accelerator": "GPU"
  },
  "nbformat": 4,
  "nbformat_minor": 0
}