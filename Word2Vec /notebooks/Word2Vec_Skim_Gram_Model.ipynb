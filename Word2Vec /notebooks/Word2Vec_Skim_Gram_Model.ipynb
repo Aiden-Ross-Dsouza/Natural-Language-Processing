{
  "cells": [
    {
      "cell_type": "markdown",
      "metadata": {
        "id": "view-in-github",
        "colab_type": "text"
      },
      "source": [
        "<a href=\"https://colab.research.google.com/github/Aiden-Ross-Dsouza/Natural-Language-Processing/blob/main/Word2Vec%20/notebooks/Word2Vec_Skim_Gram_Model.ipynb\" target=\"_parent\"><img src=\"https://colab.research.google.com/assets/colab-badge.svg\" alt=\"Open In Colab\"/></a>"
      ]
    },
    {
      "cell_type": "markdown",
      "source": [
        "# Import Libraries"
      ],
      "metadata": {
        "id": "MQsRZrTLz99-"
      }
    },
    {
      "cell_type": "code",
      "execution_count": null,
      "metadata": {
        "id": "0nN-aSctF95h"
      },
      "outputs": [],
      "source": [
        "import numpy as np\n",
        "import torch\n",
        "import torchvision\n",
        "import matplotlib.pyplot as plt\n",
        "from sklearn.decomposition import PCA\n",
        "import plotly.express as px"
      ]
    },
    {
      "cell_type": "markdown",
      "source": [
        "# Prepare Corpus"
      ],
      "metadata": {
        "id": "Q6ayVcW862h7"
      }
    },
    {
      "cell_type": "code",
      "execution_count": null,
      "metadata": {
        "colab": {
          "base_uri": "https://localhost:8080/"
        },
        "id": "LMDfvtM03GyU",
        "outputId": "1f6b3d4d-bece-4294-c61c-560ed1d0b8a4"
      },
      "outputs": [
        {
          "output_type": "stream",
          "name": "stdout",
          "text": [
            "['Cell phones have gone from a sought-after luxury to a daily necessity', ' While these devices provide convenient access to the outside world they can be problematic for educators', ' High school teachers can tell children in their classes to put their phones away but should professors have the same control over adult men and women The key is to create cell phone usage policies that limit distractions without hindering student rights', ' The primary argument supporting cell phone control in the classroom is the fact that phones can be distracting', ' Not only do cell phones distract instructors but they may also distract students trying to pay attention to the lecture', ' This is the same effect as a moviegoer looking at his phone in a theater', ' Even if the phone makes no noise the light from the screen is enough to catch someones attention', ' Arguments against cell phone control typically focus on safety concerns', ' Should a crisis occur in the classroom students should have their phones on hand to make a call', ' If a student has a child he or she may need a phone in case of a medical emergency', ' If the student is on call for work he or she will need access to a phone', ' The list of exceptionworthy scenarios is endless', ' The best solution is to create cell phone usage rules that allow devices to be accessible without disturbing other students educational opportunities', ' Students should be permitted to keep their phones in their bags pockets or other belongings as long as the phones are on silent in class', ' Vibrate settings may be permitted if the instructor does not believe it will distract him or her since the noise of the vibration may not be noticeable in a large classroom', ' If a student needs to answer the phone during an emergency he or she can step out of the classroom to do so', ' This setup would give the students and the instructor peace of mind', ' Cell phone restrictions in classrooms should also include specific disciplinary actions for breaking the rules', ' If a student is caught using the phone in class he or she should be excused for the rest of the day', ' Professors should refrain from physically taking possession of a students phone because of liability conflicts', ' If the phone is damaged while in the professors possession the school or the instructor could be held responsible for the repairs', ' It is safer to ask the student to leave the classroom than it is to take the phone away completely', ' Each school professor and student body is different', ' Colleges must adapt their rules and discipline efforts to reflect the current needs of their students', ' Eliminating cell phones in college classrooms is an overstretch but there are ways to balance students rights and instructors rights', ' With the right amount of control and flexibility colleges can create a pleasant learning environment with maximum safety and minimal interruptions', '']\n"
          ]
        }
      ],
      "source": [
        "#https://towardsdatascience.com/implementing-word2vec-in-pytorch-skip-gram-model-e6bae040d2fb\n",
        "#https://www.kaggle.com/code/chmasgun/word2vec-and-visualization-with-pca\n",
        "\n",
        "corpus = \"Cell phones have gone from a sought-after luxury to a daily necessity. While these devices provide convenient access to the outside world, they can be problematic for educators. High school teachers can tell children in their classes to put their phones away, but should professors have the same control over adult men and women? The key is to create cell phone usage policies that limit distractions without hindering student rights. The primary argument supporting cell phone control in the classroom is the fact that phones can be distracting. Not only do cell phones distract instructors, but they may also distract students trying to pay attention to the lecture. This is the same effect as a moviegoer looking at his phone in a theater. Even if the phone makes no noise, the light from the screen is enough to catch someone's attention. Arguments against cell phone control typically focus on safety concerns. Should a crisis occur in the classroom, students should have their phones on hand to make a call. If a student has a child, he or she may need a phone in case of a medical emergency. If the student is on call for work, he or she will need access to a phone. The list of exceptionworthy scenarios is endless. The best solution is to create cell phone usage rules that allow devices to be accessible without disturbing other students' educational opportunities. Students should be permitted to keep their phones in their bags, pockets, or other belongings as long as the phones are on silent in class. Vibrate settings may be permitted if the instructor does not believe it will distract him or her, since the noise of the vibration may not be noticeable in a large classroom. If a student needs to answer the phone during an emergency, he or she can step out of the classroom to do so. This setup would give the students and the instructor peace of mind. Cell phone restrictions in classrooms should also include specific disciplinary actions for breaking the rules. If a student is caught using the phone in class, he or she should be excused for the rest of the day. Professors should refrain from physically taking possession of a student's phone because of liability conflicts. If the phone is damaged while in the professor's possession, the school or the instructor could be held responsible for the repairs. It is safer to ask the student to leave the classroom than it is to take the phone away completely. Each school, professor and student body is different. Colleges must adapt their rules and discipline efforts to reflect the current needs of their students. Eliminating cell phones in college classrooms is an overstretch, but there are ways to balance students' rights and instructors' rights. With the right amount of control and flexibility, colleges can create a pleasant learning environment with maximum safety and minimal interruptions.\"\n",
        "corpus = corpus.replace(',','')\n",
        "corpus = corpus.replace('\\'','')\n",
        "corpus = corpus.replace('?','')\n",
        "corpus = corpus.split('.')\n",
        "print(corpus)"
      ]
    },
    {
      "cell_type": "code",
      "execution_count": null,
      "metadata": {
        "colab": {
          "base_uri": "https://localhost:8080/"
        },
        "id": "5EQXnQAn3f8R",
        "outputId": "cc546cb7-1aa1-4e92-bc44-e5de373fae32"
      },
      "outputs": [
        {
          "output_type": "stream",
          "name": "stdout",
          "text": [
            "[['Cell', 'phones', 'have', 'gone', 'from', 'a', 'sought-after', 'luxury', 'to', 'a', 'daily', 'necessity'], ['While', 'these', 'devices', 'provide', 'convenient', 'access', 'to', 'the', 'outside', 'world', 'they', 'can', 'be', 'problematic', 'for', 'educators'], ['High', 'school', 'teachers', 'can', 'tell', 'children', 'in', 'their', 'classes', 'to', 'put', 'their', 'phones', 'away', 'but', 'should', 'professors', 'have', 'the', 'same', 'control', 'over', 'adult', 'men', 'and', 'women', 'The', 'key', 'is', 'to', 'create', 'cell', 'phone', 'usage', 'policies', 'that', 'limit', 'distractions', 'without', 'hindering', 'student', 'rights'], ['The', 'primary', 'argument', 'supporting', 'cell', 'phone', 'control', 'in', 'the', 'classroom', 'is', 'the', 'fact', 'that', 'phones', 'can', 'be', 'distracting'], ['Not', 'only', 'do', 'cell', 'phones', 'distract', 'instructors', 'but', 'they', 'may', 'also', 'distract', 'students', 'trying', 'to', 'pay', 'attention', 'to', 'the', 'lecture'], ['This', 'is', 'the', 'same', 'effect', 'as', 'a', 'moviegoer', 'looking', 'at', 'his', 'phone', 'in', 'a', 'theater'], ['Even', 'if', 'the', 'phone', 'makes', 'no', 'noise', 'the', 'light', 'from', 'the', 'screen', 'is', 'enough', 'to', 'catch', 'someones', 'attention'], ['Arguments', 'against', 'cell', 'phone', 'control', 'typically', 'focus', 'on', 'safety', 'concerns'], ['Should', 'a', 'crisis', 'occur', 'in', 'the', 'classroom', 'students', 'should', 'have', 'their', 'phones', 'on', 'hand', 'to', 'make', 'a', 'call'], ['If', 'a', 'student', 'has', 'a', 'child', 'he', 'or', 'she', 'may', 'need', 'a', 'phone', 'in', 'case', 'of', 'a', 'medical', 'emergency'], ['If', 'the', 'student', 'is', 'on', 'call', 'for', 'work', 'he', 'or', 'she', 'will', 'need', 'access', 'to', 'a', 'phone'], ['The', 'list', 'of', 'exceptionworthy', 'scenarios', 'is', 'endless'], ['The', 'best', 'solution', 'is', 'to', 'create', 'cell', 'phone', 'usage', 'rules', 'that', 'allow', 'devices', 'to', 'be', 'accessible', 'without', 'disturbing', 'other', 'students', 'educational', 'opportunities'], ['Students', 'should', 'be', 'permitted', 'to', 'keep', 'their', 'phones', 'in', 'their', 'bags', 'pockets', 'or', 'other', 'belongings', 'as', 'long', 'as', 'the', 'phones', 'are', 'on', 'silent', 'in', 'class'], ['Vibrate', 'settings', 'may', 'be', 'permitted', 'if', 'the', 'instructor', 'does', 'not', 'believe', 'it', 'will', 'distract', 'him', 'or', 'her', 'since', 'the', 'noise', 'of', 'the', 'vibration', 'may', 'not', 'be', 'noticeable', 'in', 'a', 'large', 'classroom'], ['If', 'a', 'student', 'needs', 'to', 'answer', 'the', 'phone', 'during', 'an', 'emergency', 'he', 'or', 'she', 'can', 'step', 'out', 'of', 'the', 'classroom', 'to', 'do', 'so'], ['This', 'setup', 'would', 'give', 'the', 'students', 'and', 'the', 'instructor', 'peace', 'of', 'mind'], ['Cell', 'phone', 'restrictions', 'in', 'classrooms', 'should', 'also', 'include', 'specific', 'disciplinary', 'actions', 'for', 'breaking', 'the', 'rules'], ['If', 'a', 'student', 'is', 'caught', 'using', 'the', 'phone', 'in', 'class', 'he', 'or', 'she', 'should', 'be', 'excused', 'for', 'the', 'rest', 'of', 'the', 'day'], ['Professors', 'should', 'refrain', 'from', 'physically', 'taking', 'possession', 'of', 'a', 'students', 'phone', 'because', 'of', 'liability', 'conflicts'], ['If', 'the', 'phone', 'is', 'damaged', 'while', 'in', 'the', 'professors', 'possession', 'the', 'school', 'or', 'the', 'instructor', 'could', 'be', 'held', 'responsible', 'for', 'the', 'repairs'], ['It', 'is', 'safer', 'to', 'ask', 'the', 'student', 'to', 'leave', 'the', 'classroom', 'than', 'it', 'is', 'to', 'take', 'the', 'phone', 'away', 'completely'], ['Each', 'school', 'professor', 'and', 'student', 'body', 'is', 'different'], ['Colleges', 'must', 'adapt', 'their', 'rules', 'and', 'discipline', 'efforts', 'to', 'reflect', 'the', 'current', 'needs', 'of', 'their', 'students'], ['Eliminating', 'cell', 'phones', 'in', 'college', 'classrooms', 'is', 'an', 'overstretch', 'but', 'there', 'are', 'ways', 'to', 'balance', 'students', 'rights', 'and', 'instructors', 'rights'], ['With', 'the', 'right', 'amount', 'of', 'control', 'and', 'flexibility', 'colleges', 'can', 'create', 'a', 'pleasant', 'learning', 'environment', 'with', 'maximum', 'safety', 'and', 'minimal', 'interruptions'], []]\n"
          ]
        }
      ],
      "source": [
        "def tokenize_corpus(corpus):\n",
        "    tokens = [x.split() for x in corpus]\n",
        "    return tokens\n",
        "\n",
        "tokenized_corpus = tokenize_corpus(corpus)\n",
        "print(tokenized_corpus)"
      ]
    },
    {
      "cell_type": "markdown",
      "source": [
        "# Build Vocabulary"
      ],
      "metadata": {
        "id": "lyf3fy656-RH"
      }
    },
    {
      "cell_type": "code",
      "execution_count": null,
      "metadata": {
        "colab": {
          "base_uri": "https://localhost:8080/"
        },
        "id": "cWfIiq8O4DFo",
        "outputId": "01706d0a-a19c-425f-8c1a-edfc81e95d1b"
      },
      "outputs": [
        {
          "output_type": "stream",
          "name": "stdout",
          "text": [
            "{'Cell': 0, 'phones': 1, 'have': 2, 'gone': 3, 'from': 4, 'a': 5, 'sought-after': 6, 'luxury': 7, 'to': 8, 'daily': 9, 'necessity': 10, 'While': 11, 'these': 12, 'devices': 13, 'provide': 14, 'convenient': 15, 'access': 16, 'the': 17, 'outside': 18, 'world': 19, 'they': 20, 'can': 21, 'be': 22, 'problematic': 23, 'for': 24, 'educators': 25, 'High': 26, 'school': 27, 'teachers': 28, 'tell': 29, 'children': 30, 'in': 31, 'their': 32, 'classes': 33, 'put': 34, 'away': 35, 'but': 36, 'should': 37, 'professors': 38, 'same': 39, 'control': 40, 'over': 41, 'adult': 42, 'men': 43, 'and': 44, 'women': 45, 'The': 46, 'key': 47, 'is': 48, 'create': 49, 'cell': 50, 'phone': 51, 'usage': 52, 'policies': 53, 'that': 54, 'limit': 55, 'distractions': 56, 'without': 57, 'hindering': 58, 'student': 59, 'rights': 60, 'primary': 61, 'argument': 62, 'supporting': 63, 'classroom': 64, 'fact': 65, 'distracting': 66, 'Not': 67, 'only': 68, 'do': 69, 'distract': 70, 'instructors': 71, 'may': 72, 'also': 73, 'students': 74, 'trying': 75, 'pay': 76, 'attention': 77, 'lecture': 78, 'This': 79, 'effect': 80, 'as': 81, 'moviegoer': 82, 'looking': 83, 'at': 84, 'his': 85, 'theater': 86, 'Even': 87, 'if': 88, 'makes': 89, 'no': 90, 'noise': 91, 'light': 92, 'screen': 93, 'enough': 94, 'catch': 95, 'someones': 96, 'Arguments': 97, 'against': 98, 'typically': 99, 'focus': 100, 'on': 101, 'safety': 102, 'concerns': 103, 'Should': 104, 'crisis': 105, 'occur': 106, 'hand': 107, 'make': 108, 'call': 109, 'If': 110, 'has': 111, 'child': 112, 'he': 113, 'or': 114, 'she': 115, 'need': 116, 'case': 117, 'of': 118, 'medical': 119, 'emergency': 120, 'work': 121, 'will': 122, 'list': 123, 'exceptionworthy': 124, 'scenarios': 125, 'endless': 126, 'best': 127, 'solution': 128, 'rules': 129, 'allow': 130, 'accessible': 131, 'disturbing': 132, 'other': 133, 'educational': 134, 'opportunities': 135, 'Students': 136, 'permitted': 137, 'keep': 138, 'bags': 139, 'pockets': 140, 'belongings': 141, 'long': 142, 'are': 143, 'silent': 144, 'class': 145, 'Vibrate': 146, 'settings': 147, 'instructor': 148, 'does': 149, 'not': 150, 'believe': 151, 'it': 152, 'him': 153, 'her': 154, 'since': 155, 'vibration': 156, 'noticeable': 157, 'large': 158, 'needs': 159, 'answer': 160, 'during': 161, 'an': 162, 'step': 163, 'out': 164, 'so': 165, 'setup': 166, 'would': 167, 'give': 168, 'peace': 169, 'mind': 170, 'restrictions': 171, 'classrooms': 172, 'include': 173, 'specific': 174, 'disciplinary': 175, 'actions': 176, 'breaking': 177, 'caught': 178, 'using': 179, 'excused': 180, 'rest': 181, 'day': 182, 'Professors': 183, 'refrain': 184, 'physically': 185, 'taking': 186, 'possession': 187, 'because': 188, 'liability': 189, 'conflicts': 190, 'damaged': 191, 'while': 192, 'could': 193, 'held': 194, 'responsible': 195, 'repairs': 196, 'It': 197, 'safer': 198, 'ask': 199, 'leave': 200, 'than': 201, 'take': 202, 'completely': 203, 'Each': 204, 'professor': 205, 'body': 206, 'different': 207, 'Colleges': 208, 'must': 209, 'adapt': 210, 'discipline': 211, 'efforts': 212, 'reflect': 213, 'current': 214, 'Eliminating': 215, 'college': 216, 'overstretch': 217, 'there': 218, 'ways': 219, 'balance': 220, 'With': 221, 'right': 222, 'amount': 223, 'flexibility': 224, 'colleges': 225, 'pleasant': 226, 'learning': 227, 'environment': 228, 'with': 229, 'maximum': 230, 'minimal': 231, 'interruptions': 232}\n",
            "{0: 'Cell', 1: 'phones', 2: 'have', 3: 'gone', 4: 'from', 5: 'a', 6: 'sought-after', 7: 'luxury', 8: 'to', 9: 'daily', 10: 'necessity', 11: 'While', 12: 'these', 13: 'devices', 14: 'provide', 15: 'convenient', 16: 'access', 17: 'the', 18: 'outside', 19: 'world', 20: 'they', 21: 'can', 22: 'be', 23: 'problematic', 24: 'for', 25: 'educators', 26: 'High', 27: 'school', 28: 'teachers', 29: 'tell', 30: 'children', 31: 'in', 32: 'their', 33: 'classes', 34: 'put', 35: 'away', 36: 'but', 37: 'should', 38: 'professors', 39: 'same', 40: 'control', 41: 'over', 42: 'adult', 43: 'men', 44: 'and', 45: 'women', 46: 'The', 47: 'key', 48: 'is', 49: 'create', 50: 'cell', 51: 'phone', 52: 'usage', 53: 'policies', 54: 'that', 55: 'limit', 56: 'distractions', 57: 'without', 58: 'hindering', 59: 'student', 60: 'rights', 61: 'primary', 62: 'argument', 63: 'supporting', 64: 'classroom', 65: 'fact', 66: 'distracting', 67: 'Not', 68: 'only', 69: 'do', 70: 'distract', 71: 'instructors', 72: 'may', 73: 'also', 74: 'students', 75: 'trying', 76: 'pay', 77: 'attention', 78: 'lecture', 79: 'This', 80: 'effect', 81: 'as', 82: 'moviegoer', 83: 'looking', 84: 'at', 85: 'his', 86: 'theater', 87: 'Even', 88: 'if', 89: 'makes', 90: 'no', 91: 'noise', 92: 'light', 93: 'screen', 94: 'enough', 95: 'catch', 96: 'someones', 97: 'Arguments', 98: 'against', 99: 'typically', 100: 'focus', 101: 'on', 102: 'safety', 103: 'concerns', 104: 'Should', 105: 'crisis', 106: 'occur', 107: 'hand', 108: 'make', 109: 'call', 110: 'If', 111: 'has', 112: 'child', 113: 'he', 114: 'or', 115: 'she', 116: 'need', 117: 'case', 118: 'of', 119: 'medical', 120: 'emergency', 121: 'work', 122: 'will', 123: 'list', 124: 'exceptionworthy', 125: 'scenarios', 126: 'endless', 127: 'best', 128: 'solution', 129: 'rules', 130: 'allow', 131: 'accessible', 132: 'disturbing', 133: 'other', 134: 'educational', 135: 'opportunities', 136: 'Students', 137: 'permitted', 138: 'keep', 139: 'bags', 140: 'pockets', 141: 'belongings', 142: 'long', 143: 'are', 144: 'silent', 145: 'class', 146: 'Vibrate', 147: 'settings', 148: 'instructor', 149: 'does', 150: 'not', 151: 'believe', 152: 'it', 153: 'him', 154: 'her', 155: 'since', 156: 'vibration', 157: 'noticeable', 158: 'large', 159: 'needs', 160: 'answer', 161: 'during', 162: 'an', 163: 'step', 164: 'out', 165: 'so', 166: 'setup', 167: 'would', 168: 'give', 169: 'peace', 170: 'mind', 171: 'restrictions', 172: 'classrooms', 173: 'include', 174: 'specific', 175: 'disciplinary', 176: 'actions', 177: 'breaking', 178: 'caught', 179: 'using', 180: 'excused', 181: 'rest', 182: 'day', 183: 'Professors', 184: 'refrain', 185: 'physically', 186: 'taking', 187: 'possession', 188: 'because', 189: 'liability', 190: 'conflicts', 191: 'damaged', 192: 'while', 193: 'could', 194: 'held', 195: 'responsible', 196: 'repairs', 197: 'It', 198: 'safer', 199: 'ask', 200: 'leave', 201: 'than', 202: 'take', 203: 'completely', 204: 'Each', 205: 'professor', 206: 'body', 207: 'different', 208: 'Colleges', 209: 'must', 210: 'adapt', 211: 'discipline', 212: 'efforts', 213: 'reflect', 214: 'current', 215: 'Eliminating', 216: 'college', 217: 'overstretch', 218: 'there', 219: 'ways', 220: 'balance', 221: 'With', 222: 'right', 223: 'amount', 224: 'flexibility', 225: 'colleges', 226: 'pleasant', 227: 'learning', 228: 'environment', 229: 'with', 230: 'maximum', 231: 'minimal', 232: 'interruptions'}\n",
            "233\n"
          ]
        }
      ],
      "source": [
        "vocabulary = []\n",
        "for sentence in tokenized_corpus:\n",
        "    for token in sentence:\n",
        "        if token not in vocabulary:\n",
        "            vocabulary.append(token)\n",
        "\n",
        "word2idx = {w: idx for (idx, w) in enumerate(vocabulary)}\n",
        "idx2word = {idx: w for (idx, w) in enumerate(vocabulary)}\n",
        "\n",
        "vocabulary_size = len(vocabulary)\n",
        "\n",
        "print(word2idx)\n",
        "print(idx2word)\n",
        "print(vocabulary_size)"
      ]
    },
    {
      "cell_type": "markdown",
      "source": [
        "# Skip Gram Model"
      ],
      "metadata": {
        "id": "dErx5Min7ST3"
      }
    },
    {
      "cell_type": "code",
      "execution_count": null,
      "metadata": {
        "colab": {
          "base_uri": "https://localhost:8080/"
        },
        "id": "_z98huds4XP_",
        "outputId": "5d080dbd-ac4d-4a56-c447-fc27dc9f752a"
      },
      "outputs": [
        {
          "output_type": "stream",
          "name": "stdout",
          "text": [
            "[[  0   1]\n",
            " [  0   2]\n",
            " [  0   3]\n",
            " ...\n",
            " [232 102]\n",
            " [232  44]\n",
            " [232 231]]\n"
          ]
        }
      ],
      "source": [
        "window_size = 5\n",
        "idx_pairs = []\n",
        "\n",
        "for sentence in tokenized_corpus:\n",
        "    indices = [word2idx[word] for word in sentence]\n",
        "    for center_word_pos in range(len(indices)):\n",
        "        for w in range(-window_size, window_size + 1):\n",
        "            context_word_pos = center_word_pos + w\n",
        "            if context_word_pos < 0 or context_word_pos >= len(indices) or center_word_pos == context_word_pos:\n",
        "                continue\n",
        "            context_word_idx = indices[context_word_pos]\n",
        "            idx_pairs.append((indices[center_word_pos], context_word_idx))\n",
        "\n",
        "idx_pairs = np.array(idx_pairs)\n",
        "print(idx_pairs)"
      ]
    },
    {
      "cell_type": "code",
      "execution_count": null,
      "metadata": {
        "colab": {
          "base_uri": "https://localhost:8080/"
        },
        "id": "aHyE0RmR6JUK",
        "outputId": "9c044f09-8e73-481d-bf4b-1d73607eec10"
      },
      "outputs": [
        {
          "output_type": "execute_result",
          "data": {
            "text/plain": [
              "tensor([0., 1., 0., 0., 0., 0., 0., 0., 0., 0., 0., 0., 0., 0., 0., 0., 0., 0.,\n",
              "        0., 0., 0., 0., 0., 0., 0., 0., 0., 0., 0., 0., 0., 0., 0., 0., 0., 0.,\n",
              "        0., 0., 0., 0., 0., 0., 0., 0., 0., 0., 0., 0., 0., 0., 0., 0., 0., 0.,\n",
              "        0., 0., 0., 0., 0., 0., 0., 0., 0., 0., 0., 0., 0., 0., 0., 0., 0., 0.,\n",
              "        0., 0., 0., 0., 0., 0., 0., 0., 0., 0., 0., 0., 0., 0., 0., 0., 0., 0.,\n",
              "        0., 0., 0., 0., 0., 0., 0., 0., 0., 0., 0., 0., 0., 0., 0., 0., 0., 0.,\n",
              "        0., 0., 0., 0., 0., 0., 0., 0., 0., 0., 0., 0., 0., 0., 0., 0., 0., 0.,\n",
              "        0., 0., 0., 0., 0., 0., 0., 0., 0., 0., 0., 0., 0., 0., 0., 0., 0., 0.,\n",
              "        0., 0., 0., 0., 0., 0., 0., 0., 0., 0., 0., 0., 0., 0., 0., 0., 0., 0.,\n",
              "        0., 0., 0., 0., 0., 0., 0., 0., 0., 0., 0., 0., 0., 0., 0., 0., 0., 0.,\n",
              "        0., 0., 0., 0., 0., 0., 0., 0., 0., 0., 0., 0., 0., 0., 0., 0., 0., 0.,\n",
              "        0., 0., 0., 0., 0., 0., 0., 0., 0., 0., 0., 0., 0., 0., 0., 0., 0., 0.,\n",
              "        0., 0., 0., 0., 0., 0., 0., 0., 0., 0., 0., 0., 0., 0., 0., 0., 0.])"
            ]
          },
          "metadata": {},
          "execution_count": 6
        }
      ],
      "source": [
        "def get_input_layer(word_idx):\n",
        "    x = torch.zeros(vocabulary_size).float()\n",
        "    x[word_idx] = 1.0\n",
        "    return x\n",
        "get_input_layer(1)"
      ]
    },
    {
      "cell_type": "markdown",
      "source": [
        "# Hyperparameters"
      ],
      "metadata": {
        "id": "_mHPDkb2j9a6"
      }
    },
    {
      "cell_type": "code",
      "source": [
        "embedding_dims = 10\n",
        "W1 = torch.tensor(torch.randn(embedding_dims, vocabulary_size).float(), requires_grad=True) #Size = [embedding_dims, vocabulary_size]\n",
        "W2 = torch.tensor(torch.randn(vocabulary_size, embedding_dims).float(), requires_grad=True) #Size = [vocabulary_size, embedding_dims]\n",
        "num_epochs = 1000\n",
        "learning_rate = 0.001\n",
        "\n",
        "no_epochs = []\n",
        "loss_plot = []"
      ],
      "metadata": {
        "id": "aQmnWt_BkJkc"
      },
      "execution_count": null,
      "outputs": []
    },
    {
      "cell_type": "markdown",
      "source": [
        "# Train"
      ],
      "metadata": {
        "id": "nK6Q5f0AkE2a"
      }
    },
    {
      "cell_type": "code",
      "source": [
        "for epo in range(num_epochs):\n",
        "    loss_val = 0\n",
        "    for data, target in idx_pairs:\n",
        "        x = torch.tensor(get_input_layer(data)).float() #Size = vocabulary_size\n",
        "        y_true = torch.tensor(torch.from_numpy(np.array([target])).long()) #Size = 1\n",
        "\n",
        "        z1 = torch.matmul(W1, x) #Size = embedding_dims\n",
        "        z2 = torch.matmul(W2, z1) #Size = vocabulary_size\n",
        "\n",
        "        log_softmax = torch.nn.functional.log_softmax(z2, dim=0) #Size = vocabulary_size\n",
        "        loss = torch.nn.functional.nll_loss(log_softmax.view(1,-1), y_true)\n",
        "        loss_val += loss.item() #loss_val is a scalar\n",
        "        loss.backward()\n",
        "        W1.data -= learning_rate * W1.grad.data #Size = [embedding_dims, vocabulary_size]\n",
        "        W2.data -= learning_rate * W2.grad.data #Size = [vocabulary_size, embedding_dims]\n",
        "        W1.grad.data.zero_()\n",
        "        W2.grad.data.zero_()\n",
        "    if (epo+1) % 50 == 0:\n",
        "        print(f'Loss at epo {epo+1}: {loss_val/len(idx_pairs)}')\n",
        "        no_epochs.append(epo)\n",
        "        loss_plot.append(loss_val/len(idx_pairs))"
      ],
      "metadata": {
        "id": "pAtl8ELdkVTF"
      },
      "execution_count": null,
      "outputs": []
    },
    {
      "cell_type": "code",
      "execution_count": null,
      "metadata": {
        "colab": {
          "base_uri": "https://localhost:8080/",
          "height": 1000
        },
        "id": "ljgexxnNGhyU",
        "outputId": "92b7177b-92bc-47f1-db63-c8679dfd957c"
      },
      "outputs": [
        {
          "output_type": "stream",
          "name": "stderr",
          "text": [
            "<ipython-input-7-3ac477a5175a>:2: UserWarning: To copy construct from a tensor, it is recommended to use sourceTensor.clone().detach() or sourceTensor.clone().detach().requires_grad_(True), rather than torch.tensor(sourceTensor).\n",
            "  W1 = torch.tensor(torch.randn(embedding_dims, vocabulary_size).float(), requires_grad=True) #Size = [embedding_dims, vocabulary_size]\n",
            "<ipython-input-7-3ac477a5175a>:3: UserWarning: To copy construct from a tensor, it is recommended to use sourceTensor.clone().detach() or sourceTensor.clone().detach().requires_grad_(True), rather than torch.tensor(sourceTensor).\n",
            "  W2 = torch.tensor(torch.randn(vocabulary_size, embedding_dims).float(), requires_grad=True) #Size = [vocabulary_size, embedding_dims]\n",
            "<ipython-input-7-3ac477a5175a>:17: UserWarning: To copy construct from a tensor, it is recommended to use sourceTensor.clone().detach() or sourceTensor.clone().detach().requires_grad_(True), rather than torch.tensor(sourceTensor).\n",
            "  x = torch.tensor(get_input_layer(data)).float() #Size = vocabulary_size\n",
            "<ipython-input-7-3ac477a5175a>:18: UserWarning: To copy construct from a tensor, it is recommended to use sourceTensor.clone().detach() or sourceTensor.clone().detach().requires_grad_(True), rather than torch.tensor(sourceTensor).\n",
            "  y_true = torch.tensor(torch.from_numpy(np.array([target])).long()) #Size = 1\n"
          ]
        },
        {
          "output_type": "stream",
          "name": "stdout",
          "text": [
            "Loss at epo 50: 5.674118654334486\n",
            "Loss at epo 100: 5.030290014432569\n",
            "Loss at epo 150: 4.700699637426531\n",
            "Loss at epo 200: 4.481626013244314\n",
            "Loss at epo 250: 4.315261080479387\n",
            "Loss at epo 300: 4.18212130648162\n",
            "Loss at epo 350: 4.07347347711401\n",
            "Loss at epo 400: 3.984624039759777\n",
            "Loss at epo 450: 3.9121651120080148\n",
            "Loss at epo 500: 3.853161873106886\n",
            "Loss at epo 550: 3.8050928298769326\n",
            "Loss at epo 600: 3.7657447097923957\n",
            "Loss at epo 650: 3.733186828150538\n",
            "Loss at epo 700: 3.705867291935559\n",
            "Loss at epo 750: 3.6826195527473695\n",
            "Loss at epo 800: 3.6625836827778464\n",
            "Loss at epo 850: 3.6451084892150805\n",
            "Loss at epo 900: 3.6297015437058042\n",
            "Loss at epo 950: 3.6159834913725923\n",
            "Loss at epo 1000: 3.603663074603222\n"
          ]
        },
        {
          "output_type": "execute_result",
          "data": {
            "text/plain": [
              "\" In the provided context, `W1` and `W2` are weight matrices used in a neural network model for word embedding. Each matrix serves a different purpose in the model, and their roles correspond to the architecture of the neural network.\\nHere's the difference between the word embeddings of `W1` and `W2`:\\n1. **`W1` (Input Layer Embeddings)**:\\n   - Each row of `W1` represents the embedding of a word in the input layer.\\n   - The rows of `W1` correspond to the vocabulary of input words.\\n   - When multiplied with an input word vector, `W1` transforms the input word into a higher-dimensional space (the hidden layer space), where the semantic relationships between words are captured.\\n   - The embeddings in `W1` are learned based on the context in which the words appear in the training data.\\n   - Typically, the dimensionality of the rows (embedding size) in `W1` is chosen to be the same as the desired dimensionality of the word embeddings.\\n2. **`W2` (Output Layer Embeddings)**:\\n   - Each column of `W2` represents the embedding of a word in the output layer.\\n   - The columns of `W2` also correspond to the vocabulary of words, typically the same vocabulary as `W1`.\\n   - When multiplied with a hidden layer representation, `W2` transforms the hidden layer back into the original vocabulary space, where the probability distribution over words is computed.\\n   - The embeddings in `W2` are learned to map the high-dimensional hidden layer representations back to the vocabulary space.\\n   - Like `W1`, the dimensionality of the columns (embedding size) in `W2` is typically chosen to be the same as the desired dimensionality of the word embeddings.\\nIn summary, `W1` and `W2` represent two different embedding spaces within the neural network model. `W1` maps input words to a higher-dimensional space where semantic relationships are captured, while `W2` maps the hidden layer representations back to the original vocabulary space for output prediction. The word embeddings in `W1` and `W2` are learned jointly during the training process to optimize the performance of the model on a specific task, such as word prediction or language modeling. \""
            ],
            "application/vnd.google.colaboratory.intrinsic+json": {
              "type": "string"
            }
          },
          "metadata": {},
          "execution_count": 7
        },
        {
          "output_type": "display_data",
          "data": {
            "text/plain": [
              "<Figure size 640x480 with 1 Axes>"
            ],
            "image/png": "[encoded data removed]"
          },
          "metadata": {}
        }
      ],
      "source": [
        "plt.plot(no_epochs, loss_plot)\n",
        "plt.xlabel('no of epochs')\n",
        "plt.ylabel('loss')"
      ]
    },
    {
      "cell_type": "markdown",
      "source": [
        "# PCA plot of 4 random words from the corpus"
      ],
      "metadata": {
        "id": "JQgjEUBUkcFy"
      }
    },
    {
      "cell_type": "code",
      "execution_count": null,
      "metadata": {
        "colab": {
          "base_uri": "https://localhost:8080/"
        },
        "id": "5y9HTB52vkpe",
        "outputId": "63ede2be-1a06-48a2-9164-2a92262b2f00"
      },
      "outputs": [
        {
          "output_type": "execute_result",
          "data": {
            "text/plain": [
              "array([[-2.0452547 , -1.1134205 , -0.4933898 ],\n",
              "       [ 0.6295794 ,  2.3464398 , -1.3467965 ],\n",
              "       [-2.0434053 , -1.532578  , -0.0202177 ],\n",
              "       [ 4.0752406 , -1.4284858 ,  0.20117718],\n",
              "       [-0.61616075,  1.7280451 ,  1.6592276 ]], dtype=float32)"
            ]
          },
          "metadata": {},
          "execution_count": 8
        }
      ],
      "source": [
        "plot_words = [\"phones\", \"school\", \"students\", \"safety\", \"rules\"]\n",
        "\n",
        "word_matrix = np.array([W2[word2idx[word]].detach().numpy() for word in plot_words])\n",
        "# The word vector retrieved from a Word2Vec model using the code model.wv[word] does not refer to one-hot vectors. Instead, it refers to dense, distributed word embeddings that capture the semantic meaning of words based on the context in which they appear in a large corpus of text. In contrast, word embeddings produced by Word2Vec models are dense vectors of real numbers with a fixed dimensionality, typically ranging from 50 to 300 dimensions. These word vectors are learned through unsupervised training on a large corpus of text and capture the semantic relationships between words based on the context in which they co-occur. Each dimension of the word vector represents a different aspect of the word's meaning, and similar words have similar vector representations in the embedding space.\n",
        "num_components = 3\n",
        "pca = PCA(n_components=num_components)\n",
        "pca_result = pca.fit_transform(word_matrix)\n",
        "pca_result"
      ]
    },
    {
      "cell_type": "code",
      "execution_count": null,
      "metadata": {
        "colab": {
          "base_uri": "https://localhost:8080/",
          "height": 542
        },
        "id": "sqWMoTL84Ss8",
        "outputId": "761254c9-38f3-4c72-d614-19f8f1ede97c"
      },
      "outputs": [
        {
          "output_type": "display_data",
          "data": {
            "text/html": [
              "<html>\n",
              "<head><meta charset=\"utf-8\" /></head>\n",
              "<body>\n",
              "    <div>            <script src=\"https://cdnjs.cloudflare.com/ajax/libs/mathjax/2.7.5/MathJax.js?config=TeX-AMS-MML_SVG\"></script><script type=\"text/javascript\">if (window.MathJax && window.MathJax.Hub && window.MathJax.Hub.Config) {window.MathJax.Hub.Config({SVG: {font: \"STIX-Web\"}});}</script>                <script type=\"text/javascript\">window.PlotlyConfig = {MathJaxConfig: 'local'};</script>\n",
              "        <script charset=\"utf-8\" src=\"https://cdn.plot.ly/plotly-2.24.1.min.js\"></script>                <div id=\"434cd477-5683-4406-8113-907426720c3a\" class=\"plotly-graph-div\" style=\"height:525px; width:100%;\"></div>            <script type=\"text/javascript\">                                    window.PLOTLYENV=window.PLOTLYENV || {};                                    if (document.getElementById(\"434cd477-5683-4406-8113-907426720c3a\")) {                    Plotly.newPlot(                        \"434cd477-5683-4406-8113-907426720c3a\",                        [{\"hovertemplate\":\"x=%{x}\\u003cbr\\u003ey=%{y}\\u003cbr\\u003ez=%{z}\\u003cbr\\u003eword=%{text}\\u003cextra\\u003e\\u003c\\u002fextra\\u003e\",\"legendgroup\":\"\",\"marker\":{\"color\":\"#636efa\",\"symbol\":\"circle\",\"size\":8},\"mode\":\"markers+text\",\"name\":\"\",\"scene\":\"scene\",\"showlegend\":false,\"text\":[\"phones\",\"school\",\"students\",\"safety\",\"rules\"],\"x\":[-2.045254707336426,0.6295794248580933,-2.043405294418335,4.075240612030029,-0.6161607503890991],\"y\":[-1.1134204864501953,2.346439838409424,-1.5325779914855957,-1.4284857511520386,1.728045105934143],\"z\":[-0.4933897852897644,-1.3467965126037598,-0.02021770365536213,0.201177179813385,1.6592276096343994],\"type\":\"scatter3d\"}],                        {\"template\":{\"data\":{\"histogram2dcontour\":[{\"type\":\"histogram2dcontour\",\"colorbar\":{\"outlinewidth\":0,\"ticks\":\"\"},\"colorscale\":[[0.0,\"#0d0887\"],[0.1111111111111111,\"#46039f\"],[0.2222222222222222,\"#7201a8\"],[0.3333333333333333,\"#9c179e\"],[0.4444444444444444,\"#bd3786\"],[0.5555555555555556,\"#d8576b\"],[0.6666666666666666,\"#ed7953\"],[0.7777777777777778,\"#fb9f3a\"],[0.8888888888888888,\"#fdca26\"],[1.0,\"#f0f921\"]]}],\"choropleth\":[{\"type\":\"choropleth\",\"colorbar\":{\"outlinewidth\":0,\"ticks\":\"\"}}],\"histogram2d\":[{\"type\":\"histogram2d\",\"colorbar\":{\"outlinewidth\":0,\"ticks\":\"\"},\"colorscale\":[[0.0,\"#0d0887\"],[0.1111111111111111,\"#46039f\"],[0.2222222222222222,\"#7201a8\"],[0.3333333333333333,\"#9c179e\"],[0.4444444444444444,\"#bd3786\"],[0.5555555555555556,\"#d8576b\"],[0.6666666666666666,\"#ed7953\"],[0.7777777777777778,\"#fb9f3a\"],[0.8888888888888888,\"#fdca26\"],[1.0,\"#f0f921\"]]}],\"heatmap\":[{\"type\":\"heatmap\",\"colorbar\":{\"outlinewidth\":0,\"ticks\":\"\"},\"colorscale\":[[0.0,\"#0d0887\"],[0.1111111111111111,\"#46039f\"],[0.2222222222222222,\"#7201a8\"],[0.3333333333333333,\"#9c179e\"],[0.4444444444444444,\"#bd3786\"],[0.5555555555555556,\"#d8576b\"],[0.6666666666666666,\"#ed7953\"],[0.7777777777777778,\"#fb9f3a\"],[0.8888888888888888,\"#fdca26\"],[1.0,\"#f0f921\"]]}],\"heatmapgl\":[{\"type\":\"heatmapgl\",\"colorbar\":{\"outlinewidth\":0,\"ticks\":\"\"},\"colorscale\":[[0.0,\"#0d0887\"],[0.1111111111111111,\"#46039f\"],[0.2222222222222222,\"#7201a8\"],[0.3333333333333333,\"#9c179e\"],[0.4444444444444444,\"#bd3786\"],[0.5555555555555556,\"#d8576b\"],[0.6666666666666666,\"#ed7953\"],[0.7777777777777778,\"#fb9f3a\"],[0.8888888888888888,\"#fdca26\"],[1.0,\"#f0f921\"]]}],\"contourcarpet\":[{\"type\":\"contourcarpet\",\"colorbar\":{\"outlinewidth\":0,\"ticks\":\"\"}}],\"contour\":[{\"type\":\"contour\",\"colorbar\":{\"outlinewidth\":0,\"ticks\":\"\"},\"colorscale\":[[0.0,\"#0d0887\"],[0.1111111111111111,\"#46039f\"],[0.2222222222222222,\"#7201a8\"],[0.3333333333333333,\"#9c179e\"],[0.4444444444444444,\"#bd3786\"],[0.5555555555555556,\"#d8576b\"],[0.6666666666666666,\"#ed7953\"],[0.7777777777777778,\"#fb9f3a\"],[0.8888888888888888,\"#fdca26\"],[1.0,\"#f0f921\"]]}],\"surface\":[{\"type\":\"surface\",\"colorbar\":{\"outlinewidth\":0,\"ticks\":\"\"},\"colorscale\":[[0.0,\"#0d0887\"],[0.1111111111111111,\"#46039f\"],[0.2222222222222222,\"#7201a8\"],[0.3333333333333333,\"#9c179e\"],[0.4444444444444444,\"#bd3786\"],[0.5555555555555556,\"#d8576b\"],[0.6666666666666666,\"#ed7953\"],[0.7777777777777778,\"#fb9f3a\"],[0.8888888888888888,\"#fdca26\"],[1.0,\"#f0f921\"]]}],\"mesh3d\":[{\"type\":\"mesh3d\",\"colorbar\":{\"outlinewidth\":0,\"ticks\":\"\"}}],\"scatter\":[{\"fillpattern\":{\"fillmode\":\"overlay\",\"size\":10,\"solidity\":0.2},\"type\":\"scatter\"}],\"parcoords\":[{\"type\":\"parcoords\",\"line\":{\"colorbar\":{\"outlinewidth\":0,\"ticks\":\"\"}}}],\"scatterpolargl\":[{\"type\":\"scatterpolargl\",\"marker\":{\"colorbar\":{\"outlinewidth\":0,\"ticks\":\"\"}}}],\"bar\":[{\"error_x\":{\"color\":\"#2a3f5f\"},\"error_y\":{\"color\":\"#2a3f5f\"},\"marker\":{\"line\":{\"color\":\"#E5ECF6\",\"width\":0.5},\"pattern\":{\"fillmode\":\"overlay\",\"size\":10,\"solidity\":0.2}},\"type\":\"bar\"}],\"scattergeo\":[{\"type\":\"scattergeo\",\"marker\":{\"colorbar\":{\"outlinewidth\":0,\"ticks\":\"\"}}}],\"scatterpolar\":[{\"type\":\"scatterpolar\",\"marker\":{\"colorbar\":{\"outlinewidth\":0,\"ticks\":\"\"}}}],\"histogram\":[{\"marker\":{\"pattern\":{\"fillmode\":\"overlay\",\"size\":10,\"solidity\":0.2}},\"type\":\"histogram\"}],\"scattergl\":[{\"type\":\"scattergl\",\"marker\":{\"colorbar\":{\"outlinewidth\":0,\"ticks\":\"\"}}}],\"scatter3d\":[{\"type\":\"scatter3d\",\"line\":{\"colorbar\":{\"outlinewidth\":0,\"ticks\":\"\"}},\"marker\":{\"colorbar\":{\"outlinewidth\":0,\"ticks\":\"\"}}}],\"scattermapbox\":[{\"type\":\"scattermapbox\",\"marker\":{\"colorbar\":{\"outlinewidth\":0,\"ticks\":\"\"}}}],\"scatterternary\":[{\"type\":\"scatterternary\",\"marker\":{\"colorbar\":{\"outlinewidth\":0,\"ticks\":\"\"}}}],\"scattercarpet\":[{\"type\":\"scattercarpet\",\"marker\":{\"colorbar\":{\"outlinewidth\":0,\"ticks\":\"\"}}}],\"carpet\":[{\"aaxis\":{\"endlinecolor\":\"#2a3f5f\",\"gridcolor\":\"white\",\"linecolor\":\"white\",\"minorgridcolor\":\"white\",\"startlinecolor\":\"#2a3f5f\"},\"baxis\":{\"endlinecolor\":\"#2a3f5f\",\"gridcolor\":\"white\",\"linecolor\":\"white\",\"minorgridcolor\":\"white\",\"startlinecolor\":\"#2a3f5f\"},\"type\":\"carpet\"}],\"table\":[{\"cells\":{\"fill\":{\"color\":\"#EBF0F8\"},\"line\":{\"color\":\"white\"}},\"header\":{\"fill\":{\"color\":\"#C8D4E3\"},\"line\":{\"color\":\"white\"}},\"type\":\"table\"}],\"barpolar\":[{\"marker\":{\"line\":{\"color\":\"#E5ECF6\",\"width\":0.5},\"pattern\":{\"fillmode\":\"overlay\",\"size\":10,\"solidity\":0.2}},\"type\":\"barpolar\"}],\"pie\":[{\"automargin\":true,\"type\":\"pie\"}]},\"layout\":{\"autotypenumbers\":\"strict\",\"colorway\":[\"#636efa\",\"#EF553B\",\"#00cc96\",\"#ab63fa\",\"#FFA15A\",\"#19d3f3\",\"#FF6692\",\"#B6E880\",\"#FF97FF\",\"#FECB52\"],\"font\":{\"color\":\"#2a3f5f\"},\"hovermode\":\"closest\",\"hoverlabel\":{\"align\":\"left\"},\"paper_bgcolor\":\"white\",\"plot_bgcolor\":\"#E5ECF6\",\"polar\":{\"bgcolor\":\"#E5ECF6\",\"angularaxis\":{\"gridcolor\":\"white\",\"linecolor\":\"white\",\"ticks\":\"\"},\"radialaxis\":{\"gridcolor\":\"white\",\"linecolor\":\"white\",\"ticks\":\"\"}},\"ternary\":{\"bgcolor\":\"#E5ECF6\",\"aaxis\":{\"gridcolor\":\"white\",\"linecolor\":\"white\",\"ticks\":\"\"},\"baxis\":{\"gridcolor\":\"white\",\"linecolor\":\"white\",\"ticks\":\"\"},\"caxis\":{\"gridcolor\":\"white\",\"linecolor\":\"white\",\"ticks\":\"\"}},\"coloraxis\":{\"colorbar\":{\"outlinewidth\":0,\"ticks\":\"\"}},\"colorscale\":{\"sequential\":[[0.0,\"#0d0887\"],[0.1111111111111111,\"#46039f\"],[0.2222222222222222,\"#7201a8\"],[0.3333333333333333,\"#9c179e\"],[0.4444444444444444,\"#bd3786\"],[0.5555555555555556,\"#d8576b\"],[0.6666666666666666,\"#ed7953\"],[0.7777777777777778,\"#fb9f3a\"],[0.8888888888888888,\"#fdca26\"],[1.0,\"#f0f921\"]],\"sequentialminus\":[[0.0,\"#0d0887\"],[0.1111111111111111,\"#46039f\"],[0.2222222222222222,\"#7201a8\"],[0.3333333333333333,\"#9c179e\"],[0.4444444444444444,\"#bd3786\"],[0.5555555555555556,\"#d8576b\"],[0.6666666666666666,\"#ed7953\"],[0.7777777777777778,\"#fb9f3a\"],[0.8888888888888888,\"#fdca26\"],[1.0,\"#f0f921\"]],\"diverging\":[[0,\"#8e0152\"],[0.1,\"#c51b7d\"],[0.2,\"#de77ae\"],[0.3,\"#f1b6da\"],[0.4,\"#fde0ef\"],[0.5,\"#f7f7f7\"],[0.6,\"#e6f5d0\"],[0.7,\"#b8e186\"],[0.8,\"#7fbc41\"],[0.9,\"#4d9221\"],[1,\"#276419\"]]},\"xaxis\":{\"gridcolor\":\"white\",\"linecolor\":\"white\",\"ticks\":\"\",\"title\":{\"standoff\":15},\"zerolinecolor\":\"white\",\"automargin\":true,\"zerolinewidth\":2},\"yaxis\":{\"gridcolor\":\"white\",\"linecolor\":\"white\",\"ticks\":\"\",\"title\":{\"standoff\":15},\"zerolinecolor\":\"white\",\"automargin\":true,\"zerolinewidth\":2},\"scene\":{\"xaxis\":{\"backgroundcolor\":\"#E5ECF6\",\"gridcolor\":\"white\",\"linecolor\":\"white\",\"showbackground\":true,\"ticks\":\"\",\"zerolinecolor\":\"white\",\"gridwidth\":2},\"yaxis\":{\"backgroundcolor\":\"#E5ECF6\",\"gridcolor\":\"white\",\"linecolor\":\"white\",\"showbackground\":true,\"ticks\":\"\",\"zerolinecolor\":\"white\",\"gridwidth\":2},\"zaxis\":{\"backgroundcolor\":\"#E5ECF6\",\"gridcolor\":\"white\",\"linecolor\":\"white\",\"showbackground\":true,\"ticks\":\"\",\"zerolinecolor\":\"white\",\"gridwidth\":2}},\"shapedefaults\":{\"line\":{\"color\":\"#2a3f5f\"}},\"annotationdefaults\":{\"arrowcolor\":\"#2a3f5f\",\"arrowhead\":0,\"arrowwidth\":1},\"geo\":{\"bgcolor\":\"white\",\"landcolor\":\"#E5ECF6\",\"subunitcolor\":\"white\",\"showland\":true,\"showlakes\":true,\"lakecolor\":\"white\"},\"title\":{\"x\":0.05},\"mapbox\":{\"style\":\"light\"}}},\"scene\":{\"domain\":{\"x\":[0.0,1.0],\"y\":[0.0,1.0]},\"xaxis\":{\"title\":{\"text\":\"x\"}},\"yaxis\":{\"title\":{\"text\":\"y\"}},\"zaxis\":{\"title\":{\"text\":\"z\"}}},\"legend\":{\"tracegroupgap\":0},\"margin\":{\"t\":60}},                        {\"responsive\": true}                    ).then(function(){\n",
              "                            \n",
              "var gd = document.getElementById('434cd477-5683-4406-8113-907426720c3a');\n",
              "var x = new MutationObserver(function (mutations, observer) {{\n",
              "        var display = window.getComputedStyle(gd).display;\n",
              "        if (!display || display === 'none') {{\n",
              "            console.log([gd, 'removed!']);\n",
              "            Plotly.purge(gd);\n",
              "            observer.disconnect();\n",
              "        }}\n",
              "}});\n",
              "\n",
              "// Listen for the removal of the full notebook cells\n",
              "var notebookContainer = gd.closest('#notebook-container');\n",
              "if (notebookContainer) {{\n",
              "    x.observe(notebookContainer, {childList: true});\n",
              "}}\n",
              "\n",
              "// Listen for the clearing of the current output cell\n",
              "var outputEl = gd.closest('.output');\n",
              "if (outputEl) {{\n",
              "    x.observe(outputEl, {childList: true});\n",
              "}}\n",
              "\n",
              "                        })                };                            </script>        </div>\n",
              "</body>\n",
              "</html>"
            ]
          },
          "metadata": {}
        }
      ],
      "source": [
        "data = {\n",
        "    'x': pca_result[:, 0],\n",
        "    'y': pca_result[:, 1],\n",
        "    'z': pca_result[:, 2],\n",
        "    'word': plot_words\n",
        "}\n",
        "\n",
        "fig = px.scatter_3d(data, x='x', y='y', z='z', text='word')\n",
        "\n",
        "fig.update_traces(marker=dict(size=8))\n",
        "\n",
        "fig.show()"
      ]
    },
    {
      "cell_type": "markdown",
      "source": [
        "# PCA plot of words similar to phone in the corpus"
      ],
      "metadata": {
        "id": "m61pKT_Bk1X2"
      }
    },
    {
      "cell_type": "code",
      "execution_count": null,
      "metadata": {
        "colab": {
          "base_uri": "https://localhost:8080/",
          "height": 559
        },
        "id": "VR5753vr5I2v",
        "outputId": "4d874015-9e07-48c8-a661-03a64b45ec7e"
      },
      "outputs": [
        {
          "output_type": "stream",
          "name": "stdout",
          "text": [
            "['phone', 'a', 'to', 'the', 'in', 'is', 'classroom', 'of']\n"
          ]
        },
        {
          "output_type": "display_data",
          "data": {
            "text/html": [
              "<html>\n",
              "<head><meta charset=\"utf-8\" /></head>\n",
              "<body>\n",
              "    <div>            <script src=\"https://cdnjs.cloudflare.com/ajax/libs/mathjax/2.7.5/MathJax.js?config=TeX-AMS-MML_SVG\"></script><script type=\"text/javascript\">if (window.MathJax && window.MathJax.Hub && window.MathJax.Hub.Config) {window.MathJax.Hub.Config({SVG: {font: \"STIX-Web\"}});}</script>                <script type=\"text/javascript\">window.PlotlyConfig = {MathJaxConfig: 'local'};</script>\n",
              "        <script charset=\"utf-8\" src=\"https://cdn.plot.ly/plotly-2.24.1.min.js\"></script>                <div id=\"84b7afba-2cff-4a25-81c7-114211240029\" class=\"plotly-graph-div\" style=\"height:525px; width:100%;\"></div>            <script type=\"text/javascript\">                                    window.PLOTLYENV=window.PLOTLYENV || {};                                    if (document.getElementById(\"84b7afba-2cff-4a25-81c7-114211240029\")) {                    Plotly.newPlot(                        \"84b7afba-2cff-4a25-81c7-114211240029\",                        [{\"hovertemplate\":\"x=%{x}\\u003cbr\\u003ey=%{y}\\u003cbr\\u003ez=%{z}\\u003cbr\\u003eword=%{text}\\u003cextra\\u003e\\u003c\\u002fextra\\u003e\",\"legendgroup\":\"\",\"marker\":{\"color\":\"#636efa\",\"symbol\":\"circle\",\"size\":8},\"mode\":\"markers+text\",\"name\":\"\",\"scene\":\"scene\",\"showlegend\":false,\"text\":[\"phone\",\"a\",\"to\",\"the\",\"in\",\"is\",\"classroom\",\"of\"],\"x\":[-0.7828691601753235,-0.7334874868392944,1.2945077419281006,-0.4329153299331665,-0.40478774905204773,1.3734861612319946,0.9877274036407471,-1.3016611337661743],\"y\":[-0.5784547924995422,-0.41895967721939087,0.8157403469085693,1.507063388824463,-0.6324881911277771,-0.40822747349739075,-0.5370794534683228,0.25240591168403625],\"z\":[-0.6677918434143066,-0.3265225291252136,-0.5130833387374878,0.004971982445567846,-0.307248055934906,-0.10236027091741562,1.0522849559783936,0.859748899936676],\"type\":\"scatter3d\"}],                        {\"template\":{\"data\":{\"histogram2dcontour\":[{\"type\":\"histogram2dcontour\",\"colorbar\":{\"outlinewidth\":0,\"ticks\":\"\"},\"colorscale\":[[0.0,\"#0d0887\"],[0.1111111111111111,\"#46039f\"],[0.2222222222222222,\"#7201a8\"],[0.3333333333333333,\"#9c179e\"],[0.4444444444444444,\"#bd3786\"],[0.5555555555555556,\"#d8576b\"],[0.6666666666666666,\"#ed7953\"],[0.7777777777777778,\"#fb9f3a\"],[0.8888888888888888,\"#fdca26\"],[1.0,\"#f0f921\"]]}],\"choropleth\":[{\"type\":\"choropleth\",\"colorbar\":{\"outlinewidth\":0,\"ticks\":\"\"}}],\"histogram2d\":[{\"type\":\"histogram2d\",\"colorbar\":{\"outlinewidth\":0,\"ticks\":\"\"},\"colorscale\":[[0.0,\"#0d0887\"],[0.1111111111111111,\"#46039f\"],[0.2222222222222222,\"#7201a8\"],[0.3333333333333333,\"#9c179e\"],[0.4444444444444444,\"#bd3786\"],[0.5555555555555556,\"#d8576b\"],[0.6666666666666666,\"#ed7953\"],[0.7777777777777778,\"#fb9f3a\"],[0.8888888888888888,\"#fdca26\"],[1.0,\"#f0f921\"]]}],\"heatmap\":[{\"type\":\"heatmap\",\"colorbar\":{\"outlinewidth\":0,\"ticks\":\"\"},\"colorscale\":[[0.0,\"#0d0887\"],[0.1111111111111111,\"#46039f\"],[0.2222222222222222,\"#7201a8\"],[0.3333333333333333,\"#9c179e\"],[0.4444444444444444,\"#bd3786\"],[0.5555555555555556,\"#d8576b\"],[0.6666666666666666,\"#ed7953\"],[0.7777777777777778,\"#fb9f3a\"],[0.8888888888888888,\"#fdca26\"],[1.0,\"#f0f921\"]]}],\"heatmapgl\":[{\"type\":\"heatmapgl\",\"colorbar\":{\"outlinewidth\":0,\"ticks\":\"\"},\"colorscale\":[[0.0,\"#0d0887\"],[0.1111111111111111,\"#46039f\"],[0.2222222222222222,\"#7201a8\"],[0.3333333333333333,\"#9c179e\"],[0.4444444444444444,\"#bd3786\"],[0.5555555555555556,\"#d8576b\"],[0.6666666666666666,\"#ed7953\"],[0.7777777777777778,\"#fb9f3a\"],[0.8888888888888888,\"#fdca26\"],[1.0,\"#f0f921\"]]}],\"contourcarpet\":[{\"type\":\"contourcarpet\",\"colorbar\":{\"outlinewidth\":0,\"ticks\":\"\"}}],\"contour\":[{\"type\":\"contour\",\"colorbar\":{\"outlinewidth\":0,\"ticks\":\"\"},\"colorscale\":[[0.0,\"#0d0887\"],[0.1111111111111111,\"#46039f\"],[0.2222222222222222,\"#7201a8\"],[0.3333333333333333,\"#9c179e\"],[0.4444444444444444,\"#bd3786\"],[0.5555555555555556,\"#d8576b\"],[0.6666666666666666,\"#ed7953\"],[0.7777777777777778,\"#fb9f3a\"],[0.8888888888888888,\"#fdca26\"],[1.0,\"#f0f921\"]]}],\"surface\":[{\"type\":\"surface\",\"colorbar\":{\"outlinewidth\":0,\"ticks\":\"\"},\"colorscale\":[[0.0,\"#0d0887\"],[0.1111111111111111,\"#46039f\"],[0.2222222222222222,\"#7201a8\"],[0.3333333333333333,\"#9c179e\"],[0.4444444444444444,\"#bd3786\"],[0.5555555555555556,\"#d8576b\"],[0.6666666666666666,\"#ed7953\"],[0.7777777777777778,\"#fb9f3a\"],[0.8888888888888888,\"#fdca26\"],[1.0,\"#f0f921\"]]}],\"mesh3d\":[{\"type\":\"mesh3d\",\"colorbar\":{\"outlinewidth\":0,\"ticks\":\"\"}}],\"scatter\":[{\"fillpattern\":{\"fillmode\":\"overlay\",\"size\":10,\"solidity\":0.2},\"type\":\"scatter\"}],\"parcoords\":[{\"type\":\"parcoords\",\"line\":{\"colorbar\":{\"outlinewidth\":0,\"ticks\":\"\"}}}],\"scatterpolargl\":[{\"type\":\"scatterpolargl\",\"marker\":{\"colorbar\":{\"outlinewidth\":0,\"ticks\":\"\"}}}],\"bar\":[{\"error_x\":{\"color\":\"#2a3f5f\"},\"error_y\":{\"color\":\"#2a3f5f\"},\"marker\":{\"line\":{\"color\":\"#E5ECF6\",\"width\":0.5},\"pattern\":{\"fillmode\":\"overlay\",\"size\":10,\"solidity\":0.2}},\"type\":\"bar\"}],\"scattergeo\":[{\"type\":\"scattergeo\",\"marker\":{\"colorbar\":{\"outlinewidth\":0,\"ticks\":\"\"}}}],\"scatterpolar\":[{\"type\":\"scatterpolar\",\"marker\":{\"colorbar\":{\"outlinewidth\":0,\"ticks\":\"\"}}}],\"histogram\":[{\"marker\":{\"pattern\":{\"fillmode\":\"overlay\",\"size\":10,\"solidity\":0.2}},\"type\":\"histogram\"}],\"scattergl\":[{\"type\":\"scattergl\",\"marker\":{\"colorbar\":{\"outlinewidth\":0,\"ticks\":\"\"}}}],\"scatter3d\":[{\"type\":\"scatter3d\",\"line\":{\"colorbar\":{\"outlinewidth\":0,\"ticks\":\"\"}},\"marker\":{\"colorbar\":{\"outlinewidth\":0,\"ticks\":\"\"}}}],\"scattermapbox\":[{\"type\":\"scattermapbox\",\"marker\":{\"colorbar\":{\"outlinewidth\":0,\"ticks\":\"\"}}}],\"scatterternary\":[{\"type\":\"scatterternary\",\"marker\":{\"colorbar\":{\"outlinewidth\":0,\"ticks\":\"\"}}}],\"scattercarpet\":[{\"type\":\"scattercarpet\",\"marker\":{\"colorbar\":{\"outlinewidth\":0,\"ticks\":\"\"}}}],\"carpet\":[{\"aaxis\":{\"endlinecolor\":\"#2a3f5f\",\"gridcolor\":\"white\",\"linecolor\":\"white\",\"minorgridcolor\":\"white\",\"startlinecolor\":\"#2a3f5f\"},\"baxis\":{\"endlinecolor\":\"#2a3f5f\",\"gridcolor\":\"white\",\"linecolor\":\"white\",\"minorgridcolor\":\"white\",\"startlinecolor\":\"#2a3f5f\"},\"type\":\"carpet\"}],\"table\":[{\"cells\":{\"fill\":{\"color\":\"#EBF0F8\"},\"line\":{\"color\":\"white\"}},\"header\":{\"fill\":{\"color\":\"#C8D4E3\"},\"line\":{\"color\":\"white\"}},\"type\":\"table\"}],\"barpolar\":[{\"marker\":{\"line\":{\"color\":\"#E5ECF6\",\"width\":0.5},\"pattern\":{\"fillmode\":\"overlay\",\"size\":10,\"solidity\":0.2}},\"type\":\"barpolar\"}],\"pie\":[{\"automargin\":true,\"type\":\"pie\"}]},\"layout\":{\"autotypenumbers\":\"strict\",\"colorway\":[\"#636efa\",\"#EF553B\",\"#00cc96\",\"#ab63fa\",\"#FFA15A\",\"#19d3f3\",\"#FF6692\",\"#B6E880\",\"#FF97FF\",\"#FECB52\"],\"font\":{\"color\":\"#2a3f5f\"},\"hovermode\":\"closest\",\"hoverlabel\":{\"align\":\"left\"},\"paper_bgcolor\":\"white\",\"plot_bgcolor\":\"#E5ECF6\",\"polar\":{\"bgcolor\":\"#E5ECF6\",\"angularaxis\":{\"gridcolor\":\"white\",\"linecolor\":\"white\",\"ticks\":\"\"},\"radialaxis\":{\"gridcolor\":\"white\",\"linecolor\":\"white\",\"ticks\":\"\"}},\"ternary\":{\"bgcolor\":\"#E5ECF6\",\"aaxis\":{\"gridcolor\":\"white\",\"linecolor\":\"white\",\"ticks\":\"\"},\"baxis\":{\"gridcolor\":\"white\",\"linecolor\":\"white\",\"ticks\":\"\"},\"caxis\":{\"gridcolor\":\"white\",\"linecolor\":\"white\",\"ticks\":\"\"}},\"coloraxis\":{\"colorbar\":{\"outlinewidth\":0,\"ticks\":\"\"}},\"colorscale\":{\"sequential\":[[0.0,\"#0d0887\"],[0.1111111111111111,\"#46039f\"],[0.2222222222222222,\"#7201a8\"],[0.3333333333333333,\"#9c179e\"],[0.4444444444444444,\"#bd3786\"],[0.5555555555555556,\"#d8576b\"],[0.6666666666666666,\"#ed7953\"],[0.7777777777777778,\"#fb9f3a\"],[0.8888888888888888,\"#fdca26\"],[1.0,\"#f0f921\"]],\"sequentialminus\":[[0.0,\"#0d0887\"],[0.1111111111111111,\"#46039f\"],[0.2222222222222222,\"#7201a8\"],[0.3333333333333333,\"#9c179e\"],[0.4444444444444444,\"#bd3786\"],[0.5555555555555556,\"#d8576b\"],[0.6666666666666666,\"#ed7953\"],[0.7777777777777778,\"#fb9f3a\"],[0.8888888888888888,\"#fdca26\"],[1.0,\"#f0f921\"]],\"diverging\":[[0,\"#8e0152\"],[0.1,\"#c51b7d\"],[0.2,\"#de77ae\"],[0.3,\"#f1b6da\"],[0.4,\"#fde0ef\"],[0.5,\"#f7f7f7\"],[0.6,\"#e6f5d0\"],[0.7,\"#b8e186\"],[0.8,\"#7fbc41\"],[0.9,\"#4d9221\"],[1,\"#276419\"]]},\"xaxis\":{\"gridcolor\":\"white\",\"linecolor\":\"white\",\"ticks\":\"\",\"title\":{\"standoff\":15},\"zerolinecolor\":\"white\",\"automargin\":true,\"zerolinewidth\":2},\"yaxis\":{\"gridcolor\":\"white\",\"linecolor\":\"white\",\"ticks\":\"\",\"title\":{\"standoff\":15},\"zerolinecolor\":\"white\",\"automargin\":true,\"zerolinewidth\":2},\"scene\":{\"xaxis\":{\"backgroundcolor\":\"#E5ECF6\",\"gridcolor\":\"white\",\"linecolor\":\"white\",\"showbackground\":true,\"ticks\":\"\",\"zerolinecolor\":\"white\",\"gridwidth\":2},\"yaxis\":{\"backgroundcolor\":\"#E5ECF6\",\"gridcolor\":\"white\",\"linecolor\":\"white\",\"showbackground\":true,\"ticks\":\"\",\"zerolinecolor\":\"white\",\"gridwidth\":2},\"zaxis\":{\"backgroundcolor\":\"#E5ECF6\",\"gridcolor\":\"white\",\"linecolor\":\"white\",\"showbackground\":true,\"ticks\":\"\",\"zerolinecolor\":\"white\",\"gridwidth\":2}},\"shapedefaults\":{\"line\":{\"color\":\"#2a3f5f\"}},\"annotationdefaults\":{\"arrowcolor\":\"#2a3f5f\",\"arrowhead\":0,\"arrowwidth\":1},\"geo\":{\"bgcolor\":\"white\",\"landcolor\":\"#E5ECF6\",\"subunitcolor\":\"white\",\"showland\":true,\"showlakes\":true,\"lakecolor\":\"white\"},\"title\":{\"x\":0.05},\"mapbox\":{\"style\":\"light\"}}},\"scene\":{\"domain\":{\"x\":[0.0,1.0],\"y\":[0.0,1.0]},\"xaxis\":{\"title\":{\"text\":\"x\"}},\"yaxis\":{\"title\":{\"text\":\"y\"}},\"zaxis\":{\"title\":{\"text\":\"z\"}}},\"legend\":{\"tracegroupgap\":0},\"margin\":{\"t\":60}},                        {\"responsive\": true}                    ).then(function(){\n",
              "                            \n",
              "var gd = document.getElementById('84b7afba-2cff-4a25-81c7-114211240029');\n",
              "var x = new MutationObserver(function (mutations, observer) {{\n",
              "        var display = window.getComputedStyle(gd).display;\n",
              "        if (!display || display === 'none') {{\n",
              "            console.log([gd, 'removed!']);\n",
              "            Plotly.purge(gd);\n",
              "            observer.disconnect();\n",
              "        }}\n",
              "}});\n",
              "\n",
              "// Listen for the removal of the full notebook cells\n",
              "var notebookContainer = gd.closest('#notebook-container');\n",
              "if (notebookContainer) {{\n",
              "    x.observe(notebookContainer, {childList: true});\n",
              "}}\n",
              "\n",
              "// Listen for the clearing of the current output cell\n",
              "var outputEl = gd.closest('.output');\n",
              "if (outputEl) {{\n",
              "    x.observe(outputEl, {childList: true});\n",
              "}}\n",
              "\n",
              "                        })                };                            </script>        </div>\n",
              "</body>\n",
              "</html>"
            ]
          },
          "metadata": {}
        }
      ],
      "source": [
        "def cosine_similarity(v1, v2):\n",
        "    dot_product = np.dot(v1, v2)\n",
        "    norm_v1 = np.linalg.norm(v1)\n",
        "    norm_v2 = np.linalg.norm(v2)\n",
        "    return dot_product / (norm_v1 * norm_v2)\n",
        "\n",
        "target = \"phone\"\n",
        "word_vector_target = W2[word2idx[target]].detach().numpy()\n",
        "similar_words = [target]\n",
        "for i in range(vocabulary_size):\n",
        "    if idx2word[i] == target:\n",
        "        continue\n",
        "    else:\n",
        "        word_vector_current = W2[i].detach().numpy()\n",
        "        similarity = cosine_similarity(word_vector_current, word_vector_target)\n",
        "        #print(idx2word[i] + \":\", similarity)\n",
        "        if similarity> 0.8:\n",
        "          similar_words.append(idx2word[i])\n",
        "\n",
        "print(similar_words)\n",
        "word_matrix2 = np.array([W2[word2idx[word]].detach().numpy() for word in similar_words])\n",
        "num_components = 3  # Number of principal components to keep\n",
        "pca = PCA(n_components=num_components)\n",
        "pca_result = pca.fit_transform(word_matrix2)\n",
        "\n",
        "data = {\n",
        "    'x': pca_result[:, 0],\n",
        "    'y': pca_result[:, 1],\n",
        "    'z': pca_result[:, 2],\n",
        "    'word': similar_words\n",
        "}\n",
        "\n",
        "fig = px.scatter_3d(data, x='x', y='y', z='z', text='word')\n",
        "\n",
        "fig.update_traces(marker=dict(size=8))\n",
        "\n",
        "fig.show()"
      ]
    },
    {
      "cell_type": "markdown",
      "source": [
        "# PCA plot of vocabulary"
      ],
      "metadata": {
        "id": "RISRF18KlSnh"
      }
    },
    {
      "cell_type": "code",
      "execution_count": null,
      "metadata": {
        "colab": {
          "background_save": true,
          "base_uri": "https://localhost:8080/"
        },
        "id": "4-DbAuGdAUUy",
        "outputId": "5e9c2c8e-a89a-44d5-8c6c-f6a2e76ae697"
      },
      "outputs": [
        {
          "output_type": "display_data",
          "data": {
            "text/html": [
              "<html>\n",
              "<head><meta charset=\"utf-8\" /></head>\n",
              "<body>\n",
              "    <div>            <script src=\"https://cdnjs.cloudflare.com/ajax/libs/mathjax/2.7.5/MathJax.js?config=TeX-AMS-MML_SVG\"></script><script type=\"text/javascript\">if (window.MathJax && window.MathJax.Hub && window.MathJax.Hub.Config) {window.MathJax.Hub.Config({SVG: {font: \"STIX-Web\"}});}</script>                <script type=\"text/javascript\">window.PlotlyConfig = {MathJaxConfig: 'local'};</script>\n",
              "        <script charset=\"utf-8\" src=\"https://cdn.plot.ly/plotly-2.24.1.min.js\"></script>                <div id=\"6a19dfb4-fcae-4cfb-baa6-cf4e56847204\" class=\"plotly-graph-div\" style=\"height:525px; width:100%;\"></div>            <script type=\"text/javascript\">                                    window.PLOTLYENV=window.PLOTLYENV || {};                                    if (document.getElementById(\"6a19dfb4-fcae-4cfb-baa6-cf4e56847204\")) {                    Plotly.newPlot(                        \"6a19dfb4-fcae-4cfb-baa6-cf4e56847204\",                        [{\"hovertemplate\":\"x=%{x}\\u003cbr\\u003ey=%{y}\\u003cbr\\u003ez=%{z}\\u003cbr\\u003eword=%{text}\\u003cextra\\u003e\\u003c\\u002fextra\\u003e\",\"legendgroup\":\"\",\"marker\":{\"color\":\"#636efa\",\"symbol\":\"circle\",\"size\":8},\"mode\":\"markers+text\",\"name\":\"\",\"scene\":\"scene\",\"showlegend\":false,\"text\":[\"Cell\",\"phones\",\"have\",\"gone\",\"from\",\"a\",\"sought-after\",\"luxury\",\"to\",\"daily\",\"necessity\",\"While\",\"these\",\"devices\",\"provide\",\"convenient\",\"access\",\"the\",\"outside\",\"world\",\"they\",\"can\",\"be\",\"problematic\",\"for\",\"educators\",\"High\",\"school\",\"teachers\",\"tell\",\"children\",\"in\",\"their\",\"classes\",\"put\",\"away\",\"but\",\"should\",\"professors\",\"same\",\"control\",\"over\",\"adult\",\"men\",\"and\",\"women\",\"The\",\"key\",\"is\",\"create\",\"cell\",\"phone\",\"usage\",\"policies\",\"that\",\"limit\",\"distractions\",\"without\",\"hindering\",\"student\",\"rights\",\"primary\",\"argument\",\"supporting\",\"classroom\",\"fact\",\"distracting\",\"Not\",\"only\",\"do\",\"distract\",\"instructors\",\"may\",\"also\",\"students\",\"trying\",\"pay\",\"attention\",\"lecture\",\"This\",\"effect\",\"as\",\"moviegoer\",\"looking\",\"at\",\"his\",\"theater\",\"Even\",\"if\",\"makes\",\"no\",\"noise\",\"light\",\"screen\",\"enough\",\"catch\",\"someones\",\"Arguments\",\"against\",\"typically\",\"focus\",\"on\",\"safety\",\"concerns\",\"Should\",\"crisis\",\"occur\",\"hand\",\"make\",\"call\",\"If\",\"has\",\"child\",\"he\",\"or\",\"she\",\"need\",\"case\",\"of\",\"medical\",\"emergency\",\"work\",\"will\",\"list\",\"exceptionworthy\",\"scenarios\",\"endless\",\"best\",\"solution\",\"rules\",\"allow\",\"accessible\",\"disturbing\",\"other\",\"educational\",\"opportunities\",\"Students\",\"permitted\",\"keep\",\"bags\",\"pockets\",\"belongings\",\"long\",\"are\",\"silent\",\"class\",\"Vibrate\",\"settings\",\"instructor\",\"does\",\"not\",\"believe\",\"it\",\"him\",\"her\",\"since\",\"vibration\",\"noticeable\",\"large\",\"needs\",\"answer\",\"during\",\"an\",\"step\",\"out\",\"so\",\"setup\",\"would\",\"give\",\"peace\",\"mind\",\"restrictions\",\"classrooms\",\"include\",\"specific\",\"disciplinary\",\"actions\",\"breaking\",\"caught\",\"using\",\"excused\",\"rest\",\"day\",\"Professors\",\"refrain\",\"physically\",\"taking\",\"possession\",\"because\",\"liability\",\"conflicts\",\"damaged\",\"while\",\"could\",\"held\",\"responsible\",\"repairs\",\"It\",\"safer\",\"ask\",\"leave\",\"than\",\"take\",\"completely\",\"Each\",\"professor\",\"body\",\"different\",\"Colleges\",\"must\",\"adapt\",\"discipline\",\"efforts\",\"reflect\",\"current\",\"Eliminating\",\"college\",\"overstretch\",\"there\",\"ways\",\"balance\",\"With\",\"right\",\"amount\",\"flexibility\",\"colleges\",\"pleasant\",\"learning\",\"environment\",\"with\",\"maximum\",\"minimal\",\"interruptions\"],\"x\":[1.0688021183013916,3.1412405967712402,1.978346586227417,0.6851596236228943,2.03878116607666,3.6385715007781982,0.1305374652147293,-0.2625921368598938,3.408883571624756,-0.6021681427955627,-0.128917396068573,-1.780812382698059,-2.1320786476135254,-0.7764875292778015,-1.454704999923706,-1.7134534120559692,-0.32147181034088135,4.308448314666748,-1.1655579805374146,-1.1340006589889526,0.23617899417877197,0.9764611721038818,2.047152280807495,-1.0753542184829712,1.2929679155349731,-1.687150478363037,-1.6929740905761719,-0.3987691104412079,-1.4347894191741943,-1.0714104175567627,-1.0707656145095825,3.78605580329895,2.1691508293151855,-0.7942516803741455,-0.14914172887802124,0.5220250487327576,1.0615100860595703,3.022531032562256,1.35472571849823,0.5686260461807251,1.5942436456680298,-0.7352182865142822,-0.9870326519012451,-1.3156930208206177,-0.12241743505001068,-1.2101671695709229,0.04209629073739052,-0.8790346384048462,2.91463303565979,0.13239863514900208,1.8184434175491333,3.599168300628662,-0.32604876160621643,-1.1914299726486206,1.0314280986785889,-1.1582223176956177,-0.9696391224861145,-0.4824587106704712,-1.3887242078781128,1.4109069108963013,-0.7737139463424683,-0.9822378754615784,-0.5554050207138062,-0.16956670582294464,2.3950788974761963,0.6848626732826233,0.2622091770172119,-0.37609371542930603,-0.7283948659896851,0.7423718571662903,0.49820563197135925,0.1892002671957016,1.2157957553863525,0.12597660720348358,2.4307010173797607,-0.09556552022695541,-0.17544575035572052,-0.5142205357551575,-0.9225338697433472,0.15473966300487518,0.384727418422699,1.9036757946014404,0.8986879587173462,0.24305586516857147,0.42067021131515503,0.3492928147315979,0.4556296765804291,-0.18230055272579193,-0.3665275275707245,-0.5027263164520264,-0.057901304215192795,0.8780269026756287,0.31595808267593384,-0.4360113739967346,-0.41166016459465027,-0.6059429049491882,-0.5398271679878235,-1.002411961555481,-0.42788970470428467,-0.4918469488620758,-0.6173648834228516,1.9556553363800049,-1.268470287322998,-1.1673873662948608,0.896776020526886,1.022250771522522,1.230372428894043,0.6377416849136353,0.24234814941883087,1.0228631496429443,1.1179850101470947,-0.10019979625940323,0.13228292763233185,1.5939760208129883,3.073777914047241,1.0198100805282593,0.7287445664405823,0.6233893632888794,3.1593666076660156,0.43151989579200745,0.8741803169250488,0.33547934889793396,0.34734100103378296,-1.1062391996383667,-0.7202099561691284,-0.7644217014312744,-0.5257985591888428,-1.174328088760376,-0.9540649652481079,-0.25995126366615295,-0.8437883257865906,-0.6007899641990662,-0.6886770129203796,0.6766274571418762,-1.047536015510559,-0.7748768925666809,-0.45375174283981323,0.07697974890470505,0.5097125172615051,0.5186644196510315,0.4918532967567444,0.5781387686729431,0.7270189523696899,1.0966033935546875,0.6833943724632263,1.8918209075927734,-0.2444392889738083,-1.0519932508468628,-0.04208698123693466,-0.9311458468437195,0.24016180634498596,-1.4132232666015625,0.06616337597370148,-0.7627295851707458,-0.9446167945861816,-0.45982298254966736,0.09590158611536026,0.6918187737464905,0.36947599053382874,0.9170626997947693,0.6377406120300293,1.0914336442947388,1.1157218217849731,0.6492440104484558,0.47779542207717896,0.2766713798046112,-0.8887409567832947,-1.1947087049484253,-0.5312735438346863,-1.1908745765686035,-0.72330641746521,0.5461523532867432,0.9815453886985779,-0.4354023039340973,-0.3819676339626312,-0.4723103642463684,-0.57317715883255,-1.2619680166244507,0.7398192286491394,0.9122075438499451,0.7260908484458923,-0.08857346326112747,-0.07785461097955704,-0.11085695028305054,0.3553789258003235,0.17003916203975677,0.7941348552703857,1.4598573446273804,0.47065553069114685,0.18680931627750397,-0.20498421788215637,1.1298482418060303,1.1381418704986572,-0.6447418928146362,-0.5797432661056519,-0.6988766193389893,-1.4170515537261963,-0.7972419261932373,-0.4235811233520508,-0.3298664391040802,-0.1102106049656868,-0.4022609293460846,0.004222429823130369,-0.33295029401779175,-2.0304791927337646,-1.8342005014419556,-1.852620005607605,-1.8653550148010254,-1.5721869468688965,-1.9354808330535889,-2.144728899002075,-1.0872273445129395,-0.8023532032966614,-0.2869426906108856,-0.5401679873466492,-0.3837938904762268,0.5981510281562805,0.2107536643743515,-0.20525233447551727,-0.14650200307369232,-0.5707476735115051,-0.8879509568214417,-0.9255123138427734,-0.40420612692832947,-0.8216601014137268,-1.1410901546478271,-1.3264812231063843,-1.4006248712539673,-1.4792983531951904,-2.3058695793151855,-2.4216792583465576,-2.225289821624756,-1.9587048292160034],\"y\":[0.10639619082212448,0.1589287966489792,1.5005468130111694,1.480106234550476,-0.29555895924568176,0.1272600293159485,0.7761538624763489,0.8933201432228088,-0.5946345329284668,0.7189173698425293,0.6461431384086609,-1.3960191011428833,-1.5262634754180908,-1.3963637351989746,-2.2186639308929443,-2.23061466217041,-2.3760573863983154,-0.6914610266685486,-1.9216246604919434,-2.00799298286438,-2.0901119709014893,-1.0539963245391846,-1.697570562362671,-1.897500991821289,-1.7432111501693726,-1.7623826265335083,-0.28931236267089844,-0.8366978168487549,-0.10906101763248444,-0.19293788075447083,0.03847997635602951,-0.033180493861436844,0.48407700657844543,0.3046863377094269,0.4514431655406952,0.5893203616142273,-0.33422255516052246,-0.13423657417297363,1.2881278991699219,2.650181293487549,1.1140164136886597,2.0709965229034424,2.1787002086639404,1.6813218593597412,0.4119712710380554,2.2392172813415527,1.6213719844818115,1.74202561378479,0.4874459207057953,0.9309090971946716,0.5291839241981506,-0.10902594774961472,0.007966456934809685,1.091414213180542,-0.1612953245639801,0.15184342861175537,0.34230417013168335,-0.4840812683105469,-0.4765198826789856,-0.1329326182603836,0.7630046010017395,1.4499187469482422,1.5631623268127441,1.5637547969818115,-0.4456821084022522,-0.41236114501953125,-0.1307680457830429,-0.8650355935096741,-0.8479673862457275,-0.8444279432296753,-2.1569206714630127,-1.2246336936950684,-2.2032649517059326,-1.995169758796692,-0.5355228781700134,-1.765866756439209,-1.679291009902954,-1.190101146697998,-1.1421209573745728,0.7998268604278564,1.970497488975525,1.6596941947937012,1.811964988708496,1.5629966259002686,2.198092460632324,1.8146275281906128,0.970770001411438,-1.2776650190353394,-2.561997652053833,-1.1296321153640747,-0.895172655582428,-1.5039218664169312,-0.8033528327941895,-0.4078361988067627,0.2216419130563736,0.09727494418621063,0.055585406720638275,1.516235589981079,1.3074623346328735,1.7997663021087646,1.7282822132110596,1.0530626773834229,1.2922894954681396,2.0667293071746826,0.6975990533828735,0.24821659922599792,0.158891960978508,0.9566975831985474,0.9326472282409668,0.1808064728975296,1.30264151096344,-0.005689882207661867,-0.6098306179046631,-0.7674026489257812,-0.7716463208198547,-1.188617467880249,-1.1553170680999756,-0.4964779317378998,-0.3446696698665619,0.7427895069122314,-0.32512718439102173,-0.7089934945106506,-2.355003595352173,2.33933162689209,1.832174301147461,2.4575226306915283,1.206079363822937,1.4050079584121704,1.633683681488037,-0.2169617861509323,-0.11205385625362396,-0.7446736097335815,-0.7038994431495667,0.5115342736244202,-0.20008112490177155,0.3630182445049286,-0.9201207160949707,-1.7131750583648682,-0.11770021915435791,0.8154036998748779,1.41218101978302,1.0473434925079346,0.820646345615387,1.0237981081008911,0.8388858437538147,0.47117024660110474,-1.6356019973754883,-2.2513999938964844,-1.6697355508804321,-2.374284267425537,-2.323310136795044,-2.417912721633911,-1.621074914932251,-2.193178176879883,-2.124596118927002,-2.327165365219116,-1.640158772468567,-1.7307900190353394,-1.0138719081878662,0.24417343735694885,0.7004980444908142,-0.2377064973115921,0.04607133939862251,-0.7418748736381531,-1.0393177270889282,-0.4568100571632385,0.3915865123271942,-0.1503642499446869,-0.13878507912158966,-0.6436895728111267,-0.608246386051178,-0.13837428390979767,0.3679131865501404,-0.6767944097518921,-0.9517400860786438,-1.0635931491851807,-1.2483199834823608,-1.3371901512145996,1.0362887382507324,0.7924948930740356,-1.262237310409546,-1.1091116666793823,-0.8320178985595703,1.0010415315628052,0.6190288066864014,0.9054262638092041,0.507805585861206,0.3063274025917053,0.3634754717350006,0.37364816665649414,0.41671890020370483,1.0278010368347168,1.0017831325531006,-1.1248843669891357,-1.4218714237213135,-1.2199698686599731,-1.3492772579193115,-0.037791308015584946,-0.04135611280798912,0.025053605437278748,-0.15915648639202118,-0.2853575050830841,0.37489306926727295,0.026172667741775513,-0.22245410084724426,-0.1036951020359993,-0.16300620138645172,0.3376670181751251,1.0819965600967407,1.938588261604309,0.7229819297790527,0.6864757537841797,1.1879018545150757,0.45369940996170044,0.27862319350242615,0.9209372997283936,0.7926181554794312,0.9707906246185303,0.6631590127944946,0.7398843765258789,0.10592295974493027,1.0123177766799927,0.9982914328575134,1.29500412940979,0.9488258361816406,0.363201767206192,1.5206999778747559,1.0861366987228394,0.3686926066875458,0.8882937431335449,0.45029595494270325,1.4665167331695557,0.4705369174480438],\"z\":[-0.28999558091163635,1.8036112785339355,0.9214347004890442,-0.4153669476509094,-0.38053497672080994,1.0865588188171387,0.02361835353076458,-0.2715783417224884,3.0601179599761963,-0.7714086174964905,-0.6433363556861877,0.8287904858589172,0.9567802548408508,2.0098915100097656,0.5306993126869202,0.672441840171814,0.8214095234870911,2.0087504386901855,1.1771197319030762,0.5623725056648254,0.9178872108459473,2.2498180866241455,1.643080711364746,0.45127731561660767,0.49412742257118225,-0.131145641207695,1.1044714450836182,1.5990967750549316,0.9460421800613403,1.1063960790634155,1.1943650245666504,1.401520013809204,2.0416314601898193,0.9834878444671631,0.5611971020698547,0.17520715296268463,0.5775903463363647,0.3565695285797119,-0.8055830001831055,-0.9647431969642639,0.3454771935939789,0.05550758168101311,0.45367419719696045,0.26025107502937317,2.464552402496338,0.6136995553970337,0.8507923483848572,0.8455461263656616,2.32383131980896,2.0026001930236816,2.3420073986053467,1.6777477264404297,1.909411072731018,1.664313554763794,2.5675389766693115,2.149506092071533,2.066612958908081,2.0312917232513428,1.7001008987426758,1.976992130279541,1.6440281867980957,0.2796795070171356,0.28821107745170593,-0.3255118727684021,1.4505867958068848,1.209412932395935,-0.09944817423820496,0.47358062863349915,0.7688306570053101,0.33603981137275696,-0.5176406502723694,0.6846603155136108,0.7884671092033386,0.9203335046768188,0.768735945224762,-0.028521033003926277,0.24188904464244843,0.3027101457118988,0.18283428251743317,-0.6897882223129272,-1.6063438653945923,-2.047558546066284,-1.486033320426941,-1.9917787313461304,-1.7154772281646729,-1.025107979774475,-1.5294750928878784,-1.7094111442565918,-1.5108060836791992,-1.187333583831787,-1.0534073114395142,-1.6133599281311035,-1.6785202026367188,-0.5117506980895996,-0.7304764986038208,-0.8238064050674438,-0.9658429622650146,-0.7652336955070496,-0.8233245015144348,-1.1461423635482788,-1.0110077857971191,-0.4075697362422943,-0.7374333739280701,-0.4031371474266052,-0.8459349870681763,0.1113566979765892,-0.21413110196590424,-1.0539799928665161,0.19973035156726837,-0.33183664083480835,-0.4839745759963989,-0.3769585192203522,-0.45020782947540283,-0.6216413974761963,-0.06417656689882278,-0.27632400393486023,-1.2820833921432495,-1.3285619020462036,0.9168515205383301,-1.796615719795227,-1.2216002941131592,-0.7139445543289185,-1.499772071838379,-0.1914135217666626,-0.45599183440208435,-0.35850659012794495,-0.4674646556377411,1.4111461639404297,0.8149358630180359,2.556407928466797,1.9594889879226685,1.1312103271484375,-0.12990614771842957,0.15464875102043152,-0.22401933372020721,-0.0772714838385582,-0.08918794244527817,-0.4259134531021118,0.02402871660888195,-1.4709793329238892,-0.7316606640815735,-0.8678678870201111,-1.279120922088623,0.3843265771865845,-1.4633064270019531,-1.8657984733581543,-2.0141408443450928,-1.2370322942733765,-1.2354073524475098,-1.3792387247085571,-1.146490216255188,-1.838197112083435,-0.8767905235290527,-1.694378137588501,-1.0275280475616455,-1.084153652191162,-1.1362329721450806,-0.6821781396865845,-0.8340095281600952,1.312290072441101,-0.5893203020095825,-2.1044607162475586,-0.5245978832244873,-0.6097320914268494,-0.4031370282173157,-0.7352020144462585,-0.5178375244140625,-0.7443271279335022,-0.4152754545211792,-0.5321518182754517,0.12958721816539764,-0.9903653860092163,0.5501599907875061,-0.4390864372253418,-0.07110357284545898,0.48036354780197144,0.4514443278312683,0.3154977560043335,-0.5447621941566467,-5.5788372264942154e-05,-0.9137555956840515,-1.4436736106872559,-0.629288375377655,-1.3865845203399658,-1.8221685886383057,-1.8315808773040771,-1.2709077596664429,-0.7909289598464966,-1.8101332187652588,-1.7522244453430176,-1.5694794654846191,-1.7225720882415771,-1.0373365879058838,-0.895447313785553,-1.107576608657837,-0.7404001951217651,-1.0089755058288574,-0.0801907330751419,0.7369921803474426,0.00841058325022459,0.011773457750678062,-0.14703480899333954,-0.8120967149734497,-0.27874547243118286,1.3676741123199463,1.576202154159546,1.3991632461547852,1.2020868062973022,1.4285789728164673,1.375915765762329,1.2256485223770142,1.3644946813583374,1.0514678955078125,0.6604809761047363,0.5613277554512024,-0.21975786983966827,0.18769288063049316,-0.9860854744911194,0.1708965301513672,0.2181803584098816,0.2595435678958893,0.8443566560745239,-0.05517226457595825,0.20320431888103485,1.3033034801483154,1.0106544494628906,0.3580211400985718,0.7871555685997009,0.7168602347373962,-0.4414229989051819,-0.25758808851242065,0.15996325016021729,-0.10893455147743225],\"type\":\"scatter3d\"}],                        {\"template\":{\"data\":{\"histogram2dcontour\":[{\"type\":\"histogram2dcontour\",\"colorbar\":{\"outlinewidth\":0,\"ticks\":\"\"},\"colorscale\":[[0.0,\"#0d0887\"],[0.1111111111111111,\"#46039f\"],[0.2222222222222222,\"#7201a8\"],[0.3333333333333333,\"#9c179e\"],[0.4444444444444444,\"#bd3786\"],[0.5555555555555556,\"#d8576b\"],[0.6666666666666666,\"#ed7953\"],[0.7777777777777778,\"#fb9f3a\"],[0.8888888888888888,\"#fdca26\"],[1.0,\"#f0f921\"]]}],\"choropleth\":[{\"type\":\"choropleth\",\"colorbar\":{\"outlinewidth\":0,\"ticks\":\"\"}}],\"histogram2d\":[{\"type\":\"histogram2d\",\"colorbar\":{\"outlinewidth\":0,\"ticks\":\"\"},\"colorscale\":[[0.0,\"#0d0887\"],[0.1111111111111111,\"#46039f\"],[0.2222222222222222,\"#7201a8\"],[0.3333333333333333,\"#9c179e\"],[0.4444444444444444,\"#bd3786\"],[0.5555555555555556,\"#d8576b\"],[0.6666666666666666,\"#ed7953\"],[0.7777777777777778,\"#fb9f3a\"],[0.8888888888888888,\"#fdca26\"],[1.0,\"#f0f921\"]]}],\"heatmap\":[{\"type\":\"heatmap\",\"colorbar\":{\"outlinewidth\":0,\"ticks\":\"\"},\"colorscale\":[[0.0,\"#0d0887\"],[0.1111111111111111,\"#46039f\"],[0.2222222222222222,\"#7201a8\"],[0.3333333333333333,\"#9c179e\"],[0.4444444444444444,\"#bd3786\"],[0.5555555555555556,\"#d8576b\"],[0.6666666666666666,\"#ed7953\"],[0.7777777777777778,\"#fb9f3a\"],[0.8888888888888888,\"#fdca26\"],[1.0,\"#f0f921\"]]}],\"heatmapgl\":[{\"type\":\"heatmapgl\",\"colorbar\":{\"outlinewidth\":0,\"ticks\":\"\"},\"colorscale\":[[0.0,\"#0d0887\"],[0.1111111111111111,\"#46039f\"],[0.2222222222222222,\"#7201a8\"],[0.3333333333333333,\"#9c179e\"],[0.4444444444444444,\"#bd3786\"],[0.5555555555555556,\"#d8576b\"],[0.6666666666666666,\"#ed7953\"],[0.7777777777777778,\"#fb9f3a\"],[0.8888888888888888,\"#fdca26\"],[1.0,\"#f0f921\"]]}],\"contourcarpet\":[{\"type\":\"contourcarpet\",\"colorbar\":{\"outlinewidth\":0,\"ticks\":\"\"}}],\"contour\":[{\"type\":\"contour\",\"colorbar\":{\"outlinewidth\":0,\"ticks\":\"\"},\"colorscale\":[[0.0,\"#0d0887\"],[0.1111111111111111,\"#46039f\"],[0.2222222222222222,\"#7201a8\"],[0.3333333333333333,\"#9c179e\"],[0.4444444444444444,\"#bd3786\"],[0.5555555555555556,\"#d8576b\"],[0.6666666666666666,\"#ed7953\"],[0.7777777777777778,\"#fb9f3a\"],[0.8888888888888888,\"#fdca26\"],[1.0,\"#f0f921\"]]}],\"surface\":[{\"type\":\"surface\",\"colorbar\":{\"outlinewidth\":0,\"ticks\":\"\"},\"colorscale\":[[0.0,\"#0d0887\"],[0.1111111111111111,\"#46039f\"],[0.2222222222222222,\"#7201a8\"],[0.3333333333333333,\"#9c179e\"],[0.4444444444444444,\"#bd3786\"],[0.5555555555555556,\"#d8576b\"],[0.6666666666666666,\"#ed7953\"],[0.7777777777777778,\"#fb9f3a\"],[0.8888888888888888,\"#fdca26\"],[1.0,\"#f0f921\"]]}],\"mesh3d\":[{\"type\":\"mesh3d\",\"colorbar\":{\"outlinewidth\":0,\"ticks\":\"\"}}],\"scatter\":[{\"fillpattern\":{\"fillmode\":\"overlay\",\"size\":10,\"solidity\":0.2},\"type\":\"scatter\"}],\"parcoords\":[{\"type\":\"parcoords\",\"line\":{\"colorbar\":{\"outlinewidth\":0,\"ticks\":\"\"}}}],\"scatterpolargl\":[{\"type\":\"scatterpolargl\",\"marker\":{\"colorbar\":{\"outlinewidth\":0,\"ticks\":\"\"}}}],\"bar\":[{\"error_x\":{\"color\":\"#2a3f5f\"},\"error_y\":{\"color\":\"#2a3f5f\"},\"marker\":{\"line\":{\"color\":\"#E5ECF6\",\"width\":0.5},\"pattern\":{\"fillmode\":\"overlay\",\"size\":10,\"solidity\":0.2}},\"type\":\"bar\"}],\"scattergeo\":[{\"type\":\"scattergeo\",\"marker\":{\"colorbar\":{\"outlinewidth\":0,\"ticks\":\"\"}}}],\"scatterpolar\":[{\"type\":\"scatterpolar\",\"marker\":{\"colorbar\":{\"outlinewidth\":0,\"ticks\":\"\"}}}],\"histogram\":[{\"marker\":{\"pattern\":{\"fillmode\":\"overlay\",\"size\":10,\"solidity\":0.2}},\"type\":\"histogram\"}],\"scattergl\":[{\"type\":\"scattergl\",\"marker\":{\"colorbar\":{\"outlinewidth\":0,\"ticks\":\"\"}}}],\"scatter3d\":[{\"type\":\"scatter3d\",\"line\":{\"colorbar\":{\"outlinewidth\":0,\"ticks\":\"\"}},\"marker\":{\"colorbar\":{\"outlinewidth\":0,\"ticks\":\"\"}}}],\"scattermapbox\":[{\"type\":\"scattermapbox\",\"marker\":{\"colorbar\":{\"outlinewidth\":0,\"ticks\":\"\"}}}],\"scatterternary\":[{\"type\":\"scatterternary\",\"marker\":{\"colorbar\":{\"outlinewidth\":0,\"ticks\":\"\"}}}],\"scattercarpet\":[{\"type\":\"scattercarpet\",\"marker\":{\"colorbar\":{\"outlinewidth\":0,\"ticks\":\"\"}}}],\"carpet\":[{\"aaxis\":{\"endlinecolor\":\"#2a3f5f\",\"gridcolor\":\"white\",\"linecolor\":\"white\",\"minorgridcolor\":\"white\",\"startlinecolor\":\"#2a3f5f\"},\"baxis\":{\"endlinecolor\":\"#2a3f5f\",\"gridcolor\":\"white\",\"linecolor\":\"white\",\"minorgridcolor\":\"white\",\"startlinecolor\":\"#2a3f5f\"},\"type\":\"carpet\"}],\"table\":[{\"cells\":{\"fill\":{\"color\":\"#EBF0F8\"},\"line\":{\"color\":\"white\"}},\"header\":{\"fill\":{\"color\":\"#C8D4E3\"},\"line\":{\"color\":\"white\"}},\"type\":\"table\"}],\"barpolar\":[{\"marker\":{\"line\":{\"color\":\"#E5ECF6\",\"width\":0.5},\"pattern\":{\"fillmode\":\"overlay\",\"size\":10,\"solidity\":0.2}},\"type\":\"barpolar\"}],\"pie\":[{\"automargin\":true,\"type\":\"pie\"}]},\"layout\":{\"autotypenumbers\":\"strict\",\"colorway\":[\"#636efa\",\"#EF553B\",\"#00cc96\",\"#ab63fa\",\"#FFA15A\",\"#19d3f3\",\"#FF6692\",\"#B6E880\",\"#FF97FF\",\"#FECB52\"],\"font\":{\"color\":\"#2a3f5f\"},\"hovermode\":\"closest\",\"hoverlabel\":{\"align\":\"left\"},\"paper_bgcolor\":\"white\",\"plot_bgcolor\":\"#E5ECF6\",\"polar\":{\"bgcolor\":\"#E5ECF6\",\"angularaxis\":{\"gridcolor\":\"white\",\"linecolor\":\"white\",\"ticks\":\"\"},\"radialaxis\":{\"gridcolor\":\"white\",\"linecolor\":\"white\",\"ticks\":\"\"}},\"ternary\":{\"bgcolor\":\"#E5ECF6\",\"aaxis\":{\"gridcolor\":\"white\",\"linecolor\":\"white\",\"ticks\":\"\"},\"baxis\":{\"gridcolor\":\"white\",\"linecolor\":\"white\",\"ticks\":\"\"},\"caxis\":{\"gridcolor\":\"white\",\"linecolor\":\"white\",\"ticks\":\"\"}},\"coloraxis\":{\"colorbar\":{\"outlinewidth\":0,\"ticks\":\"\"}},\"colorscale\":{\"sequential\":[[0.0,\"#0d0887\"],[0.1111111111111111,\"#46039f\"],[0.2222222222222222,\"#7201a8\"],[0.3333333333333333,\"#9c179e\"],[0.4444444444444444,\"#bd3786\"],[0.5555555555555556,\"#d8576b\"],[0.6666666666666666,\"#ed7953\"],[0.7777777777777778,\"#fb9f3a\"],[0.8888888888888888,\"#fdca26\"],[1.0,\"#f0f921\"]],\"sequentialminus\":[[0.0,\"#0d0887\"],[0.1111111111111111,\"#46039f\"],[0.2222222222222222,\"#7201a8\"],[0.3333333333333333,\"#9c179e\"],[0.4444444444444444,\"#bd3786\"],[0.5555555555555556,\"#d8576b\"],[0.6666666666666666,\"#ed7953\"],[0.7777777777777778,\"#fb9f3a\"],[0.8888888888888888,\"#fdca26\"],[1.0,\"#f0f921\"]],\"diverging\":[[0,\"#8e0152\"],[0.1,\"#c51b7d\"],[0.2,\"#de77ae\"],[0.3,\"#f1b6da\"],[0.4,\"#fde0ef\"],[0.5,\"#f7f7f7\"],[0.6,\"#e6f5d0\"],[0.7,\"#b8e186\"],[0.8,\"#7fbc41\"],[0.9,\"#4d9221\"],[1,\"#276419\"]]},\"xaxis\":{\"gridcolor\":\"white\",\"linecolor\":\"white\",\"ticks\":\"\",\"title\":{\"standoff\":15},\"zerolinecolor\":\"white\",\"automargin\":true,\"zerolinewidth\":2},\"yaxis\":{\"gridcolor\":\"white\",\"linecolor\":\"white\",\"ticks\":\"\",\"title\":{\"standoff\":15},\"zerolinecolor\":\"white\",\"automargin\":true,\"zerolinewidth\":2},\"scene\":{\"xaxis\":{\"backgroundcolor\":\"#E5ECF6\",\"gridcolor\":\"white\",\"linecolor\":\"white\",\"showbackground\":true,\"ticks\":\"\",\"zerolinecolor\":\"white\",\"gridwidth\":2},\"yaxis\":{\"backgroundcolor\":\"#E5ECF6\",\"gridcolor\":\"white\",\"linecolor\":\"white\",\"showbackground\":true,\"ticks\":\"\",\"zerolinecolor\":\"white\",\"gridwidth\":2},\"zaxis\":{\"backgroundcolor\":\"#E5ECF6\",\"gridcolor\":\"white\",\"linecolor\":\"white\",\"showbackground\":true,\"ticks\":\"\",\"zerolinecolor\":\"white\",\"gridwidth\":2}},\"shapedefaults\":{\"line\":{\"color\":\"#2a3f5f\"}},\"annotationdefaults\":{\"arrowcolor\":\"#2a3f5f\",\"arrowhead\":0,\"arrowwidth\":1},\"geo\":{\"bgcolor\":\"white\",\"landcolor\":\"#E5ECF6\",\"subunitcolor\":\"white\",\"showland\":true,\"showlakes\":true,\"lakecolor\":\"white\"},\"title\":{\"x\":0.05},\"mapbox\":{\"style\":\"light\"}}},\"scene\":{\"domain\":{\"x\":[0.0,1.0],\"y\":[0.0,1.0]},\"xaxis\":{\"title\":{\"text\":\"x\"}},\"yaxis\":{\"title\":{\"text\":\"y\"}},\"zaxis\":{\"title\":{\"text\":\"z\"}}},\"legend\":{\"tracegroupgap\":0},\"margin\":{\"t\":60}},                        {\"responsive\": true}                    ).then(function(){\n",
              "                            \n",
              "var gd = document.getElementById('6a19dfb4-fcae-4cfb-baa6-cf4e56847204');\n",
              "var x = new MutationObserver(function (mutations, observer) {{\n",
              "        var display = window.getComputedStyle(gd).display;\n",
              "        if (!display || display === 'none') {{\n",
              "            console.log([gd, 'removed!']);\n",
              "            Plotly.purge(gd);\n",
              "            observer.disconnect();\n",
              "        }}\n",
              "}});\n",
              "\n",
              "// Listen for the removal of the full notebook cells\n",
              "var notebookContainer = gd.closest('#notebook-container');\n",
              "if (notebookContainer) {{\n",
              "    x.observe(notebookContainer, {childList: true});\n",
              "}}\n",
              "\n",
              "// Listen for the clearing of the current output cell\n",
              "var outputEl = gd.closest('.output');\n",
              "if (outputEl) {{\n",
              "    x.observe(outputEl, {childList: true});\n",
              "}}\n",
              "\n",
              "                        })                };                            </script>        </div>\n",
              "</body>\n",
              "</html>"
            ]
          },
          "metadata": {}
        }
      ],
      "source": [
        "word_matrix2 = np.array([W2[word2idx[word]].detach().numpy() for word in vocabulary])\n",
        "num_components = 3\n",
        "pca = PCA(n_components=num_components)\n",
        "pca_result = pca.fit_transform(word_matrix2)\n",
        "\n",
        "data = {\n",
        "    'x': pca_result[:, 0],\n",
        "    'y': pca_result[:, 1],\n",
        "    'z': pca_result[:, 2],\n",
        "    'word': vocabulary\n",
        "}\n",
        "\n",
        "fig = px.scatter_3d(data, x='x', y='y', z='z', text='word')\n",
        "\n",
        "fig.update_traces(marker=dict(size=8))\n",
        "\n",
        "fig.show()"
      ]
    },
    {
      "cell_type": "markdown",
      "source": [
        "# Evaluating Word Embeddings with Analogies"
      ],
      "metadata": {
        "id": "eR0R02fKmWt8"
      }
    },
    {
      "cell_type": "code",
      "execution_count": null,
      "metadata": {
        "colab": {
          "background_save": true,
          "base_uri": "https://localhost:8080/"
        },
        "id": "KHZPJCu4oJ3f",
        "outputId": "98b2b699-2407-4eb2-8e4f-3a957ee0f2c5"
      },
      "outputs": [
        {
          "output_type": "stream",
          "name": "stdout",
          "text": [
            "['men', 'women', 'student', 'student']\n",
            "PCA Vectors: \n",
            "[[ 2.2935963   0.930209  ]\n",
            " [ 2.4168978  -0.9061746 ]\n",
            " [-2.3552473  -0.01201725]\n",
            " [-2.3552473  -0.01201725]]\n"
          ]
        },
        {
          "output_type": "display_data",
          "data": {
            "text/plain": [
              "<Figure size 800x600 with 1 Axes>"
            ],
            "image/png": "[encoded data removed]"
          },
          "metadata": {}
        }
      ],
      "source": [
        "#student : classroom :: phone : x\n",
        "words = [\"men\", \"women\", \"student\"]\n",
        "\n",
        "target_vector = W2[word2idx[words[1]]].detach().numpy() - W2[word2idx[words[0]]].detach().numpy() + W2[word2idx[words[2]]].detach().numpy()\n",
        "highest_similarity = -1\n",
        "\n",
        "for i in range(vocabulary_size):\n",
        "      word_vector_current = W2[i].detach().numpy()\n",
        "      similarity = cosine_similarity(word_vector_current, target_vector)\n",
        "      if similarity> highest_similarity:\n",
        "        highest_similarity = similarity\n",
        "        predicted = idx2word[i]\n",
        "\n",
        "words.append(predicted)\n",
        "print(words)\n",
        "\n",
        "word_matrix = np.array([W2[word2idx[word]].detach().numpy() for word in words])\n",
        "num_components = 2\n",
        "pca = PCA(n_components=num_components)\n",
        "pca_result = pca.fit_transform(word_matrix)\n",
        "print(\"PCA Vectors: \\n\" + str(pca_result))\n",
        "plt.figure(figsize=(8, 6))\n",
        "plt.scatter(pca_result[:, 0], pca_result[:, 1], marker='o')\n",
        "\n",
        "for i, word in enumerate(words):\n",
        "    plt.annotate(word, (pca_result[i, 0], pca_result[i, 1]))\n",
        "\n",
        "plt.xlabel(\"Principal Component 1\")\n",
        "plt.ylabel(\"Principal Component 2\")\n",
        "plt.title(\"PCA Scatter Plot of Word Vectors\")\n",
        "\n",
        "plt.show()"
      ]
    }
  ],
  "metadata": {
    "colab": {
      "provenance": [],
      "authorship_tag": "ABX9TyNek/iMerF4cCPbbUFcqzNk",
      "include_colab_link": true
    },
    "kernelspec": {
      "display_name": "Python 3",
      "name": "python3"
    },
    "language_info": {
      "name": "python"
    }
  },
  "nbformat": 4,
  "nbformat_minor": 0
}